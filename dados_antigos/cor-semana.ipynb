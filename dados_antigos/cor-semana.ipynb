{
 "metadata": {
  "language_info": {
   "codemirror_mode": {
    "name": "ipython",
    "version": 3
   },
   "file_extension": ".py",
   "mimetype": "text/x-python",
   "name": "python",
   "nbconvert_exporter": "python",
   "pygments_lexer": "ipython3",
   "version": "3.7.3"
  },
  "orig_nbformat": 2,
  "kernelspec": {
   "name": "python373jvsc74a57bd0535f5171c715a0e97d7369109d670d6f9b39daf3ff35d9b2326d3a20b899b7ac",
   "display_name": "Python 3.7.3 64-bit ('base': conda)"
  }
 },
 "nbformat": 4,
 "nbformat_minor": 2,
 "cells": [
  {
   "cell_type": "code",
   "execution_count": 1,
   "metadata": {},
   "outputs": [],
   "source": [
    "import numpy as np #lib para cálculos e funções em arrays multidimensionais\n",
    "import pandas as pd #pandas - libpra manipulação e análise de dados de alta performance\n",
    "import seaborn as sb #lib pra dar um upgrade na visualização do matplotlib\n",
    "import matplotlib #lib para plotar gráficos\n",
    "import matplotlib.pyplot as plt\n",
    "sb.set_style('darkgrid') #definindo tema do seaborn (fundo mais escuro com grelhas)\n",
    "\n",
    "font = {'family' : 'normal', #definindo objeto para formatar a fonte\n",
    "        'size'   : 16}\n",
    "\n",
    "matplotlib.rc('font', **font) #aplicando a fonte padrão que queremos para o plot dos gráficos"
   ]
  },
  {
   "source": [
    "## 1 - INGESTÃO: Carregando primeiro Dataset ##   "
   ],
   "cell_type": "markdown",
   "metadata": {}
  },
  {
   "cell_type": "code",
   "execution_count": 2,
   "metadata": {},
   "outputs": [
    {
     "output_type": "stream",
     "name": "stdout",
     "text": [
      "\nTabela Original - Raça / Semana Epidemiológica\n"
     ]
    },
    {
     "output_type": "display_data",
     "data": {
      "text/plain": "             Cor SE_20 11_1ºÓbito Covid19 SE_20 12  SE_20 13 SE_20 14  \\\n0         Branca                        3       48       178      366   \n1          Preta                        -        2        15       56   \n2        Amarela                        -        2        10       16   \n3          Parda                        -        5        37      128   \n4       Indígena                        -        -         1        -   \n5  Não informado                        -        -        12       17   \n6          Total                        3       57       253      583   \n\n   SE_20 15 SE_20 16  SE_20 17 SE_20 18  SE_20 19  ...  SE_20 39  SE_20 40  \\\n0       445      452       519      656       620  ...       165       174   \n1        66       56        82      104        87  ...        27        22   \n2        18       21        31       24        30  ...         5         5   \n3       178      189       215      291       303  ...        55        54   \n4         2        -         1        -         2  ...         1         -   \n5        25       28        22       42        41  ...         8        11   \n6       734      746       870     1117      1083  ...       261       266   \n\n  SE_20 41  SE_20 42  SE_20 43  SE_20 44 SE_20 45 SE_20 46 SE_20 47  Total  \n0      128       101        89        79       92      124       51  12745  \n1       20        18        15         7       13       13        4   1903  \n2        4         7         4         3        2        5        3    471  \n3       53        45        30        27       28       36       18   4927  \n4        -         -         -         -        1        -        -     14  \n5        5         7         6         4        2        3        1    689  \n6      210       178       144       120      138      181       77  20749  \n\n[7 rows x 39 columns]",
      "text/html": "<div>\n<style scoped>\n    .dataframe tbody tr th:only-of-type {\n        vertical-align: middle;\n    }\n\n    .dataframe tbody tr th {\n        vertical-align: top;\n    }\n\n    .dataframe thead th {\n        text-align: right;\n    }\n</style>\n<table border=\"1\" class=\"dataframe\">\n  <thead>\n    <tr style=\"text-align: right;\">\n      <th></th>\n      <th>Cor</th>\n      <th>SE_20 11_1ºÓbito Covid19</th>\n      <th>SE_20 12</th>\n      <th>SE_20 13</th>\n      <th>SE_20 14</th>\n      <th>SE_20 15</th>\n      <th>SE_20 16</th>\n      <th>SE_20 17</th>\n      <th>SE_20 18</th>\n      <th>SE_20 19</th>\n      <th>...</th>\n      <th>SE_20 39</th>\n      <th>SE_20 40</th>\n      <th>SE_20 41</th>\n      <th>SE_20 42</th>\n      <th>SE_20 43</th>\n      <th>SE_20 44</th>\n      <th>SE_20 45</th>\n      <th>SE_20 46</th>\n      <th>SE_20 47</th>\n      <th>Total</th>\n    </tr>\n  </thead>\n  <tbody>\n    <tr>\n      <th>0</th>\n      <td>Branca</td>\n      <td>3</td>\n      <td>48</td>\n      <td>178</td>\n      <td>366</td>\n      <td>445</td>\n      <td>452</td>\n      <td>519</td>\n      <td>656</td>\n      <td>620</td>\n      <td>...</td>\n      <td>165</td>\n      <td>174</td>\n      <td>128</td>\n      <td>101</td>\n      <td>89</td>\n      <td>79</td>\n      <td>92</td>\n      <td>124</td>\n      <td>51</td>\n      <td>12745</td>\n    </tr>\n    <tr>\n      <th>1</th>\n      <td>Preta</td>\n      <td>-</td>\n      <td>2</td>\n      <td>15</td>\n      <td>56</td>\n      <td>66</td>\n      <td>56</td>\n      <td>82</td>\n      <td>104</td>\n      <td>87</td>\n      <td>...</td>\n      <td>27</td>\n      <td>22</td>\n      <td>20</td>\n      <td>18</td>\n      <td>15</td>\n      <td>7</td>\n      <td>13</td>\n      <td>13</td>\n      <td>4</td>\n      <td>1903</td>\n    </tr>\n    <tr>\n      <th>2</th>\n      <td>Amarela</td>\n      <td>-</td>\n      <td>2</td>\n      <td>10</td>\n      <td>16</td>\n      <td>18</td>\n      <td>21</td>\n      <td>31</td>\n      <td>24</td>\n      <td>30</td>\n      <td>...</td>\n      <td>5</td>\n      <td>5</td>\n      <td>4</td>\n      <td>7</td>\n      <td>4</td>\n      <td>3</td>\n      <td>2</td>\n      <td>5</td>\n      <td>3</td>\n      <td>471</td>\n    </tr>\n    <tr>\n      <th>3</th>\n      <td>Parda</td>\n      <td>-</td>\n      <td>5</td>\n      <td>37</td>\n      <td>128</td>\n      <td>178</td>\n      <td>189</td>\n      <td>215</td>\n      <td>291</td>\n      <td>303</td>\n      <td>...</td>\n      <td>55</td>\n      <td>54</td>\n      <td>53</td>\n      <td>45</td>\n      <td>30</td>\n      <td>27</td>\n      <td>28</td>\n      <td>36</td>\n      <td>18</td>\n      <td>4927</td>\n    </tr>\n    <tr>\n      <th>4</th>\n      <td>Indígena</td>\n      <td>-</td>\n      <td>-</td>\n      <td>1</td>\n      <td>-</td>\n      <td>2</td>\n      <td>-</td>\n      <td>1</td>\n      <td>-</td>\n      <td>2</td>\n      <td>...</td>\n      <td>1</td>\n      <td>-</td>\n      <td>-</td>\n      <td>-</td>\n      <td>-</td>\n      <td>-</td>\n      <td>1</td>\n      <td>-</td>\n      <td>-</td>\n      <td>14</td>\n    </tr>\n    <tr>\n      <th>5</th>\n      <td>Não informado</td>\n      <td>-</td>\n      <td>-</td>\n      <td>12</td>\n      <td>17</td>\n      <td>25</td>\n      <td>28</td>\n      <td>22</td>\n      <td>42</td>\n      <td>41</td>\n      <td>...</td>\n      <td>8</td>\n      <td>11</td>\n      <td>5</td>\n      <td>7</td>\n      <td>6</td>\n      <td>4</td>\n      <td>2</td>\n      <td>3</td>\n      <td>1</td>\n      <td>689</td>\n    </tr>\n    <tr>\n      <th>6</th>\n      <td>Total</td>\n      <td>3</td>\n      <td>57</td>\n      <td>253</td>\n      <td>583</td>\n      <td>734</td>\n      <td>746</td>\n      <td>870</td>\n      <td>1117</td>\n      <td>1083</td>\n      <td>...</td>\n      <td>261</td>\n      <td>266</td>\n      <td>210</td>\n      <td>178</td>\n      <td>144</td>\n      <td>120</td>\n      <td>138</td>\n      <td>181</td>\n      <td>77</td>\n      <td>20749</td>\n    </tr>\n  </tbody>\n</table>\n<p>7 rows × 39 columns</p>\n</div>"
     },
     "metadata": {}
    }
   ],
   "source": [
    "cor_se_temp = pd.read_csv('cor-semana-covid.csv', sep=';', encoding = \"ISO-8859-1\",skiprows=[0,1,2,3,12,13,14,15])\n",
    "\n",
    "print('\\nTabela Original - Raça / Semana Epidemiológica')\n",
    "\n",
    "display(cor_se_temp)"
   ]
  },
  {
   "source": [
    "## 2 - Tratamento dos dados"
   ],
   "cell_type": "markdown",
   "metadata": {}
  },
  {
   "cell_type": "code",
   "execution_count": 3,
   "metadata": {},
   "outputs": [
    {
     "output_type": "stream",
     "name": "stdout",
     "text": [
      "\nResultado do Primeiro Tratamento - Raça / Semana Epidemiológica\n"
     ]
    },
    {
     "output_type": "display_data",
     "data": {
      "text/plain": "   Cor  SE_20 11_1ºÓbito Covid19  SE_20 12  SE_20 13  SE_20 14  SE_20 15  \\\n0  0.0                       3.0      48.0       178     366.0       445   \n1  0.0                       0.0       2.0        15      56.0        66   \n2  0.0                       0.0       2.0        10      16.0        18   \n3  0.0                       0.0       5.0        37     128.0       178   \n4  0.0                       0.0       0.0         1       0.0         2   \n5  0.0                       0.0       0.0        12      17.0        25   \n6  0.0                       3.0      57.0       253     583.0       734   \n\n   SE_20 16  SE_20 17  SE_20 18  SE_20 19  ...  SE_20 39  SE_20 40  SE_20 41  \\\n0     452.0       519     656.0       620  ...       165     174.0     128.0   \n1      56.0        82     104.0        87  ...        27      22.0      20.0   \n2      21.0        31      24.0        30  ...         5       5.0       4.0   \n3     189.0       215     291.0       303  ...        55      54.0      53.0   \n4       0.0         1       0.0         2  ...         1       0.0       0.0   \n5      28.0        22      42.0        41  ...         8      11.0       5.0   \n6     746.0       870    1117.0      1083  ...       261     266.0     210.0   \n\n   SE_20 42  SE_20 43  SE_20 44  SE_20 45  SE_20 46  SE_20 47  Total  \n0     101.0      89.0      79.0        92     124.0      51.0  12745  \n1      18.0      15.0       7.0        13      13.0       4.0   1903  \n2       7.0       4.0       3.0         2       5.0       3.0    471  \n3      45.0      30.0      27.0        28      36.0      18.0   4927  \n4       0.0       0.0       0.0         1       0.0       0.0     14  \n5       7.0       6.0       4.0         2       3.0       1.0    689  \n6     178.0     144.0     120.0       138     181.0      77.0  20749  \n\n[7 rows x 39 columns]",
      "text/html": "<div>\n<style scoped>\n    .dataframe tbody tr th:only-of-type {\n        vertical-align: middle;\n    }\n\n    .dataframe tbody tr th {\n        vertical-align: top;\n    }\n\n    .dataframe thead th {\n        text-align: right;\n    }\n</style>\n<table border=\"1\" class=\"dataframe\">\n  <thead>\n    <tr style=\"text-align: right;\">\n      <th></th>\n      <th>Cor</th>\n      <th>SE_20 11_1ºÓbito Covid19</th>\n      <th>SE_20 12</th>\n      <th>SE_20 13</th>\n      <th>SE_20 14</th>\n      <th>SE_20 15</th>\n      <th>SE_20 16</th>\n      <th>SE_20 17</th>\n      <th>SE_20 18</th>\n      <th>SE_20 19</th>\n      <th>...</th>\n      <th>SE_20 39</th>\n      <th>SE_20 40</th>\n      <th>SE_20 41</th>\n      <th>SE_20 42</th>\n      <th>SE_20 43</th>\n      <th>SE_20 44</th>\n      <th>SE_20 45</th>\n      <th>SE_20 46</th>\n      <th>SE_20 47</th>\n      <th>Total</th>\n    </tr>\n  </thead>\n  <tbody>\n    <tr>\n      <th>0</th>\n      <td>0.0</td>\n      <td>3.0</td>\n      <td>48.0</td>\n      <td>178</td>\n      <td>366.0</td>\n      <td>445</td>\n      <td>452.0</td>\n      <td>519</td>\n      <td>656.0</td>\n      <td>620</td>\n      <td>...</td>\n      <td>165</td>\n      <td>174.0</td>\n      <td>128.0</td>\n      <td>101.0</td>\n      <td>89.0</td>\n      <td>79.0</td>\n      <td>92</td>\n      <td>124.0</td>\n      <td>51.0</td>\n      <td>12745</td>\n    </tr>\n    <tr>\n      <th>1</th>\n      <td>0.0</td>\n      <td>0.0</td>\n      <td>2.0</td>\n      <td>15</td>\n      <td>56.0</td>\n      <td>66</td>\n      <td>56.0</td>\n      <td>82</td>\n      <td>104.0</td>\n      <td>87</td>\n      <td>...</td>\n      <td>27</td>\n      <td>22.0</td>\n      <td>20.0</td>\n      <td>18.0</td>\n      <td>15.0</td>\n      <td>7.0</td>\n      <td>13</td>\n      <td>13.0</td>\n      <td>4.0</td>\n      <td>1903</td>\n    </tr>\n    <tr>\n      <th>2</th>\n      <td>0.0</td>\n      <td>0.0</td>\n      <td>2.0</td>\n      <td>10</td>\n      <td>16.0</td>\n      <td>18</td>\n      <td>21.0</td>\n      <td>31</td>\n      <td>24.0</td>\n      <td>30</td>\n      <td>...</td>\n      <td>5</td>\n      <td>5.0</td>\n      <td>4.0</td>\n      <td>7.0</td>\n      <td>4.0</td>\n      <td>3.0</td>\n      <td>2</td>\n      <td>5.0</td>\n      <td>3.0</td>\n      <td>471</td>\n    </tr>\n    <tr>\n      <th>3</th>\n      <td>0.0</td>\n      <td>0.0</td>\n      <td>5.0</td>\n      <td>37</td>\n      <td>128.0</td>\n      <td>178</td>\n      <td>189.0</td>\n      <td>215</td>\n      <td>291.0</td>\n      <td>303</td>\n      <td>...</td>\n      <td>55</td>\n      <td>54.0</td>\n      <td>53.0</td>\n      <td>45.0</td>\n      <td>30.0</td>\n      <td>27.0</td>\n      <td>28</td>\n      <td>36.0</td>\n      <td>18.0</td>\n      <td>4927</td>\n    </tr>\n    <tr>\n      <th>4</th>\n      <td>0.0</td>\n      <td>0.0</td>\n      <td>0.0</td>\n      <td>1</td>\n      <td>0.0</td>\n      <td>2</td>\n      <td>0.0</td>\n      <td>1</td>\n      <td>0.0</td>\n      <td>2</td>\n      <td>...</td>\n      <td>1</td>\n      <td>0.0</td>\n      <td>0.0</td>\n      <td>0.0</td>\n      <td>0.0</td>\n      <td>0.0</td>\n      <td>1</td>\n      <td>0.0</td>\n      <td>0.0</td>\n      <td>14</td>\n    </tr>\n    <tr>\n      <th>5</th>\n      <td>0.0</td>\n      <td>0.0</td>\n      <td>0.0</td>\n      <td>12</td>\n      <td>17.0</td>\n      <td>25</td>\n      <td>28.0</td>\n      <td>22</td>\n      <td>42.0</td>\n      <td>41</td>\n      <td>...</td>\n      <td>8</td>\n      <td>11.0</td>\n      <td>5.0</td>\n      <td>7.0</td>\n      <td>6.0</td>\n      <td>4.0</td>\n      <td>2</td>\n      <td>3.0</td>\n      <td>1.0</td>\n      <td>689</td>\n    </tr>\n    <tr>\n      <th>6</th>\n      <td>0.0</td>\n      <td>3.0</td>\n      <td>57.0</td>\n      <td>253</td>\n      <td>583.0</td>\n      <td>734</td>\n      <td>746.0</td>\n      <td>870</td>\n      <td>1117.0</td>\n      <td>1083</td>\n      <td>...</td>\n      <td>261</td>\n      <td>266.0</td>\n      <td>210.0</td>\n      <td>178.0</td>\n      <td>144.0</td>\n      <td>120.0</td>\n      <td>138</td>\n      <td>181.0</td>\n      <td>77.0</td>\n      <td>20749</td>\n    </tr>\n  </tbody>\n</table>\n<p>7 rows × 39 columns</p>\n</div>"
     },
     "metadata": {}
    }
   ],
   "source": [
    "## Converter os valores todos para numérico, se der erro, setar como NaN e depois converter pro número 0\n",
    "cor_se = cor_se_temp.apply(pd.to_numeric, errors='coerce').fillna(0)\n",
    "\n",
    "print('\\nResultado do Primeiro Tratamento - Raça / Semana Epidemiológica')\n",
    "\n",
    "\n",
    "display(cor_se)"
   ]
  },
  {
   "cell_type": "code",
   "execution_count": 4,
   "metadata": {},
   "outputs": [
    {
     "output_type": "stream",
     "name": "stdout",
     "text": [
      "\nTabela Final - Raça / Semana Epidemiológica\n"
     ]
    },
    {
     "output_type": "display_data",
     "data": {
      "text/plain": "             Cor  SE_20 11_1ºÓbito Covid19  SE_20 12  SE_20 13  SE_20 14  \\\n0         Branca                       3.0      48.0       178     366.0   \n1          Preta                       0.0       2.0        15      56.0   \n2        Amarela                       0.0       2.0        10      16.0   \n3          Parda                       0.0       5.0        37     128.0   \n4       Indígena                       0.0       0.0         1       0.0   \n5  Não informado                       0.0       0.0        12      17.0   \n6          Total                       3.0      57.0       253     583.0   \n\n   SE_20 15  SE_20 16  SE_20 17  SE_20 18  SE_20 19  ...  SE_20 39  SE_20 40  \\\n0       445     452.0       519     656.0       620  ...       165     174.0   \n1        66      56.0        82     104.0        87  ...        27      22.0   \n2        18      21.0        31      24.0        30  ...         5       5.0   \n3       178     189.0       215     291.0       303  ...        55      54.0   \n4         2       0.0         1       0.0         2  ...         1       0.0   \n5        25      28.0        22      42.0        41  ...         8      11.0   \n6       734     746.0       870    1117.0      1083  ...       261     266.0   \n\n   SE_20 41  SE_20 42  SE_20 43  SE_20 44  SE_20 45  SE_20 46  SE_20 47  Total  \n0     128.0     101.0      89.0      79.0        92     124.0      51.0  12745  \n1      20.0      18.0      15.0       7.0        13      13.0       4.0   1903  \n2       4.0       7.0       4.0       3.0         2       5.0       3.0    471  \n3      53.0      45.0      30.0      27.0        28      36.0      18.0   4927  \n4       0.0       0.0       0.0       0.0         1       0.0       0.0     14  \n5       5.0       7.0       6.0       4.0         2       3.0       1.0    689  \n6     210.0     178.0     144.0     120.0       138     181.0      77.0  20749  \n\n[7 rows x 39 columns]",
      "text/html": "<div>\n<style scoped>\n    .dataframe tbody tr th:only-of-type {\n        vertical-align: middle;\n    }\n\n    .dataframe tbody tr th {\n        vertical-align: top;\n    }\n\n    .dataframe thead th {\n        text-align: right;\n    }\n</style>\n<table border=\"1\" class=\"dataframe\">\n  <thead>\n    <tr style=\"text-align: right;\">\n      <th></th>\n      <th>Cor</th>\n      <th>SE_20 11_1ºÓbito Covid19</th>\n      <th>SE_20 12</th>\n      <th>SE_20 13</th>\n      <th>SE_20 14</th>\n      <th>SE_20 15</th>\n      <th>SE_20 16</th>\n      <th>SE_20 17</th>\n      <th>SE_20 18</th>\n      <th>SE_20 19</th>\n      <th>...</th>\n      <th>SE_20 39</th>\n      <th>SE_20 40</th>\n      <th>SE_20 41</th>\n      <th>SE_20 42</th>\n      <th>SE_20 43</th>\n      <th>SE_20 44</th>\n      <th>SE_20 45</th>\n      <th>SE_20 46</th>\n      <th>SE_20 47</th>\n      <th>Total</th>\n    </tr>\n  </thead>\n  <tbody>\n    <tr>\n      <th>0</th>\n      <td>Branca</td>\n      <td>3.0</td>\n      <td>48.0</td>\n      <td>178</td>\n      <td>366.0</td>\n      <td>445</td>\n      <td>452.0</td>\n      <td>519</td>\n      <td>656.0</td>\n      <td>620</td>\n      <td>...</td>\n      <td>165</td>\n      <td>174.0</td>\n      <td>128.0</td>\n      <td>101.0</td>\n      <td>89.0</td>\n      <td>79.0</td>\n      <td>92</td>\n      <td>124.0</td>\n      <td>51.0</td>\n      <td>12745</td>\n    </tr>\n    <tr>\n      <th>1</th>\n      <td>Preta</td>\n      <td>0.0</td>\n      <td>2.0</td>\n      <td>15</td>\n      <td>56.0</td>\n      <td>66</td>\n      <td>56.0</td>\n      <td>82</td>\n      <td>104.0</td>\n      <td>87</td>\n      <td>...</td>\n      <td>27</td>\n      <td>22.0</td>\n      <td>20.0</td>\n      <td>18.0</td>\n      <td>15.0</td>\n      <td>7.0</td>\n      <td>13</td>\n      <td>13.0</td>\n      <td>4.0</td>\n      <td>1903</td>\n    </tr>\n    <tr>\n      <th>2</th>\n      <td>Amarela</td>\n      <td>0.0</td>\n      <td>2.0</td>\n      <td>10</td>\n      <td>16.0</td>\n      <td>18</td>\n      <td>21.0</td>\n      <td>31</td>\n      <td>24.0</td>\n      <td>30</td>\n      <td>...</td>\n      <td>5</td>\n      <td>5.0</td>\n      <td>4.0</td>\n      <td>7.0</td>\n      <td>4.0</td>\n      <td>3.0</td>\n      <td>2</td>\n      <td>5.0</td>\n      <td>3.0</td>\n      <td>471</td>\n    </tr>\n    <tr>\n      <th>3</th>\n      <td>Parda</td>\n      <td>0.0</td>\n      <td>5.0</td>\n      <td>37</td>\n      <td>128.0</td>\n      <td>178</td>\n      <td>189.0</td>\n      <td>215</td>\n      <td>291.0</td>\n      <td>303</td>\n      <td>...</td>\n      <td>55</td>\n      <td>54.0</td>\n      <td>53.0</td>\n      <td>45.0</td>\n      <td>30.0</td>\n      <td>27.0</td>\n      <td>28</td>\n      <td>36.0</td>\n      <td>18.0</td>\n      <td>4927</td>\n    </tr>\n    <tr>\n      <th>4</th>\n      <td>Indígena</td>\n      <td>0.0</td>\n      <td>0.0</td>\n      <td>1</td>\n      <td>0.0</td>\n      <td>2</td>\n      <td>0.0</td>\n      <td>1</td>\n      <td>0.0</td>\n      <td>2</td>\n      <td>...</td>\n      <td>1</td>\n      <td>0.0</td>\n      <td>0.0</td>\n      <td>0.0</td>\n      <td>0.0</td>\n      <td>0.0</td>\n      <td>1</td>\n      <td>0.0</td>\n      <td>0.0</td>\n      <td>14</td>\n    </tr>\n    <tr>\n      <th>5</th>\n      <td>Não informado</td>\n      <td>0.0</td>\n      <td>0.0</td>\n      <td>12</td>\n      <td>17.0</td>\n      <td>25</td>\n      <td>28.0</td>\n      <td>22</td>\n      <td>42.0</td>\n      <td>41</td>\n      <td>...</td>\n      <td>8</td>\n      <td>11.0</td>\n      <td>5.0</td>\n      <td>7.0</td>\n      <td>6.0</td>\n      <td>4.0</td>\n      <td>2</td>\n      <td>3.0</td>\n      <td>1.0</td>\n      <td>689</td>\n    </tr>\n    <tr>\n      <th>6</th>\n      <td>Total</td>\n      <td>3.0</td>\n      <td>57.0</td>\n      <td>253</td>\n      <td>583.0</td>\n      <td>734</td>\n      <td>746.0</td>\n      <td>870</td>\n      <td>1117.0</td>\n      <td>1083</td>\n      <td>...</td>\n      <td>261</td>\n      <td>266.0</td>\n      <td>210.0</td>\n      <td>178.0</td>\n      <td>144.0</td>\n      <td>120.0</td>\n      <td>138</td>\n      <td>181.0</td>\n      <td>77.0</td>\n      <td>20749</td>\n    </tr>\n  </tbody>\n</table>\n<p>7 rows × 39 columns</p>\n</div>"
     },
     "metadata": {}
    }
   ],
   "source": [
    "## Como eu perdi os dados da coluna 0 (que foram transformados no valor 0), preciso resgatar do Dataset original e sobrescrever.\n",
    "cor_se['Cor'] = cor_se_temp['Cor']\n",
    "\n",
    "print('\\nTabela Final - Raça / Semana Epidemiológica')\n",
    "\n",
    "\n",
    "display(cor_se)"
   ]
  },
  {
   "source": [
    "## 3 - Exportanto resultado"
   ],
   "cell_type": "markdown",
   "metadata": {}
  },
  {
   "cell_type": "code",
   "execution_count": 5,
   "metadata": {},
   "outputs": [],
   "source": [
    "cor_se.to_csv('cor-semana-covid-tratado.csv')"
   ]
  },
  {
   "cell_type": "code",
   "execution_count": null,
   "metadata": {},
   "outputs": [],
   "source": []
  }
 ]
}