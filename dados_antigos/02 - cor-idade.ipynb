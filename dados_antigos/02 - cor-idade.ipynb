{
 "metadata": {
  "language_info": {
   "codemirror_mode": {
    "name": "ipython",
    "version": 3
   },
   "file_extension": ".py",
   "mimetype": "text/x-python",
   "name": "python",
   "nbconvert_exporter": "python",
   "pygments_lexer": "ipython3",
   "version": "3.7.3"
  },
  "orig_nbformat": 2,
  "kernelspec": {
   "name": "python373jvsc74a57bd0535f5171c715a0e97d7369109d670d6f9b39daf3ff35d9b2326d3a20b899b7ac",
   "display_name": "Python 3.7.3 64-bit ('base': conda)"
  }
 },
 "nbformat": 4,
 "nbformat_minor": 2,
 "cells": [
  {
   "cell_type": "code",
   "execution_count": 1,
   "metadata": {},
   "outputs": [],
   "source": [
    "import numpy as np #lib para cálculos e funções em arrays multidimensionais\n",
    "import pandas as pd #pandas - libpra manipulação e análise de dados de alta performance"
   ]
  },
  {
   "source": [
    "## 1 - INGESTÃO: Carregando primeiro Dataset ##   "
   ],
   "cell_type": "markdown",
   "metadata": {}
  },
  {
   "cell_type": "code",
   "execution_count": 2,
   "metadata": {},
   "outputs": [
    {
     "output_type": "stream",
     "name": "stdout",
     "text": [
      "\nTabela Original - População / Raça / Idade\n"
     ]
    },
    {
     "output_type": "display_data",
     "data": {
      "text/plain": "  Raça / Cor   0 a 4   5 a 9  10 a 14  15 a 19  20 a 24  25 a 29  30 a 34  \\\n0     Branca  444168  433860   466843   462715   570950   636194   599762   \n1      Preta   29954   39476    52706    56272    68610    75869    73139   \n2    Amarela    8329    9020    10726    12276    17282    21097    20445   \n3      Parda  227650  275068   336289   309997   333423   339887   315436   \n4   Indígena     813     840      843      982     1352     1484     1256   \n5   Ignorado      13      15       23       15       42       52       38   \n6      Total  710927  758279   867430   842257   991659  1074583  1010076   \n\n   35 a 39  40 a 44  45 a 49  50 a 54  55 a 59  60 a 64  65 a 69  70 a 74  \\\n0   524122   485640   465774   425601   358120   283006   208206   169901   \n1    64755    59093    51910    47914    37809    27559    18537    13717   \n2    18141    17467    17002    17422    17874    17175    13987    11468   \n3   280563   249819   207196   175970   133704    94896    61310    41992   \n4     1072      939      823      734      590      413      293      221   \n5       31       21       15       17       16        6        5        2   \n6   888684   812979   742720   667658   548113   423055   302338   237301   \n\n   75 e mais Ignorada     Total  \n0     128717   161089   6824668  \n1       9097     9666    736083  \n2       7516     9017    246244  \n3      25485    24533   3433218  \n4        152      170     12977  \n5          2        -       313  \n6     170969   204475  11253503  ",
      "text/html": "<div>\n<style scoped>\n    .dataframe tbody tr th:only-of-type {\n        vertical-align: middle;\n    }\n\n    .dataframe tbody tr th {\n        vertical-align: top;\n    }\n\n    .dataframe thead th {\n        text-align: right;\n    }\n</style>\n<table border=\"1\" class=\"dataframe\">\n  <thead>\n    <tr style=\"text-align: right;\">\n      <th></th>\n      <th>Raça / Cor</th>\n      <th>0 a 4</th>\n      <th>5 a 9</th>\n      <th>10 a 14</th>\n      <th>15 a 19</th>\n      <th>20 a 24</th>\n      <th>25 a 29</th>\n      <th>30 a 34</th>\n      <th>35 a 39</th>\n      <th>40 a 44</th>\n      <th>45 a 49</th>\n      <th>50 a 54</th>\n      <th>55 a 59</th>\n      <th>60 a 64</th>\n      <th>65 a 69</th>\n      <th>70 a 74</th>\n      <th>75 e mais</th>\n      <th>Ignorada</th>\n      <th>Total</th>\n    </tr>\n  </thead>\n  <tbody>\n    <tr>\n      <th>0</th>\n      <td>Branca</td>\n      <td>444168</td>\n      <td>433860</td>\n      <td>466843</td>\n      <td>462715</td>\n      <td>570950</td>\n      <td>636194</td>\n      <td>599762</td>\n      <td>524122</td>\n      <td>485640</td>\n      <td>465774</td>\n      <td>425601</td>\n      <td>358120</td>\n      <td>283006</td>\n      <td>208206</td>\n      <td>169901</td>\n      <td>128717</td>\n      <td>161089</td>\n      <td>6824668</td>\n    </tr>\n    <tr>\n      <th>1</th>\n      <td>Preta</td>\n      <td>29954</td>\n      <td>39476</td>\n      <td>52706</td>\n      <td>56272</td>\n      <td>68610</td>\n      <td>75869</td>\n      <td>73139</td>\n      <td>64755</td>\n      <td>59093</td>\n      <td>51910</td>\n      <td>47914</td>\n      <td>37809</td>\n      <td>27559</td>\n      <td>18537</td>\n      <td>13717</td>\n      <td>9097</td>\n      <td>9666</td>\n      <td>736083</td>\n    </tr>\n    <tr>\n      <th>2</th>\n      <td>Amarela</td>\n      <td>8329</td>\n      <td>9020</td>\n      <td>10726</td>\n      <td>12276</td>\n      <td>17282</td>\n      <td>21097</td>\n      <td>20445</td>\n      <td>18141</td>\n      <td>17467</td>\n      <td>17002</td>\n      <td>17422</td>\n      <td>17874</td>\n      <td>17175</td>\n      <td>13987</td>\n      <td>11468</td>\n      <td>7516</td>\n      <td>9017</td>\n      <td>246244</td>\n    </tr>\n    <tr>\n      <th>3</th>\n      <td>Parda</td>\n      <td>227650</td>\n      <td>275068</td>\n      <td>336289</td>\n      <td>309997</td>\n      <td>333423</td>\n      <td>339887</td>\n      <td>315436</td>\n      <td>280563</td>\n      <td>249819</td>\n      <td>207196</td>\n      <td>175970</td>\n      <td>133704</td>\n      <td>94896</td>\n      <td>61310</td>\n      <td>41992</td>\n      <td>25485</td>\n      <td>24533</td>\n      <td>3433218</td>\n    </tr>\n    <tr>\n      <th>4</th>\n      <td>Indígena</td>\n      <td>813</td>\n      <td>840</td>\n      <td>843</td>\n      <td>982</td>\n      <td>1352</td>\n      <td>1484</td>\n      <td>1256</td>\n      <td>1072</td>\n      <td>939</td>\n      <td>823</td>\n      <td>734</td>\n      <td>590</td>\n      <td>413</td>\n      <td>293</td>\n      <td>221</td>\n      <td>152</td>\n      <td>170</td>\n      <td>12977</td>\n    </tr>\n    <tr>\n      <th>5</th>\n      <td>Ignorado</td>\n      <td>13</td>\n      <td>15</td>\n      <td>23</td>\n      <td>15</td>\n      <td>42</td>\n      <td>52</td>\n      <td>38</td>\n      <td>31</td>\n      <td>21</td>\n      <td>15</td>\n      <td>17</td>\n      <td>16</td>\n      <td>6</td>\n      <td>5</td>\n      <td>2</td>\n      <td>2</td>\n      <td>-</td>\n      <td>313</td>\n    </tr>\n    <tr>\n      <th>6</th>\n      <td>Total</td>\n      <td>710927</td>\n      <td>758279</td>\n      <td>867430</td>\n      <td>842257</td>\n      <td>991659</td>\n      <td>1074583</td>\n      <td>1010076</td>\n      <td>888684</td>\n      <td>812979</td>\n      <td>742720</td>\n      <td>667658</td>\n      <td>548113</td>\n      <td>423055</td>\n      <td>302338</td>\n      <td>237301</td>\n      <td>170969</td>\n      <td>204475</td>\n      <td>11253503</td>\n    </tr>\n  </tbody>\n</table>\n</div>"
     },
     "metadata": {}
    }
   ],
   "source": [
    "pop_cor_idade_temp = pd.read_csv('cor-idade-2010.csv', sep=';', encoding = \"ISO-8859-1\",\n",
    "skiprows=[0,1,2,11])\n",
    "\n",
    "print('\\nTabela Original - População / Raça / Idade')\n",
    "display(pop_cor_idade_temp)\n",
    "\n",
    "\n"
   ]
  },
  {
   "source": [
    "## 2 - Tratamento dos dados"
   ],
   "cell_type": "markdown",
   "metadata": {}
  },
  {
   "cell_type": "code",
   "execution_count": 3,
   "metadata": {},
   "outputs": [
    {
     "output_type": "stream",
     "name": "stdout",
     "text": [
      "\nResultado do Primeiro Tratamento - População / Raça / Idade\n"
     ]
    },
    {
     "output_type": "display_data",
     "data": {
      "text/plain": "   Raça / Cor   0 a 4   5 a 9  10 a 14  15 a 19  20 a 24  25 a 29  30 a 34  \\\n0         0.0  444168  433860   466843   462715   570950   636194   599762   \n1         0.0   29954   39476    52706    56272    68610    75869    73139   \n2         0.0    8329    9020    10726    12276    17282    21097    20445   \n3         0.0  227650  275068   336289   309997   333423   339887   315436   \n4         0.0     813     840      843      982     1352     1484     1256   \n5         0.0      13      15       23       15       42       52       38   \n6         0.0  710927  758279   867430   842257   991659  1074583  1010076   \n\n   35 a 39  40 a 44  45 a 49  50 a 54  55 a 59  60 a 64  65 a 69  70 a 74  \\\n0   524122   485640   465774   425601   358120   283006   208206   169901   \n1    64755    59093    51910    47914    37809    27559    18537    13717   \n2    18141    17467    17002    17422    17874    17175    13987    11468   \n3   280563   249819   207196   175970   133704    94896    61310    41992   \n4     1072      939      823      734      590      413      293      221   \n5       31       21       15       17       16        6        5        2   \n6   888684   812979   742720   667658   548113   423055   302338   237301   \n\n   75 e mais  Ignorada     Total  \n0     128717  161089.0   6824668  \n1       9097    9666.0    736083  \n2       7516    9017.0    246244  \n3      25485   24533.0   3433218  \n4        152     170.0     12977  \n5          2       0.0       313  \n6     170969  204475.0  11253503  ",
      "text/html": "<div>\n<style scoped>\n    .dataframe tbody tr th:only-of-type {\n        vertical-align: middle;\n    }\n\n    .dataframe tbody tr th {\n        vertical-align: top;\n    }\n\n    .dataframe thead th {\n        text-align: right;\n    }\n</style>\n<table border=\"1\" class=\"dataframe\">\n  <thead>\n    <tr style=\"text-align: right;\">\n      <th></th>\n      <th>Raça / Cor</th>\n      <th>0 a 4</th>\n      <th>5 a 9</th>\n      <th>10 a 14</th>\n      <th>15 a 19</th>\n      <th>20 a 24</th>\n      <th>25 a 29</th>\n      <th>30 a 34</th>\n      <th>35 a 39</th>\n      <th>40 a 44</th>\n      <th>45 a 49</th>\n      <th>50 a 54</th>\n      <th>55 a 59</th>\n      <th>60 a 64</th>\n      <th>65 a 69</th>\n      <th>70 a 74</th>\n      <th>75 e mais</th>\n      <th>Ignorada</th>\n      <th>Total</th>\n    </tr>\n  </thead>\n  <tbody>\n    <tr>\n      <th>0</th>\n      <td>0.0</td>\n      <td>444168</td>\n      <td>433860</td>\n      <td>466843</td>\n      <td>462715</td>\n      <td>570950</td>\n      <td>636194</td>\n      <td>599762</td>\n      <td>524122</td>\n      <td>485640</td>\n      <td>465774</td>\n      <td>425601</td>\n      <td>358120</td>\n      <td>283006</td>\n      <td>208206</td>\n      <td>169901</td>\n      <td>128717</td>\n      <td>161089.0</td>\n      <td>6824668</td>\n    </tr>\n    <tr>\n      <th>1</th>\n      <td>0.0</td>\n      <td>29954</td>\n      <td>39476</td>\n      <td>52706</td>\n      <td>56272</td>\n      <td>68610</td>\n      <td>75869</td>\n      <td>73139</td>\n      <td>64755</td>\n      <td>59093</td>\n      <td>51910</td>\n      <td>47914</td>\n      <td>37809</td>\n      <td>27559</td>\n      <td>18537</td>\n      <td>13717</td>\n      <td>9097</td>\n      <td>9666.0</td>\n      <td>736083</td>\n    </tr>\n    <tr>\n      <th>2</th>\n      <td>0.0</td>\n      <td>8329</td>\n      <td>9020</td>\n      <td>10726</td>\n      <td>12276</td>\n      <td>17282</td>\n      <td>21097</td>\n      <td>20445</td>\n      <td>18141</td>\n      <td>17467</td>\n      <td>17002</td>\n      <td>17422</td>\n      <td>17874</td>\n      <td>17175</td>\n      <td>13987</td>\n      <td>11468</td>\n      <td>7516</td>\n      <td>9017.0</td>\n      <td>246244</td>\n    </tr>\n    <tr>\n      <th>3</th>\n      <td>0.0</td>\n      <td>227650</td>\n      <td>275068</td>\n      <td>336289</td>\n      <td>309997</td>\n      <td>333423</td>\n      <td>339887</td>\n      <td>315436</td>\n      <td>280563</td>\n      <td>249819</td>\n      <td>207196</td>\n      <td>175970</td>\n      <td>133704</td>\n      <td>94896</td>\n      <td>61310</td>\n      <td>41992</td>\n      <td>25485</td>\n      <td>24533.0</td>\n      <td>3433218</td>\n    </tr>\n    <tr>\n      <th>4</th>\n      <td>0.0</td>\n      <td>813</td>\n      <td>840</td>\n      <td>843</td>\n      <td>982</td>\n      <td>1352</td>\n      <td>1484</td>\n      <td>1256</td>\n      <td>1072</td>\n      <td>939</td>\n      <td>823</td>\n      <td>734</td>\n      <td>590</td>\n      <td>413</td>\n      <td>293</td>\n      <td>221</td>\n      <td>152</td>\n      <td>170.0</td>\n      <td>12977</td>\n    </tr>\n    <tr>\n      <th>5</th>\n      <td>0.0</td>\n      <td>13</td>\n      <td>15</td>\n      <td>23</td>\n      <td>15</td>\n      <td>42</td>\n      <td>52</td>\n      <td>38</td>\n      <td>31</td>\n      <td>21</td>\n      <td>15</td>\n      <td>17</td>\n      <td>16</td>\n      <td>6</td>\n      <td>5</td>\n      <td>2</td>\n      <td>2</td>\n      <td>0.0</td>\n      <td>313</td>\n    </tr>\n    <tr>\n      <th>6</th>\n      <td>0.0</td>\n      <td>710927</td>\n      <td>758279</td>\n      <td>867430</td>\n      <td>842257</td>\n      <td>991659</td>\n      <td>1074583</td>\n      <td>1010076</td>\n      <td>888684</td>\n      <td>812979</td>\n      <td>742720</td>\n      <td>667658</td>\n      <td>548113</td>\n      <td>423055</td>\n      <td>302338</td>\n      <td>237301</td>\n      <td>170969</td>\n      <td>204475.0</td>\n      <td>11253503</td>\n    </tr>\n  </tbody>\n</table>\n</div>"
     },
     "metadata": {}
    }
   ],
   "source": [
    "## Converter os valores todos para numérico, se der erro, setar como NaN e depois converter pro número 0\n",
    "\n",
    "pop_cor_idade = pop_cor_idade_temp.apply(pd.to_numeric, errors='coerce').fillna(0)\n",
    "\n",
    "\n",
    "print('\\nResultado do Primeiro Tratamento - População / Raça / Idade')\n",
    "\n",
    "\n",
    "display(pop_cor_idade)"
   ]
  },
  {
   "cell_type": "code",
   "execution_count": 12,
   "metadata": {},
   "outputs": [
    {
     "output_type": "stream",
     "name": "stdout",
     "text": [
      "\nTabela Final - População / Raça / Idade\n"
     ]
    },
    {
     "output_type": "display_data",
     "data": {
      "text/plain": "        Cor   0 a 4   5 a 9  10 a 14  15 a 19  20 a 24  25 a 29  30 a 34  \\\n0    Branca  444168  433860   466843   462715   570950   636194   599762   \n1     Preta   29954   39476    52706    56272    68610    75869    73139   \n2   Amarela    8329    9020    10726    12276    17282    21097    20445   \n3     Parda  227650  275068   336289   309997   333423   339887   315436   \n4  Indígena     813     840      843      982     1352     1484     1256   \n5  Ignorado      13      15       23       15       42       52       38   \n6     Total  710927  758279   867430   842257   991659  1074583  1010076   \n\n   35 a 39  40 a 44  45 a 49  50 a 54  55 a 59  60 a 64  65 a 69  70 a 74  \\\n0   524122   485640   465774   425601   358120   283006   208206   169901   \n1    64755    59093    51910    47914    37809    27559    18537    13717   \n2    18141    17467    17002    17422    17874    17175    13987    11468   \n3   280563   249819   207196   175970   133704    94896    61310    41992   \n4     1072      939      823      734      590      413      293      221   \n5       31       21       15       17       16        6        5        2   \n6   888684   812979   742720   667658   548113   423055   302338   237301   \n\n   75 e mais  Ignorada     Total  \n0     128717  161089.0   6824668  \n1       9097    9666.0    736083  \n2       7516    9017.0    246244  \n3      25485   24533.0   3433218  \n4        152     170.0     12977  \n5          2       0.0       313  \n6     170969  204475.0  11253503  ",
      "text/html": "<div>\n<style scoped>\n    .dataframe tbody tr th:only-of-type {\n        vertical-align: middle;\n    }\n\n    .dataframe tbody tr th {\n        vertical-align: top;\n    }\n\n    .dataframe thead th {\n        text-align: right;\n    }\n</style>\n<table border=\"1\" class=\"dataframe\">\n  <thead>\n    <tr style=\"text-align: right;\">\n      <th></th>\n      <th>Cor</th>\n      <th>0 a 4</th>\n      <th>5 a 9</th>\n      <th>10 a 14</th>\n      <th>15 a 19</th>\n      <th>20 a 24</th>\n      <th>25 a 29</th>\n      <th>30 a 34</th>\n      <th>35 a 39</th>\n      <th>40 a 44</th>\n      <th>45 a 49</th>\n      <th>50 a 54</th>\n      <th>55 a 59</th>\n      <th>60 a 64</th>\n      <th>65 a 69</th>\n      <th>70 a 74</th>\n      <th>75 e mais</th>\n      <th>Ignorada</th>\n      <th>Total</th>\n    </tr>\n  </thead>\n  <tbody>\n    <tr>\n      <th>0</th>\n      <td>Branca</td>\n      <td>444168</td>\n      <td>433860</td>\n      <td>466843</td>\n      <td>462715</td>\n      <td>570950</td>\n      <td>636194</td>\n      <td>599762</td>\n      <td>524122</td>\n      <td>485640</td>\n      <td>465774</td>\n      <td>425601</td>\n      <td>358120</td>\n      <td>283006</td>\n      <td>208206</td>\n      <td>169901</td>\n      <td>128717</td>\n      <td>161089.0</td>\n      <td>6824668</td>\n    </tr>\n    <tr>\n      <th>1</th>\n      <td>Preta</td>\n      <td>29954</td>\n      <td>39476</td>\n      <td>52706</td>\n      <td>56272</td>\n      <td>68610</td>\n      <td>75869</td>\n      <td>73139</td>\n      <td>64755</td>\n      <td>59093</td>\n      <td>51910</td>\n      <td>47914</td>\n      <td>37809</td>\n      <td>27559</td>\n      <td>18537</td>\n      <td>13717</td>\n      <td>9097</td>\n      <td>9666.0</td>\n      <td>736083</td>\n    </tr>\n    <tr>\n      <th>2</th>\n      <td>Amarela</td>\n      <td>8329</td>\n      <td>9020</td>\n      <td>10726</td>\n      <td>12276</td>\n      <td>17282</td>\n      <td>21097</td>\n      <td>20445</td>\n      <td>18141</td>\n      <td>17467</td>\n      <td>17002</td>\n      <td>17422</td>\n      <td>17874</td>\n      <td>17175</td>\n      <td>13987</td>\n      <td>11468</td>\n      <td>7516</td>\n      <td>9017.0</td>\n      <td>246244</td>\n    </tr>\n    <tr>\n      <th>3</th>\n      <td>Parda</td>\n      <td>227650</td>\n      <td>275068</td>\n      <td>336289</td>\n      <td>309997</td>\n      <td>333423</td>\n      <td>339887</td>\n      <td>315436</td>\n      <td>280563</td>\n      <td>249819</td>\n      <td>207196</td>\n      <td>175970</td>\n      <td>133704</td>\n      <td>94896</td>\n      <td>61310</td>\n      <td>41992</td>\n      <td>25485</td>\n      <td>24533.0</td>\n      <td>3433218</td>\n    </tr>\n    <tr>\n      <th>4</th>\n      <td>Indígena</td>\n      <td>813</td>\n      <td>840</td>\n      <td>843</td>\n      <td>982</td>\n      <td>1352</td>\n      <td>1484</td>\n      <td>1256</td>\n      <td>1072</td>\n      <td>939</td>\n      <td>823</td>\n      <td>734</td>\n      <td>590</td>\n      <td>413</td>\n      <td>293</td>\n      <td>221</td>\n      <td>152</td>\n      <td>170.0</td>\n      <td>12977</td>\n    </tr>\n    <tr>\n      <th>5</th>\n      <td>Ignorado</td>\n      <td>13</td>\n      <td>15</td>\n      <td>23</td>\n      <td>15</td>\n      <td>42</td>\n      <td>52</td>\n      <td>38</td>\n      <td>31</td>\n      <td>21</td>\n      <td>15</td>\n      <td>17</td>\n      <td>16</td>\n      <td>6</td>\n      <td>5</td>\n      <td>2</td>\n      <td>2</td>\n      <td>0.0</td>\n      <td>313</td>\n    </tr>\n    <tr>\n      <th>6</th>\n      <td>Total</td>\n      <td>710927</td>\n      <td>758279</td>\n      <td>867430</td>\n      <td>842257</td>\n      <td>991659</td>\n      <td>1074583</td>\n      <td>1010076</td>\n      <td>888684</td>\n      <td>812979</td>\n      <td>742720</td>\n      <td>667658</td>\n      <td>548113</td>\n      <td>423055</td>\n      <td>302338</td>\n      <td>237301</td>\n      <td>170969</td>\n      <td>204475.0</td>\n      <td>11253503</td>\n    </tr>\n  </tbody>\n</table>\n</div>"
     },
     "metadata": {}
    }
   ],
   "source": [
    "## Como eu perdi os dados (labels) da coluna 0 (que foram transformados no valor 0), preciso resgatar do Dataset original e sobrescrever.\n",
    "pop_cor_idade['Raça / Cor'] = pop_cor_idade_temp['Raça / Cor']\n",
    "\n",
    "# Renomeando o label da coluna pra otimização futura\n",
    "pop_cor_idade.rename({'Raça / Cor': 'Cor'}, axis=1, inplace=True)\n",
    "\n",
    "print('\\nTabela Final - População / Raça / Idade')\n",
    "\n",
    "\n",
    "display(pop_cor_idade)"
   ]
  },
  {
   "source": [
    "## 3 - Exportanto resultado"
   ],
   "cell_type": "markdown",
   "metadata": {}
  },
  {
   "cell_type": "code",
   "execution_count": 15,
   "metadata": {},
   "outputs": [],
   "source": [
    "pop_cor_idade.to_csv('cor-idade-2010-tratada.csv')"
   ]
  },
  {
   "cell_type": "code",
   "execution_count": null,
   "metadata": {},
   "outputs": [],
   "source": []
  }
 ]
}