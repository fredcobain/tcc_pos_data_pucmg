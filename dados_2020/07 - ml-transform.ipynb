{
 "cells": [
  {
   "cell_type": "code",
   "execution_count": 1,
   "metadata": {},
   "outputs": [],
   "source": [
    "import numpy as np #lib para cálculos e funções em arrays multidimensionais\n",
    "import pandas as pd #pandas - lib para manipulação e análise de dados de alta performance\n",
    "import time #lib para manipulação de datas\n",
    "import datetime ##lib para manipulação de datas"
   ]
  },
  {
   "cell_type": "code",
   "execution_count": 2,
   "metadata": {},
   "outputs": [
    {
     "name": "stdout",
     "output_type": "stream",
     "text": [
      "\n",
      "Tabela Pré-Tratada - Mortalidade Cor Semana\n"
     ]
    },
    {
     "data": {
      "text/html": "<div>\n<style scoped>\n    .dataframe tbody tr th:only-of-type {\n        vertical-align: middle;\n    }\n\n    .dataframe tbody tr th {\n        vertical-align: top;\n    }\n\n    .dataframe thead th {\n        text-align: right;\n    }\n</style>\n<table border=\"1\" class=\"dataframe\">\n  <thead>\n    <tr style=\"text-align: right;\">\n      <th></th>\n      <th>Cor</th>\n      <th>Habitantes</th>\n      <th>Semana</th>\n      <th>Óbitos</th>\n      <th>Óbitos por 100 mil</th>\n    </tr>\n  </thead>\n  <tbody>\n    <tr>\n      <th>0</th>\n      <td>Branca</td>\n      <td>6824668</td>\n      <td>SE_20 12</td>\n      <td>51.0</td>\n      <td>0.747289</td>\n    </tr>\n    <tr>\n      <th>1</th>\n      <td>Preta</td>\n      <td>736083</td>\n      <td>SE_20 12</td>\n      <td>2.0</td>\n      <td>0.271708</td>\n    </tr>\n    <tr>\n      <th>2</th>\n      <td>Amarela</td>\n      <td>246244</td>\n      <td>SE_20 12</td>\n      <td>2.0</td>\n      <td>0.812203</td>\n    </tr>\n    <tr>\n      <th>3</th>\n      <td>Parda</td>\n      <td>3433218</td>\n      <td>SE_20 12</td>\n      <td>5.0</td>\n      <td>0.145636</td>\n    </tr>\n    <tr>\n      <th>4</th>\n      <td>Indígena</td>\n      <td>12977</td>\n      <td>SE_20 12</td>\n      <td>0.0</td>\n      <td>0.000000</td>\n    </tr>\n    <tr>\n      <th>5</th>\n      <td>Branca</td>\n      <td>6824668</td>\n      <td>SE_20 13</td>\n      <td>229.0</td>\n      <td>3.355475</td>\n    </tr>\n    <tr>\n      <th>6</th>\n      <td>Preta</td>\n      <td>736083</td>\n      <td>SE_20 13</td>\n      <td>17.0</td>\n      <td>2.309522</td>\n    </tr>\n    <tr>\n      <th>7</th>\n      <td>Amarela</td>\n      <td>246244</td>\n      <td>SE_20 13</td>\n      <td>12.0</td>\n      <td>4.873215</td>\n    </tr>\n    <tr>\n      <th>8</th>\n      <td>Parda</td>\n      <td>3433218</td>\n      <td>SE_20 13</td>\n      <td>42.0</td>\n      <td>1.223342</td>\n    </tr>\n    <tr>\n      <th>9</th>\n      <td>Indígena</td>\n      <td>12977</td>\n      <td>SE_20 13</td>\n      <td>1.0</td>\n      <td>7.705941</td>\n    </tr>\n    <tr>\n      <th>10</th>\n      <td>Branca</td>\n      <td>6824668</td>\n      <td>SE_20 14</td>\n      <td>591.0</td>\n      <td>8.659762</td>\n    </tr>\n    <tr>\n      <th>11</th>\n      <td>Preta</td>\n      <td>736083</td>\n      <td>SE_20 14</td>\n      <td>71.0</td>\n      <td>9.645651</td>\n    </tr>\n    <tr>\n      <th>12</th>\n      <td>Amarela</td>\n      <td>246244</td>\n      <td>SE_20 14</td>\n      <td>28.0</td>\n      <td>11.370835</td>\n    </tr>\n    <tr>\n      <th>13</th>\n      <td>Parda</td>\n      <td>3433218</td>\n      <td>SE_20 14</td>\n      <td>168.0</td>\n      <td>4.893368</td>\n    </tr>\n    <tr>\n      <th>14</th>\n      <td>Indígena</td>\n      <td>12977</td>\n      <td>SE_20 14</td>\n      <td>1.0</td>\n      <td>7.705941</td>\n    </tr>\n    <tr>\n      <th>15</th>\n      <td>Branca</td>\n      <td>6824668</td>\n      <td>SE_20 15</td>\n      <td>1028.0</td>\n      <td>15.063004</td>\n    </tr>\n    <tr>\n      <th>16</th>\n      <td>Preta</td>\n      <td>736083</td>\n      <td>SE_20 15</td>\n      <td>135.0</td>\n      <td>18.340323</td>\n    </tr>\n    <tr>\n      <th>17</th>\n      <td>Amarela</td>\n      <td>246244</td>\n      <td>SE_20 15</td>\n      <td>45.0</td>\n      <td>18.274557</td>\n    </tr>\n    <tr>\n      <th>18</th>\n      <td>Parda</td>\n      <td>3433218</td>\n      <td>SE_20 15</td>\n      <td>339.0</td>\n      <td>9.874118</td>\n    </tr>\n    <tr>\n      <th>19</th>\n      <td>Indígena</td>\n      <td>12977</td>\n      <td>SE_20 15</td>\n      <td>3.0</td>\n      <td>23.117824</td>\n    </tr>\n    <tr>\n      <th>20</th>\n      <td>Branca</td>\n      <td>6824668</td>\n      <td>SE_20 16</td>\n      <td>1470.0</td>\n      <td>21.539509</td>\n    </tr>\n    <tr>\n      <th>21</th>\n      <td>Preta</td>\n      <td>736083</td>\n      <td>SE_20 16</td>\n      <td>190.0</td>\n      <td>25.812306</td>\n    </tr>\n    <tr>\n      <th>22</th>\n      <td>Amarela</td>\n      <td>246244</td>\n      <td>SE_20 16</td>\n      <td>64.0</td>\n      <td>25.990481</td>\n    </tr>\n    <tr>\n      <th>23</th>\n      <td>Parda</td>\n      <td>3433218</td>\n      <td>SE_20 16</td>\n      <td>526.0</td>\n      <td>15.320903</td>\n    </tr>\n    <tr>\n      <th>24</th>\n      <td>Indígena</td>\n      <td>12977</td>\n      <td>SE_20 16</td>\n      <td>3.0</td>\n      <td>23.117824</td>\n    </tr>\n    <tr>\n      <th>25</th>\n      <td>Branca</td>\n      <td>6824668</td>\n      <td>SE_20 17</td>\n      <td>1971.0</td>\n      <td>28.880526</td>\n    </tr>\n    <tr>\n      <th>26</th>\n      <td>Preta</td>\n      <td>736083</td>\n      <td>SE_20 17</td>\n      <td>268.0</td>\n      <td>36.408938</td>\n    </tr>\n    <tr>\n      <th>27</th>\n      <td>Amarela</td>\n      <td>246244</td>\n      <td>SE_20 17</td>\n      <td>92.0</td>\n      <td>37.361316</td>\n    </tr>\n    <tr>\n      <th>28</th>\n      <td>Parda</td>\n      <td>3433218</td>\n      <td>SE_20 17</td>\n      <td>733.0</td>\n      <td>21.350232</td>\n    </tr>\n    <tr>\n      <th>29</th>\n      <td>Indígena</td>\n      <td>12977</td>\n      <td>SE_20 17</td>\n      <td>4.0</td>\n      <td>30.823765</td>\n    </tr>\n    <tr>\n      <th>...</th>\n      <td>...</td>\n      <td>...</td>\n      <td>...</td>\n      <td>...</td>\n      <td>...</td>\n    </tr>\n    <tr>\n      <th>180</th>\n      <td>Branca</td>\n      <td>6824668</td>\n      <td>SE_20 48</td>\n      <td>13031.0</td>\n      <td>190.939691</td>\n    </tr>\n    <tr>\n      <th>181</th>\n      <td>Preta</td>\n      <td>736083</td>\n      <td>SE_20 48</td>\n      <td>1931.0</td>\n      <td>262.334547</td>\n    </tr>\n    <tr>\n      <th>182</th>\n      <td>Amarela</td>\n      <td>246244</td>\n      <td>SE_20 48</td>\n      <td>484.0</td>\n      <td>196.553012</td>\n    </tr>\n    <tr>\n      <th>183</th>\n      <td>Parda</td>\n      <td>3433218</td>\n      <td>SE_20 48</td>\n      <td>4997.0</td>\n      <td>145.548579</td>\n    </tr>\n    <tr>\n      <th>184</th>\n      <td>Indígena</td>\n      <td>12977</td>\n      <td>SE_20 48</td>\n      <td>15.0</td>\n      <td>115.589119</td>\n    </tr>\n    <tr>\n      <th>185</th>\n      <td>Branca</td>\n      <td>6824668</td>\n      <td>SE_20 49</td>\n      <td>13259.0</td>\n      <td>194.280513</td>\n    </tr>\n    <tr>\n      <th>186</th>\n      <td>Preta</td>\n      <td>736083</td>\n      <td>SE_20 49</td>\n      <td>1958.0</td>\n      <td>266.002611</td>\n    </tr>\n    <tr>\n      <th>187</th>\n      <td>Amarela</td>\n      <td>246244</td>\n      <td>SE_20 49</td>\n      <td>492.0</td>\n      <td>199.801823</td>\n    </tr>\n    <tr>\n      <th>188</th>\n      <td>Parda</td>\n      <td>3433218</td>\n      <td>SE_20 49</td>\n      <td>5073.0</td>\n      <td>147.762245</td>\n    </tr>\n    <tr>\n      <th>189</th>\n      <td>Indígena</td>\n      <td>12977</td>\n      <td>SE_20 49</td>\n      <td>15.0</td>\n      <td>115.589119</td>\n    </tr>\n    <tr>\n      <th>190</th>\n      <td>Branca</td>\n      <td>6824668</td>\n      <td>SE_20 50</td>\n      <td>13521.0</td>\n      <td>198.119528</td>\n    </tr>\n    <tr>\n      <th>191</th>\n      <td>Preta</td>\n      <td>736083</td>\n      <td>SE_20 50</td>\n      <td>1998.0</td>\n      <td>271.436781</td>\n    </tr>\n    <tr>\n      <th>192</th>\n      <td>Amarela</td>\n      <td>246244</td>\n      <td>SE_20 50</td>\n      <td>503.0</td>\n      <td>204.268937</td>\n    </tr>\n    <tr>\n      <th>193</th>\n      <td>Parda</td>\n      <td>3433218</td>\n      <td>SE_20 50</td>\n      <td>5139.0</td>\n      <td>149.684640</td>\n    </tr>\n    <tr>\n      <th>194</th>\n      <td>Indígena</td>\n      <td>12977</td>\n      <td>SE_20 50</td>\n      <td>16.0</td>\n      <td>123.295060</td>\n    </tr>\n    <tr>\n      <th>195</th>\n      <td>Branca</td>\n      <td>6824668</td>\n      <td>SE_20 51</td>\n      <td>13822.0</td>\n      <td>202.529999</td>\n    </tr>\n    <tr>\n      <th>196</th>\n      <td>Preta</td>\n      <td>736083</td>\n      <td>SE_20 51</td>\n      <td>2037.0</td>\n      <td>276.735096</td>\n    </tr>\n    <tr>\n      <th>197</th>\n      <td>Amarela</td>\n      <td>246244</td>\n      <td>SE_20 51</td>\n      <td>514.0</td>\n      <td>208.736050</td>\n    </tr>\n    <tr>\n      <th>198</th>\n      <td>Parda</td>\n      <td>3433218</td>\n      <td>SE_20 51</td>\n      <td>5223.0</td>\n      <td>152.131324</td>\n    </tr>\n    <tr>\n      <th>199</th>\n      <td>Indígena</td>\n      <td>12977</td>\n      <td>SE_20 51</td>\n      <td>16.0</td>\n      <td>123.295060</td>\n    </tr>\n    <tr>\n      <th>200</th>\n      <td>Branca</td>\n      <td>6824668</td>\n      <td>SE_20 52</td>\n      <td>14106.0</td>\n      <td>206.691373</td>\n    </tr>\n    <tr>\n      <th>201</th>\n      <td>Preta</td>\n      <td>736083</td>\n      <td>SE_20 52</td>\n      <td>2081.0</td>\n      <td>282.712683</td>\n    </tr>\n    <tr>\n      <th>202</th>\n      <td>Amarela</td>\n      <td>246244</td>\n      <td>SE_20 52</td>\n      <td>529.0</td>\n      <td>214.827569</td>\n    </tr>\n    <tr>\n      <th>203</th>\n      <td>Parda</td>\n      <td>3433218</td>\n      <td>SE_20 52</td>\n      <td>5303.0</td>\n      <td>154.461499</td>\n    </tr>\n    <tr>\n      <th>204</th>\n      <td>Indígena</td>\n      <td>12977</td>\n      <td>SE_20 52</td>\n      <td>16.0</td>\n      <td>123.295060</td>\n    </tr>\n    <tr>\n      <th>205</th>\n      <td>Branca</td>\n      <td>6824668</td>\n      <td>SE_20 53</td>\n      <td>14297.0</td>\n      <td>209.490044</td>\n    </tr>\n    <tr>\n      <th>206</th>\n      <td>Preta</td>\n      <td>736083</td>\n      <td>SE_20 53</td>\n      <td>2108.0</td>\n      <td>286.380748</td>\n    </tr>\n    <tr>\n      <th>207</th>\n      <td>Amarela</td>\n      <td>246244</td>\n      <td>SE_20 53</td>\n      <td>544.0</td>\n      <td>220.919088</td>\n    </tr>\n    <tr>\n      <th>208</th>\n      <td>Parda</td>\n      <td>3433218</td>\n      <td>SE_20 53</td>\n      <td>5367.0</td>\n      <td>156.325640</td>\n    </tr>\n    <tr>\n      <th>209</th>\n      <td>Indígena</td>\n      <td>12977</td>\n      <td>SE_20 53</td>\n      <td>16.0</td>\n      <td>123.295060</td>\n    </tr>\n  </tbody>\n</table>\n<p>210 rows × 5 columns</p>\n</div>",
      "text/plain": "          Cor  Habitantes    Semana   Óbitos  Óbitos por 100 mil\n0      Branca     6824668  SE_20 12     51.0            0.747289\n1       Preta      736083  SE_20 12      2.0            0.271708\n2     Amarela      246244  SE_20 12      2.0            0.812203\n3       Parda     3433218  SE_20 12      5.0            0.145636\n4    Indígena       12977  SE_20 12      0.0            0.000000\n5      Branca     6824668  SE_20 13    229.0            3.355475\n6       Preta      736083  SE_20 13     17.0            2.309522\n7     Amarela      246244  SE_20 13     12.0            4.873215\n8       Parda     3433218  SE_20 13     42.0            1.223342\n9    Indígena       12977  SE_20 13      1.0            7.705941\n10     Branca     6824668  SE_20 14    591.0            8.659762\n11      Preta      736083  SE_20 14     71.0            9.645651\n12    Amarela      246244  SE_20 14     28.0           11.370835\n13      Parda     3433218  SE_20 14    168.0            4.893368\n14   Indígena       12977  SE_20 14      1.0            7.705941\n15     Branca     6824668  SE_20 15   1028.0           15.063004\n16      Preta      736083  SE_20 15    135.0           18.340323\n17    Amarela      246244  SE_20 15     45.0           18.274557\n18      Parda     3433218  SE_20 15    339.0            9.874118\n19   Indígena       12977  SE_20 15      3.0           23.117824\n20     Branca     6824668  SE_20 16   1470.0           21.539509\n21      Preta      736083  SE_20 16    190.0           25.812306\n22    Amarela      246244  SE_20 16     64.0           25.990481\n23      Parda     3433218  SE_20 16    526.0           15.320903\n24   Indígena       12977  SE_20 16      3.0           23.117824\n25     Branca     6824668  SE_20 17   1971.0           28.880526\n26      Preta      736083  SE_20 17    268.0           36.408938\n27    Amarela      246244  SE_20 17     92.0           37.361316\n28      Parda     3433218  SE_20 17    733.0           21.350232\n29   Indígena       12977  SE_20 17      4.0           30.823765\n..        ...         ...       ...      ...                 ...\n180    Branca     6824668  SE_20 48  13031.0          190.939691\n181     Preta      736083  SE_20 48   1931.0          262.334547\n182   Amarela      246244  SE_20 48    484.0          196.553012\n183     Parda     3433218  SE_20 48   4997.0          145.548579\n184  Indígena       12977  SE_20 48     15.0          115.589119\n185    Branca     6824668  SE_20 49  13259.0          194.280513\n186     Preta      736083  SE_20 49   1958.0          266.002611\n187   Amarela      246244  SE_20 49    492.0          199.801823\n188     Parda     3433218  SE_20 49   5073.0          147.762245\n189  Indígena       12977  SE_20 49     15.0          115.589119\n190    Branca     6824668  SE_20 50  13521.0          198.119528\n191     Preta      736083  SE_20 50   1998.0          271.436781\n192   Amarela      246244  SE_20 50    503.0          204.268937\n193     Parda     3433218  SE_20 50   5139.0          149.684640\n194  Indígena       12977  SE_20 50     16.0          123.295060\n195    Branca     6824668  SE_20 51  13822.0          202.529999\n196     Preta      736083  SE_20 51   2037.0          276.735096\n197   Amarela      246244  SE_20 51    514.0          208.736050\n198     Parda     3433218  SE_20 51   5223.0          152.131324\n199  Indígena       12977  SE_20 51     16.0          123.295060\n200    Branca     6824668  SE_20 52  14106.0          206.691373\n201     Preta      736083  SE_20 52   2081.0          282.712683\n202   Amarela      246244  SE_20 52    529.0          214.827569\n203     Parda     3433218  SE_20 52   5303.0          154.461499\n204  Indígena       12977  SE_20 52     16.0          123.295060\n205    Branca     6824668  SE_20 53  14297.0          209.490044\n206     Preta      736083  SE_20 53   2108.0          286.380748\n207   Amarela      246244  SE_20 53    544.0          220.919088\n208     Parda     3433218  SE_20 53   5367.0          156.325640\n209  Indígena       12977  SE_20 53     16.0          123.295060\n\n[210 rows x 5 columns]"
     },
     "metadata": {},
     "output_type": "display_data"
    }
   ],
   "source": [
    "#Carregando o dataset de população por idade por raça\n",
    "mort_ml = pd.read_csv('mortalidade-cor-semana-tratado.csv', sep=',')\n",
    "\n",
    "#Removendo a coluna de índice\n",
    "mort_ml = mort_ml.iloc[: , 1:]\n",
    "\n",
    "#Exibindo o dataset\n",
    "print('\\nTabela Pré-Tratada - Mortalidade Cor Semana')\n",
    "display(mort_ml)"
   ]
  },
  {
   "cell_type": "code",
   "execution_count": 3,
   "metadata": {},
   "outputs": [
    {
     "data": {
      "text/html": "<div>\n<style scoped>\n    .dataframe tbody tr th:only-of-type {\n        vertical-align: middle;\n    }\n\n    .dataframe tbody tr th {\n        vertical-align: top;\n    }\n\n    .dataframe thead th {\n        text-align: right;\n    }\n</style>\n<table border=\"1\" class=\"dataframe\">\n  <thead>\n    <tr style=\"text-align: right;\">\n      <th></th>\n      <th>Semana</th>\n      <th>Cor</th>\n      <th>TIPO</th>\n      <th>ÓBITOS</th>\n    </tr>\n  </thead>\n  <tbody>\n    <tr>\n      <th>0</th>\n      <td>SE_20 12</td>\n      <td>Branca</td>\n      <td>Óbitos</td>\n      <td>51.0</td>\n    </tr>\n    <tr>\n      <th>1</th>\n      <td>SE_20 12</td>\n      <td>Preta</td>\n      <td>Óbitos</td>\n      <td>2.0</td>\n    </tr>\n    <tr>\n      <th>2</th>\n      <td>SE_20 12</td>\n      <td>Amarela</td>\n      <td>Óbitos</td>\n      <td>2.0</td>\n    </tr>\n    <tr>\n      <th>3</th>\n      <td>SE_20 12</td>\n      <td>Parda</td>\n      <td>Óbitos</td>\n      <td>5.0</td>\n    </tr>\n    <tr>\n      <th>4</th>\n      <td>SE_20 12</td>\n      <td>Indígena</td>\n      <td>Óbitos</td>\n      <td>0.0</td>\n    </tr>\n    <tr>\n      <th>5</th>\n      <td>SE_20 13</td>\n      <td>Branca</td>\n      <td>Óbitos</td>\n      <td>229.0</td>\n    </tr>\n    <tr>\n      <th>6</th>\n      <td>SE_20 13</td>\n      <td>Preta</td>\n      <td>Óbitos</td>\n      <td>17.0</td>\n    </tr>\n    <tr>\n      <th>7</th>\n      <td>SE_20 13</td>\n      <td>Amarela</td>\n      <td>Óbitos</td>\n      <td>12.0</td>\n    </tr>\n    <tr>\n      <th>8</th>\n      <td>SE_20 13</td>\n      <td>Parda</td>\n      <td>Óbitos</td>\n      <td>42.0</td>\n    </tr>\n    <tr>\n      <th>9</th>\n      <td>SE_20 13</td>\n      <td>Indígena</td>\n      <td>Óbitos</td>\n      <td>1.0</td>\n    </tr>\n    <tr>\n      <th>10</th>\n      <td>SE_20 14</td>\n      <td>Branca</td>\n      <td>Óbitos</td>\n      <td>591.0</td>\n    </tr>\n    <tr>\n      <th>11</th>\n      <td>SE_20 14</td>\n      <td>Preta</td>\n      <td>Óbitos</td>\n      <td>71.0</td>\n    </tr>\n    <tr>\n      <th>12</th>\n      <td>SE_20 14</td>\n      <td>Amarela</td>\n      <td>Óbitos</td>\n      <td>28.0</td>\n    </tr>\n    <tr>\n      <th>13</th>\n      <td>SE_20 14</td>\n      <td>Parda</td>\n      <td>Óbitos</td>\n      <td>168.0</td>\n    </tr>\n    <tr>\n      <th>14</th>\n      <td>SE_20 14</td>\n      <td>Indígena</td>\n      <td>Óbitos</td>\n      <td>1.0</td>\n    </tr>\n    <tr>\n      <th>15</th>\n      <td>SE_20 15</td>\n      <td>Branca</td>\n      <td>Óbitos</td>\n      <td>1028.0</td>\n    </tr>\n    <tr>\n      <th>16</th>\n      <td>SE_20 15</td>\n      <td>Preta</td>\n      <td>Óbitos</td>\n      <td>135.0</td>\n    </tr>\n    <tr>\n      <th>17</th>\n      <td>SE_20 15</td>\n      <td>Amarela</td>\n      <td>Óbitos</td>\n      <td>45.0</td>\n    </tr>\n    <tr>\n      <th>18</th>\n      <td>SE_20 15</td>\n      <td>Parda</td>\n      <td>Óbitos</td>\n      <td>339.0</td>\n    </tr>\n    <tr>\n      <th>19</th>\n      <td>SE_20 15</td>\n      <td>Indígena</td>\n      <td>Óbitos</td>\n      <td>3.0</td>\n    </tr>\n    <tr>\n      <th>20</th>\n      <td>SE_20 16</td>\n      <td>Branca</td>\n      <td>Óbitos</td>\n      <td>1470.0</td>\n    </tr>\n    <tr>\n      <th>21</th>\n      <td>SE_20 16</td>\n      <td>Preta</td>\n      <td>Óbitos</td>\n      <td>190.0</td>\n    </tr>\n    <tr>\n      <th>22</th>\n      <td>SE_20 16</td>\n      <td>Amarela</td>\n      <td>Óbitos</td>\n      <td>64.0</td>\n    </tr>\n    <tr>\n      <th>23</th>\n      <td>SE_20 16</td>\n      <td>Parda</td>\n      <td>Óbitos</td>\n      <td>526.0</td>\n    </tr>\n    <tr>\n      <th>24</th>\n      <td>SE_20 16</td>\n      <td>Indígena</td>\n      <td>Óbitos</td>\n      <td>3.0</td>\n    </tr>\n    <tr>\n      <th>25</th>\n      <td>SE_20 17</td>\n      <td>Branca</td>\n      <td>Óbitos</td>\n      <td>1971.0</td>\n    </tr>\n    <tr>\n      <th>26</th>\n      <td>SE_20 17</td>\n      <td>Preta</td>\n      <td>Óbitos</td>\n      <td>268.0</td>\n    </tr>\n    <tr>\n      <th>27</th>\n      <td>SE_20 17</td>\n      <td>Amarela</td>\n      <td>Óbitos</td>\n      <td>92.0</td>\n    </tr>\n    <tr>\n      <th>28</th>\n      <td>SE_20 17</td>\n      <td>Parda</td>\n      <td>Óbitos</td>\n      <td>733.0</td>\n    </tr>\n    <tr>\n      <th>29</th>\n      <td>SE_20 17</td>\n      <td>Indígena</td>\n      <td>Óbitos</td>\n      <td>4.0</td>\n    </tr>\n    <tr>\n      <th>...</th>\n      <td>...</td>\n      <td>...</td>\n      <td>...</td>\n      <td>...</td>\n    </tr>\n    <tr>\n      <th>180</th>\n      <td>SE_20 48</td>\n      <td>Branca</td>\n      <td>Óbitos</td>\n      <td>13031.0</td>\n    </tr>\n    <tr>\n      <th>181</th>\n      <td>SE_20 48</td>\n      <td>Preta</td>\n      <td>Óbitos</td>\n      <td>1931.0</td>\n    </tr>\n    <tr>\n      <th>182</th>\n      <td>SE_20 48</td>\n      <td>Amarela</td>\n      <td>Óbitos</td>\n      <td>484.0</td>\n    </tr>\n    <tr>\n      <th>183</th>\n      <td>SE_20 48</td>\n      <td>Parda</td>\n      <td>Óbitos</td>\n      <td>4997.0</td>\n    </tr>\n    <tr>\n      <th>184</th>\n      <td>SE_20 48</td>\n      <td>Indígena</td>\n      <td>Óbitos</td>\n      <td>15.0</td>\n    </tr>\n    <tr>\n      <th>185</th>\n      <td>SE_20 49</td>\n      <td>Branca</td>\n      <td>Óbitos</td>\n      <td>13259.0</td>\n    </tr>\n    <tr>\n      <th>186</th>\n      <td>SE_20 49</td>\n      <td>Preta</td>\n      <td>Óbitos</td>\n      <td>1958.0</td>\n    </tr>\n    <tr>\n      <th>187</th>\n      <td>SE_20 49</td>\n      <td>Amarela</td>\n      <td>Óbitos</td>\n      <td>492.0</td>\n    </tr>\n    <tr>\n      <th>188</th>\n      <td>SE_20 49</td>\n      <td>Parda</td>\n      <td>Óbitos</td>\n      <td>5073.0</td>\n    </tr>\n    <tr>\n      <th>189</th>\n      <td>SE_20 49</td>\n      <td>Indígena</td>\n      <td>Óbitos</td>\n      <td>15.0</td>\n    </tr>\n    <tr>\n      <th>190</th>\n      <td>SE_20 50</td>\n      <td>Branca</td>\n      <td>Óbitos</td>\n      <td>13521.0</td>\n    </tr>\n    <tr>\n      <th>191</th>\n      <td>SE_20 50</td>\n      <td>Preta</td>\n      <td>Óbitos</td>\n      <td>1998.0</td>\n    </tr>\n    <tr>\n      <th>192</th>\n      <td>SE_20 50</td>\n      <td>Amarela</td>\n      <td>Óbitos</td>\n      <td>503.0</td>\n    </tr>\n    <tr>\n      <th>193</th>\n      <td>SE_20 50</td>\n      <td>Parda</td>\n      <td>Óbitos</td>\n      <td>5139.0</td>\n    </tr>\n    <tr>\n      <th>194</th>\n      <td>SE_20 50</td>\n      <td>Indígena</td>\n      <td>Óbitos</td>\n      <td>16.0</td>\n    </tr>\n    <tr>\n      <th>195</th>\n      <td>SE_20 51</td>\n      <td>Branca</td>\n      <td>Óbitos</td>\n      <td>13822.0</td>\n    </tr>\n    <tr>\n      <th>196</th>\n      <td>SE_20 51</td>\n      <td>Preta</td>\n      <td>Óbitos</td>\n      <td>2037.0</td>\n    </tr>\n    <tr>\n      <th>197</th>\n      <td>SE_20 51</td>\n      <td>Amarela</td>\n      <td>Óbitos</td>\n      <td>514.0</td>\n    </tr>\n    <tr>\n      <th>198</th>\n      <td>SE_20 51</td>\n      <td>Parda</td>\n      <td>Óbitos</td>\n      <td>5223.0</td>\n    </tr>\n    <tr>\n      <th>199</th>\n      <td>SE_20 51</td>\n      <td>Indígena</td>\n      <td>Óbitos</td>\n      <td>16.0</td>\n    </tr>\n    <tr>\n      <th>200</th>\n      <td>SE_20 52</td>\n      <td>Branca</td>\n      <td>Óbitos</td>\n      <td>14106.0</td>\n    </tr>\n    <tr>\n      <th>201</th>\n      <td>SE_20 52</td>\n      <td>Preta</td>\n      <td>Óbitos</td>\n      <td>2081.0</td>\n    </tr>\n    <tr>\n      <th>202</th>\n      <td>SE_20 52</td>\n      <td>Amarela</td>\n      <td>Óbitos</td>\n      <td>529.0</td>\n    </tr>\n    <tr>\n      <th>203</th>\n      <td>SE_20 52</td>\n      <td>Parda</td>\n      <td>Óbitos</td>\n      <td>5303.0</td>\n    </tr>\n    <tr>\n      <th>204</th>\n      <td>SE_20 52</td>\n      <td>Indígena</td>\n      <td>Óbitos</td>\n      <td>16.0</td>\n    </tr>\n    <tr>\n      <th>205</th>\n      <td>SE_20 53</td>\n      <td>Branca</td>\n      <td>Óbitos</td>\n      <td>14297.0</td>\n    </tr>\n    <tr>\n      <th>206</th>\n      <td>SE_20 53</td>\n      <td>Preta</td>\n      <td>Óbitos</td>\n      <td>2108.0</td>\n    </tr>\n    <tr>\n      <th>207</th>\n      <td>SE_20 53</td>\n      <td>Amarela</td>\n      <td>Óbitos</td>\n      <td>544.0</td>\n    </tr>\n    <tr>\n      <th>208</th>\n      <td>SE_20 53</td>\n      <td>Parda</td>\n      <td>Óbitos</td>\n      <td>5367.0</td>\n    </tr>\n    <tr>\n      <th>209</th>\n      <td>SE_20 53</td>\n      <td>Indígena</td>\n      <td>Óbitos</td>\n      <td>16.0</td>\n    </tr>\n  </tbody>\n</table>\n<p>210 rows × 4 columns</p>\n</div>",
      "text/plain": "       Semana       Cor    TIPO   ÓBITOS\n0    SE_20 12    Branca  Óbitos     51.0\n1    SE_20 12     Preta  Óbitos      2.0\n2    SE_20 12   Amarela  Óbitos      2.0\n3    SE_20 12     Parda  Óbitos      5.0\n4    SE_20 12  Indígena  Óbitos      0.0\n5    SE_20 13    Branca  Óbitos    229.0\n6    SE_20 13     Preta  Óbitos     17.0\n7    SE_20 13   Amarela  Óbitos     12.0\n8    SE_20 13     Parda  Óbitos     42.0\n9    SE_20 13  Indígena  Óbitos      1.0\n10   SE_20 14    Branca  Óbitos    591.0\n11   SE_20 14     Preta  Óbitos     71.0\n12   SE_20 14   Amarela  Óbitos     28.0\n13   SE_20 14     Parda  Óbitos    168.0\n14   SE_20 14  Indígena  Óbitos      1.0\n15   SE_20 15    Branca  Óbitos   1028.0\n16   SE_20 15     Preta  Óbitos    135.0\n17   SE_20 15   Amarela  Óbitos     45.0\n18   SE_20 15     Parda  Óbitos    339.0\n19   SE_20 15  Indígena  Óbitos      3.0\n20   SE_20 16    Branca  Óbitos   1470.0\n21   SE_20 16     Preta  Óbitos    190.0\n22   SE_20 16   Amarela  Óbitos     64.0\n23   SE_20 16     Parda  Óbitos    526.0\n24   SE_20 16  Indígena  Óbitos      3.0\n25   SE_20 17    Branca  Óbitos   1971.0\n26   SE_20 17     Preta  Óbitos    268.0\n27   SE_20 17   Amarela  Óbitos     92.0\n28   SE_20 17     Parda  Óbitos    733.0\n29   SE_20 17  Indígena  Óbitos      4.0\n..        ...       ...     ...      ...\n180  SE_20 48    Branca  Óbitos  13031.0\n181  SE_20 48     Preta  Óbitos   1931.0\n182  SE_20 48   Amarela  Óbitos    484.0\n183  SE_20 48     Parda  Óbitos   4997.0\n184  SE_20 48  Indígena  Óbitos     15.0\n185  SE_20 49    Branca  Óbitos  13259.0\n186  SE_20 49     Preta  Óbitos   1958.0\n187  SE_20 49   Amarela  Óbitos    492.0\n188  SE_20 49     Parda  Óbitos   5073.0\n189  SE_20 49  Indígena  Óbitos     15.0\n190  SE_20 50    Branca  Óbitos  13521.0\n191  SE_20 50     Preta  Óbitos   1998.0\n192  SE_20 50   Amarela  Óbitos    503.0\n193  SE_20 50     Parda  Óbitos   5139.0\n194  SE_20 50  Indígena  Óbitos     16.0\n195  SE_20 51    Branca  Óbitos  13822.0\n196  SE_20 51     Preta  Óbitos   2037.0\n197  SE_20 51   Amarela  Óbitos    514.0\n198  SE_20 51     Parda  Óbitos   5223.0\n199  SE_20 51  Indígena  Óbitos     16.0\n200  SE_20 52    Branca  Óbitos  14106.0\n201  SE_20 52     Preta  Óbitos   2081.0\n202  SE_20 52   Amarela  Óbitos    529.0\n203  SE_20 52     Parda  Óbitos   5303.0\n204  SE_20 52  Indígena  Óbitos     16.0\n205  SE_20 53    Branca  Óbitos  14297.0\n206  SE_20 53     Preta  Óbitos   2108.0\n207  SE_20 53   Amarela  Óbitos    544.0\n208  SE_20 53     Parda  Óbitos   5367.0\n209  SE_20 53  Indígena  Óbitos     16.0\n\n[210 rows x 4 columns]"
     },
     "metadata": {},
     "output_type": "display_data"
    }
   ],
   "source": [
    "#display(mort_ml.columns[3:-1])\n",
    "\n",
    "mort_melt = mort_ml.melt(id_vars=['Semana','Cor'], value_vars = mort_ml.columns[3:-1],var_name='TIPO', value_name='ÓBITOS')\n",
    "\n",
    "#cor_se_melt = cor_se_soma.melt(id_vars=['Cor', 'Habitantes'], value_vars = cor_se_norm.columns[1:-2],var_name='Semana', value_name='Óbitos')\n",
    "\n",
    "display(mort_melt)"
   ]
  },
  {
   "cell_type": "code",
   "execution_count": 4,
   "metadata": {},
   "outputs": [
    {
     "data": {
      "text/html": "<div>\n<style scoped>\n    .dataframe tbody tr th:only-of-type {\n        vertical-align: middle;\n    }\n\n    .dataframe tbody tr th {\n        vertical-align: top;\n    }\n\n    .dataframe thead th {\n        text-align: right;\n    }\n</style>\n<table border=\"1\" class=\"dataframe\">\n  <thead>\n    <tr style=\"text-align: right;\">\n      <th></th>\n      <th>Semana</th>\n      <th>Cor</th>\n      <th>ÓBITOS</th>\n    </tr>\n  </thead>\n  <tbody>\n    <tr>\n      <th>0</th>\n      <td>SE_20 12</td>\n      <td>Branca</td>\n      <td>51.0</td>\n    </tr>\n    <tr>\n      <th>1</th>\n      <td>SE_20 12</td>\n      <td>Preta</td>\n      <td>2.0</td>\n    </tr>\n    <tr>\n      <th>2</th>\n      <td>SE_20 12</td>\n      <td>Amarela</td>\n      <td>2.0</td>\n    </tr>\n    <tr>\n      <th>3</th>\n      <td>SE_20 12</td>\n      <td>Parda</td>\n      <td>5.0</td>\n    </tr>\n    <tr>\n      <th>4</th>\n      <td>SE_20 12</td>\n      <td>Indígena</td>\n      <td>0.0</td>\n    </tr>\n    <tr>\n      <th>5</th>\n      <td>SE_20 13</td>\n      <td>Branca</td>\n      <td>229.0</td>\n    </tr>\n    <tr>\n      <th>6</th>\n      <td>SE_20 13</td>\n      <td>Preta</td>\n      <td>17.0</td>\n    </tr>\n    <tr>\n      <th>7</th>\n      <td>SE_20 13</td>\n      <td>Amarela</td>\n      <td>12.0</td>\n    </tr>\n    <tr>\n      <th>8</th>\n      <td>SE_20 13</td>\n      <td>Parda</td>\n      <td>42.0</td>\n    </tr>\n    <tr>\n      <th>9</th>\n      <td>SE_20 13</td>\n      <td>Indígena</td>\n      <td>1.0</td>\n    </tr>\n    <tr>\n      <th>10</th>\n      <td>SE_20 14</td>\n      <td>Branca</td>\n      <td>591.0</td>\n    </tr>\n    <tr>\n      <th>11</th>\n      <td>SE_20 14</td>\n      <td>Preta</td>\n      <td>71.0</td>\n    </tr>\n    <tr>\n      <th>12</th>\n      <td>SE_20 14</td>\n      <td>Amarela</td>\n      <td>28.0</td>\n    </tr>\n    <tr>\n      <th>13</th>\n      <td>SE_20 14</td>\n      <td>Parda</td>\n      <td>168.0</td>\n    </tr>\n    <tr>\n      <th>14</th>\n      <td>SE_20 14</td>\n      <td>Indígena</td>\n      <td>1.0</td>\n    </tr>\n    <tr>\n      <th>15</th>\n      <td>SE_20 15</td>\n      <td>Branca</td>\n      <td>1028.0</td>\n    </tr>\n    <tr>\n      <th>16</th>\n      <td>SE_20 15</td>\n      <td>Preta</td>\n      <td>135.0</td>\n    </tr>\n    <tr>\n      <th>17</th>\n      <td>SE_20 15</td>\n      <td>Amarela</td>\n      <td>45.0</td>\n    </tr>\n    <tr>\n      <th>18</th>\n      <td>SE_20 15</td>\n      <td>Parda</td>\n      <td>339.0</td>\n    </tr>\n    <tr>\n      <th>19</th>\n      <td>SE_20 15</td>\n      <td>Indígena</td>\n      <td>3.0</td>\n    </tr>\n    <tr>\n      <th>20</th>\n      <td>SE_20 16</td>\n      <td>Branca</td>\n      <td>1470.0</td>\n    </tr>\n    <tr>\n      <th>21</th>\n      <td>SE_20 16</td>\n      <td>Preta</td>\n      <td>190.0</td>\n    </tr>\n    <tr>\n      <th>22</th>\n      <td>SE_20 16</td>\n      <td>Amarela</td>\n      <td>64.0</td>\n    </tr>\n    <tr>\n      <th>23</th>\n      <td>SE_20 16</td>\n      <td>Parda</td>\n      <td>526.0</td>\n    </tr>\n    <tr>\n      <th>24</th>\n      <td>SE_20 16</td>\n      <td>Indígena</td>\n      <td>3.0</td>\n    </tr>\n    <tr>\n      <th>25</th>\n      <td>SE_20 17</td>\n      <td>Branca</td>\n      <td>1971.0</td>\n    </tr>\n    <tr>\n      <th>26</th>\n      <td>SE_20 17</td>\n      <td>Preta</td>\n      <td>268.0</td>\n    </tr>\n    <tr>\n      <th>27</th>\n      <td>SE_20 17</td>\n      <td>Amarela</td>\n      <td>92.0</td>\n    </tr>\n    <tr>\n      <th>28</th>\n      <td>SE_20 17</td>\n      <td>Parda</td>\n      <td>733.0</td>\n    </tr>\n    <tr>\n      <th>29</th>\n      <td>SE_20 17</td>\n      <td>Indígena</td>\n      <td>4.0</td>\n    </tr>\n    <tr>\n      <th>...</th>\n      <td>...</td>\n      <td>...</td>\n      <td>...</td>\n    </tr>\n    <tr>\n      <th>180</th>\n      <td>SE_20 48</td>\n      <td>Branca</td>\n      <td>13031.0</td>\n    </tr>\n    <tr>\n      <th>181</th>\n      <td>SE_20 48</td>\n      <td>Preta</td>\n      <td>1931.0</td>\n    </tr>\n    <tr>\n      <th>182</th>\n      <td>SE_20 48</td>\n      <td>Amarela</td>\n      <td>484.0</td>\n    </tr>\n    <tr>\n      <th>183</th>\n      <td>SE_20 48</td>\n      <td>Parda</td>\n      <td>4997.0</td>\n    </tr>\n    <tr>\n      <th>184</th>\n      <td>SE_20 48</td>\n      <td>Indígena</td>\n      <td>15.0</td>\n    </tr>\n    <tr>\n      <th>185</th>\n      <td>SE_20 49</td>\n      <td>Branca</td>\n      <td>13259.0</td>\n    </tr>\n    <tr>\n      <th>186</th>\n      <td>SE_20 49</td>\n      <td>Preta</td>\n      <td>1958.0</td>\n    </tr>\n    <tr>\n      <th>187</th>\n      <td>SE_20 49</td>\n      <td>Amarela</td>\n      <td>492.0</td>\n    </tr>\n    <tr>\n      <th>188</th>\n      <td>SE_20 49</td>\n      <td>Parda</td>\n      <td>5073.0</td>\n    </tr>\n    <tr>\n      <th>189</th>\n      <td>SE_20 49</td>\n      <td>Indígena</td>\n      <td>15.0</td>\n    </tr>\n    <tr>\n      <th>190</th>\n      <td>SE_20 50</td>\n      <td>Branca</td>\n      <td>13521.0</td>\n    </tr>\n    <tr>\n      <th>191</th>\n      <td>SE_20 50</td>\n      <td>Preta</td>\n      <td>1998.0</td>\n    </tr>\n    <tr>\n      <th>192</th>\n      <td>SE_20 50</td>\n      <td>Amarela</td>\n      <td>503.0</td>\n    </tr>\n    <tr>\n      <th>193</th>\n      <td>SE_20 50</td>\n      <td>Parda</td>\n      <td>5139.0</td>\n    </tr>\n    <tr>\n      <th>194</th>\n      <td>SE_20 50</td>\n      <td>Indígena</td>\n      <td>16.0</td>\n    </tr>\n    <tr>\n      <th>195</th>\n      <td>SE_20 51</td>\n      <td>Branca</td>\n      <td>13822.0</td>\n    </tr>\n    <tr>\n      <th>196</th>\n      <td>SE_20 51</td>\n      <td>Preta</td>\n      <td>2037.0</td>\n    </tr>\n    <tr>\n      <th>197</th>\n      <td>SE_20 51</td>\n      <td>Amarela</td>\n      <td>514.0</td>\n    </tr>\n    <tr>\n      <th>198</th>\n      <td>SE_20 51</td>\n      <td>Parda</td>\n      <td>5223.0</td>\n    </tr>\n    <tr>\n      <th>199</th>\n      <td>SE_20 51</td>\n      <td>Indígena</td>\n      <td>16.0</td>\n    </tr>\n    <tr>\n      <th>200</th>\n      <td>SE_20 52</td>\n      <td>Branca</td>\n      <td>14106.0</td>\n    </tr>\n    <tr>\n      <th>201</th>\n      <td>SE_20 52</td>\n      <td>Preta</td>\n      <td>2081.0</td>\n    </tr>\n    <tr>\n      <th>202</th>\n      <td>SE_20 52</td>\n      <td>Amarela</td>\n      <td>529.0</td>\n    </tr>\n    <tr>\n      <th>203</th>\n      <td>SE_20 52</td>\n      <td>Parda</td>\n      <td>5303.0</td>\n    </tr>\n    <tr>\n      <th>204</th>\n      <td>SE_20 52</td>\n      <td>Indígena</td>\n      <td>16.0</td>\n    </tr>\n    <tr>\n      <th>205</th>\n      <td>SE_20 53</td>\n      <td>Branca</td>\n      <td>14297.0</td>\n    </tr>\n    <tr>\n      <th>206</th>\n      <td>SE_20 53</td>\n      <td>Preta</td>\n      <td>2108.0</td>\n    </tr>\n    <tr>\n      <th>207</th>\n      <td>SE_20 53</td>\n      <td>Amarela</td>\n      <td>544.0</td>\n    </tr>\n    <tr>\n      <th>208</th>\n      <td>SE_20 53</td>\n      <td>Parda</td>\n      <td>5367.0</td>\n    </tr>\n    <tr>\n      <th>209</th>\n      <td>SE_20 53</td>\n      <td>Indígena</td>\n      <td>16.0</td>\n    </tr>\n  </tbody>\n</table>\n<p>210 rows × 3 columns</p>\n</div>",
      "text/plain": "       Semana       Cor   ÓBITOS\n0    SE_20 12    Branca     51.0\n1    SE_20 12     Preta      2.0\n2    SE_20 12   Amarela      2.0\n3    SE_20 12     Parda      5.0\n4    SE_20 12  Indígena      0.0\n5    SE_20 13    Branca    229.0\n6    SE_20 13     Preta     17.0\n7    SE_20 13   Amarela     12.0\n8    SE_20 13     Parda     42.0\n9    SE_20 13  Indígena      1.0\n10   SE_20 14    Branca    591.0\n11   SE_20 14     Preta     71.0\n12   SE_20 14   Amarela     28.0\n13   SE_20 14     Parda    168.0\n14   SE_20 14  Indígena      1.0\n15   SE_20 15    Branca   1028.0\n16   SE_20 15     Preta    135.0\n17   SE_20 15   Amarela     45.0\n18   SE_20 15     Parda    339.0\n19   SE_20 15  Indígena      3.0\n20   SE_20 16    Branca   1470.0\n21   SE_20 16     Preta    190.0\n22   SE_20 16   Amarela     64.0\n23   SE_20 16     Parda    526.0\n24   SE_20 16  Indígena      3.0\n25   SE_20 17    Branca   1971.0\n26   SE_20 17     Preta    268.0\n27   SE_20 17   Amarela     92.0\n28   SE_20 17     Parda    733.0\n29   SE_20 17  Indígena      4.0\n..        ...       ...      ...\n180  SE_20 48    Branca  13031.0\n181  SE_20 48     Preta   1931.0\n182  SE_20 48   Amarela    484.0\n183  SE_20 48     Parda   4997.0\n184  SE_20 48  Indígena     15.0\n185  SE_20 49    Branca  13259.0\n186  SE_20 49     Preta   1958.0\n187  SE_20 49   Amarela    492.0\n188  SE_20 49     Parda   5073.0\n189  SE_20 49  Indígena     15.0\n190  SE_20 50    Branca  13521.0\n191  SE_20 50     Preta   1998.0\n192  SE_20 50   Amarela    503.0\n193  SE_20 50     Parda   5139.0\n194  SE_20 50  Indígena     16.0\n195  SE_20 51    Branca  13822.0\n196  SE_20 51     Preta   2037.0\n197  SE_20 51   Amarela    514.0\n198  SE_20 51     Parda   5223.0\n199  SE_20 51  Indígena     16.0\n200  SE_20 52    Branca  14106.0\n201  SE_20 52     Preta   2081.0\n202  SE_20 52   Amarela    529.0\n203  SE_20 52     Parda   5303.0\n204  SE_20 52  Indígena     16.0\n205  SE_20 53    Branca  14297.0\n206  SE_20 53     Preta   2108.0\n207  SE_20 53   Amarela    544.0\n208  SE_20 53     Parda   5367.0\n209  SE_20 53  Indígena     16.0\n\n[210 rows x 3 columns]"
     },
     "metadata": {},
     "output_type": "display_data"
    }
   ],
   "source": [
    "#mort_melt[\"Mortes\"] = mort_melt[\"Cor\"] +\" - \"+mort_melt[\"VARNAME\"]\n",
    "\n",
    "#Removendo coluna TIPO\n",
    "mort_melt.drop('TIPO', 1, inplace=True)\n",
    "\n",
    "display(mort_melt)\n"
   ]
  },
  {
   "cell_type": "code",
   "execution_count": 5,
   "metadata": {},
   "outputs": [
    {
     "data": {
      "text/html": "<div>\n<style scoped>\n    .dataframe tbody tr th:only-of-type {\n        vertical-align: middle;\n    }\n\n    .dataframe tbody tr th {\n        vertical-align: top;\n    }\n\n    .dataframe thead th {\n        text-align: right;\n    }\n</style>\n<table border=\"1\" class=\"dataframe\">\n  <thead>\n    <tr style=\"text-align: right;\">\n      <th>Cor</th>\n      <th>Amarela</th>\n      <th>Branca</th>\n      <th>Indígena</th>\n      <th>Parda</th>\n      <th>Preta</th>\n    </tr>\n    <tr>\n      <th>Semana</th>\n      <th></th>\n      <th></th>\n      <th></th>\n      <th></th>\n      <th></th>\n    </tr>\n  </thead>\n  <tbody>\n    <tr>\n      <th>SE_20 12</th>\n      <td>2.0</td>\n      <td>51.0</td>\n      <td>0.0</td>\n      <td>5.0</td>\n      <td>2.0</td>\n    </tr>\n    <tr>\n      <th>SE_20 13</th>\n      <td>12.0</td>\n      <td>229.0</td>\n      <td>1.0</td>\n      <td>42.0</td>\n      <td>17.0</td>\n    </tr>\n    <tr>\n      <th>SE_20 14</th>\n      <td>28.0</td>\n      <td>591.0</td>\n      <td>1.0</td>\n      <td>168.0</td>\n      <td>71.0</td>\n    </tr>\n    <tr>\n      <th>SE_20 15</th>\n      <td>45.0</td>\n      <td>1028.0</td>\n      <td>3.0</td>\n      <td>339.0</td>\n      <td>135.0</td>\n    </tr>\n    <tr>\n      <th>SE_20 16</th>\n      <td>64.0</td>\n      <td>1470.0</td>\n      <td>3.0</td>\n      <td>526.0</td>\n      <td>190.0</td>\n    </tr>\n    <tr>\n      <th>SE_20 17</th>\n      <td>92.0</td>\n      <td>1971.0</td>\n      <td>4.0</td>\n      <td>733.0</td>\n      <td>268.0</td>\n    </tr>\n    <tr>\n      <th>SE_20 18</th>\n      <td>116.0</td>\n      <td>2605.0</td>\n      <td>4.0</td>\n      <td>1016.0</td>\n      <td>370.0</td>\n    </tr>\n    <tr>\n      <th>SE_20 19</th>\n      <td>146.0</td>\n      <td>3220.0</td>\n      <td>6.0</td>\n      <td>1317.0</td>\n      <td>456.0</td>\n    </tr>\n    <tr>\n      <th>SE_20 20</th>\n      <td>164.0</td>\n      <td>3905.0</td>\n      <td>7.0</td>\n      <td>1615.0</td>\n      <td>576.0</td>\n    </tr>\n    <tr>\n      <th>SE_20 21</th>\n      <td>183.0</td>\n      <td>4573.0</td>\n      <td>8.0</td>\n      <td>1940.0</td>\n      <td>661.0</td>\n    </tr>\n    <tr>\n      <th>SE_20 22</th>\n      <td>202.0</td>\n      <td>5260.0</td>\n      <td>8.0</td>\n      <td>2210.0</td>\n      <td>768.0</td>\n    </tr>\n    <tr>\n      <th>SE_20 23</th>\n      <td>224.0</td>\n      <td>5914.0</td>\n      <td>9.0</td>\n      <td>2472.0</td>\n      <td>885.0</td>\n    </tr>\n    <tr>\n      <th>SE_20 24</th>\n      <td>248.0</td>\n      <td>6572.0</td>\n      <td>10.0</td>\n      <td>2742.0</td>\n      <td>997.0</td>\n    </tr>\n    <tr>\n      <th>SE_20 25</th>\n      <td>263.0</td>\n      <td>7127.0</td>\n      <td>11.0</td>\n      <td>2951.0</td>\n      <td>1093.0</td>\n    </tr>\n    <tr>\n      <th>SE_20 26</th>\n      <td>279.0</td>\n      <td>7613.0</td>\n      <td>11.0</td>\n      <td>3126.0</td>\n      <td>1170.0</td>\n    </tr>\n    <tr>\n      <th>SE_20 27</th>\n      <td>300.0</td>\n      <td>8038.0</td>\n      <td>11.0</td>\n      <td>3282.0</td>\n      <td>1245.0</td>\n    </tr>\n    <tr>\n      <th>SE_20 28</th>\n      <td>311.0</td>\n      <td>8477.0</td>\n      <td>11.0</td>\n      <td>3432.0</td>\n      <td>1304.0</td>\n    </tr>\n    <tr>\n      <th>SE_20 29</th>\n      <td>330.0</td>\n      <td>8918.0</td>\n      <td>12.0</td>\n      <td>3574.0</td>\n      <td>1373.0</td>\n    </tr>\n    <tr>\n      <th>SE_20 30</th>\n      <td>335.0</td>\n      <td>9325.0</td>\n      <td>12.0</td>\n      <td>3722.0</td>\n      <td>1435.0</td>\n    </tr>\n    <tr>\n      <th>SE_20 31</th>\n      <td>348.0</td>\n      <td>9679.0</td>\n      <td>12.0</td>\n      <td>3849.0</td>\n      <td>1477.0</td>\n    </tr>\n    <tr>\n      <th>SE_20 32</th>\n      <td>366.0</td>\n      <td>10057.0</td>\n      <td>12.0</td>\n      <td>3991.0</td>\n      <td>1518.0</td>\n    </tr>\n    <tr>\n      <th>SE_20 33</th>\n      <td>377.0</td>\n      <td>10387.0</td>\n      <td>12.0</td>\n      <td>4120.0</td>\n      <td>1569.0</td>\n    </tr>\n    <tr>\n      <th>SE_20 34</th>\n      <td>388.0</td>\n      <td>10669.0</td>\n      <td>12.0</td>\n      <td>4224.0</td>\n      <td>1612.0</td>\n    </tr>\n    <tr>\n      <th>SE_20 35</th>\n      <td>399.0</td>\n      <td>10969.0</td>\n      <td>12.0</td>\n      <td>4312.0</td>\n      <td>1639.0</td>\n    </tr>\n    <tr>\n      <th>SE_20 36</th>\n      <td>410.0</td>\n      <td>11207.0</td>\n      <td>12.0</td>\n      <td>4392.0</td>\n      <td>1674.0</td>\n    </tr>\n    <tr>\n      <th>SE_20 37</th>\n      <td>421.0</td>\n      <td>11446.0</td>\n      <td>13.0</td>\n      <td>4477.0</td>\n      <td>1705.0</td>\n    </tr>\n    <tr>\n      <th>SE_20 38</th>\n      <td>427.0</td>\n      <td>11657.0</td>\n      <td>13.0</td>\n      <td>4542.0</td>\n      <td>1739.0</td>\n    </tr>\n    <tr>\n      <th>SE_20 39</th>\n      <td>432.0</td>\n      <td>11821.0</td>\n      <td>14.0</td>\n      <td>4595.0</td>\n      <td>1766.0</td>\n    </tr>\n    <tr>\n      <th>SE_20 40</th>\n      <td>437.0</td>\n      <td>11997.0</td>\n      <td>14.0</td>\n      <td>4649.0</td>\n      <td>1789.0</td>\n    </tr>\n    <tr>\n      <th>SE_20 41</th>\n      <td>441.0</td>\n      <td>12135.0</td>\n      <td>14.0</td>\n      <td>4705.0</td>\n      <td>1808.0</td>\n    </tr>\n    <tr>\n      <th>SE_20 42</th>\n      <td>447.0</td>\n      <td>12241.0</td>\n      <td>14.0</td>\n      <td>4752.0</td>\n      <td>1828.0</td>\n    </tr>\n    <tr>\n      <th>SE_20 43</th>\n      <td>451.0</td>\n      <td>12333.0</td>\n      <td>14.0</td>\n      <td>4783.0</td>\n      <td>1846.0</td>\n    </tr>\n    <tr>\n      <th>SE_20 44</th>\n      <td>457.0</td>\n      <td>12438.0</td>\n      <td>14.0</td>\n      <td>4820.0</td>\n      <td>1855.0</td>\n    </tr>\n    <tr>\n      <th>SE_20 45</th>\n      <td>459.0</td>\n      <td>12543.0</td>\n      <td>15.0</td>\n      <td>4856.0</td>\n      <td>1869.0</td>\n    </tr>\n    <tr>\n      <th>SE_20 46</th>\n      <td>465.0</td>\n      <td>12680.0</td>\n      <td>15.0</td>\n      <td>4898.0</td>\n      <td>1885.0</td>\n    </tr>\n    <tr>\n      <th>SE_20 47</th>\n      <td>475.0</td>\n      <td>12839.0</td>\n      <td>15.0</td>\n      <td>4946.0</td>\n      <td>1901.0</td>\n    </tr>\n    <tr>\n      <th>SE_20 48</th>\n      <td>484.0</td>\n      <td>13031.0</td>\n      <td>15.0</td>\n      <td>4997.0</td>\n      <td>1931.0</td>\n    </tr>\n    <tr>\n      <th>SE_20 49</th>\n      <td>492.0</td>\n      <td>13259.0</td>\n      <td>15.0</td>\n      <td>5073.0</td>\n      <td>1958.0</td>\n    </tr>\n    <tr>\n      <th>SE_20 50</th>\n      <td>503.0</td>\n      <td>13521.0</td>\n      <td>16.0</td>\n      <td>5139.0</td>\n      <td>1998.0</td>\n    </tr>\n    <tr>\n      <th>SE_20 51</th>\n      <td>514.0</td>\n      <td>13822.0</td>\n      <td>16.0</td>\n      <td>5223.0</td>\n      <td>2037.0</td>\n    </tr>\n    <tr>\n      <th>SE_20 52</th>\n      <td>529.0</td>\n      <td>14106.0</td>\n      <td>16.0</td>\n      <td>5303.0</td>\n      <td>2081.0</td>\n    </tr>\n    <tr>\n      <th>SE_20 53</th>\n      <td>544.0</td>\n      <td>14297.0</td>\n      <td>16.0</td>\n      <td>5367.0</td>\n      <td>2108.0</td>\n    </tr>\n  </tbody>\n</table>\n</div>",
      "text/plain": "Cor       Amarela   Branca  Indígena   Parda   Preta\nSemana                                              \nSE_20 12      2.0     51.0       0.0     5.0     2.0\nSE_20 13     12.0    229.0       1.0    42.0    17.0\nSE_20 14     28.0    591.0       1.0   168.0    71.0\nSE_20 15     45.0   1028.0       3.0   339.0   135.0\nSE_20 16     64.0   1470.0       3.0   526.0   190.0\nSE_20 17     92.0   1971.0       4.0   733.0   268.0\nSE_20 18    116.0   2605.0       4.0  1016.0   370.0\nSE_20 19    146.0   3220.0       6.0  1317.0   456.0\nSE_20 20    164.0   3905.0       7.0  1615.0   576.0\nSE_20 21    183.0   4573.0       8.0  1940.0   661.0\nSE_20 22    202.0   5260.0       8.0  2210.0   768.0\nSE_20 23    224.0   5914.0       9.0  2472.0   885.0\nSE_20 24    248.0   6572.0      10.0  2742.0   997.0\nSE_20 25    263.0   7127.0      11.0  2951.0  1093.0\nSE_20 26    279.0   7613.0      11.0  3126.0  1170.0\nSE_20 27    300.0   8038.0      11.0  3282.0  1245.0\nSE_20 28    311.0   8477.0      11.0  3432.0  1304.0\nSE_20 29    330.0   8918.0      12.0  3574.0  1373.0\nSE_20 30    335.0   9325.0      12.0  3722.0  1435.0\nSE_20 31    348.0   9679.0      12.0  3849.0  1477.0\nSE_20 32    366.0  10057.0      12.0  3991.0  1518.0\nSE_20 33    377.0  10387.0      12.0  4120.0  1569.0\nSE_20 34    388.0  10669.0      12.0  4224.0  1612.0\nSE_20 35    399.0  10969.0      12.0  4312.0  1639.0\nSE_20 36    410.0  11207.0      12.0  4392.0  1674.0\nSE_20 37    421.0  11446.0      13.0  4477.0  1705.0\nSE_20 38    427.0  11657.0      13.0  4542.0  1739.0\nSE_20 39    432.0  11821.0      14.0  4595.0  1766.0\nSE_20 40    437.0  11997.0      14.0  4649.0  1789.0\nSE_20 41    441.0  12135.0      14.0  4705.0  1808.0\nSE_20 42    447.0  12241.0      14.0  4752.0  1828.0\nSE_20 43    451.0  12333.0      14.0  4783.0  1846.0\nSE_20 44    457.0  12438.0      14.0  4820.0  1855.0\nSE_20 45    459.0  12543.0      15.0  4856.0  1869.0\nSE_20 46    465.0  12680.0      15.0  4898.0  1885.0\nSE_20 47    475.0  12839.0      15.0  4946.0  1901.0\nSE_20 48    484.0  13031.0      15.0  4997.0  1931.0\nSE_20 49    492.0  13259.0      15.0  5073.0  1958.0\nSE_20 50    503.0  13521.0      16.0  5139.0  1998.0\nSE_20 51    514.0  13822.0      16.0  5223.0  2037.0\nSE_20 52    529.0  14106.0      16.0  5303.0  2081.0\nSE_20 53    544.0  14297.0      16.0  5367.0  2108.0"
     },
     "metadata": {},
     "output_type": "display_data"
    }
   ],
   "source": [
    "#pivotando semanas\n",
    "mort_pivot = mort_melt.pivot_table('ÓBITOS', ['Semana'], 'Cor')\n",
    "#mort_pivot = mort_melt.pivot_table('ÓBITOS', 'Cor','Semana')\n",
    "\n",
    "display(mort_pivot)"
   ]
  },
  {
   "cell_type": "markdown",
   "metadata": {},
   "source": [
    "### Salvando Dataset"
   ]
  },
  {
   "cell_type": "code",
   "execution_count": 6,
   "metadata": {},
   "outputs": [],
   "source": [
    "#Salvando Dataset em Arquivo\n",
    "mort_pivot.to_csv('cor-semana-pivot-tratado.csv')"
   ]
  },
  {
   "cell_type": "code",
   "execution_count": 7,
   "metadata": {},
   "outputs": [],
   "source": [
    "#Adicionando coluna TOTAL de Mortes\n",
    "mort_pivot['Total'] = mort_pivot['Amarela']+mort_pivot['Branca']+mort_pivot['Indígena']+mort_pivot['Parda']+mort_pivot['Preta']"
   ]
  },
  {
   "cell_type": "code",
   "execution_count": 8,
   "metadata": {},
   "outputs": [
    {
     "data": {
      "text/html": "<div>\n<style scoped>\n    .dataframe tbody tr th:only-of-type {\n        vertical-align: middle;\n    }\n\n    .dataframe tbody tr th {\n        vertical-align: top;\n    }\n\n    .dataframe thead th {\n        text-align: right;\n    }\n</style>\n<table border=\"1\" class=\"dataframe\">\n  <thead>\n    <tr style=\"text-align: right;\">\n      <th>Cor</th>\n      <th>Amarela</th>\n      <th>Branca</th>\n      <th>Indígena</th>\n      <th>Parda</th>\n      <th>Preta</th>\n      <th>Total</th>\n    </tr>\n    <tr>\n      <th>Semana</th>\n      <th></th>\n      <th></th>\n      <th></th>\n      <th></th>\n      <th></th>\n      <th></th>\n    </tr>\n  </thead>\n  <tbody>\n    <tr>\n      <th>SE_20 12</th>\n      <td>2.0</td>\n      <td>51.0</td>\n      <td>0.0</td>\n      <td>5.0</td>\n      <td>2.0</td>\n      <td>60.0</td>\n    </tr>\n    <tr>\n      <th>SE_20 13</th>\n      <td>12.0</td>\n      <td>229.0</td>\n      <td>1.0</td>\n      <td>42.0</td>\n      <td>17.0</td>\n      <td>301.0</td>\n    </tr>\n    <tr>\n      <th>SE_20 14</th>\n      <td>28.0</td>\n      <td>591.0</td>\n      <td>1.0</td>\n      <td>168.0</td>\n      <td>71.0</td>\n      <td>859.0</td>\n    </tr>\n    <tr>\n      <th>SE_20 15</th>\n      <td>45.0</td>\n      <td>1028.0</td>\n      <td>3.0</td>\n      <td>339.0</td>\n      <td>135.0</td>\n      <td>1550.0</td>\n    </tr>\n    <tr>\n      <th>SE_20 16</th>\n      <td>64.0</td>\n      <td>1470.0</td>\n      <td>3.0</td>\n      <td>526.0</td>\n      <td>190.0</td>\n      <td>2253.0</td>\n    </tr>\n  </tbody>\n</table>\n</div>",
      "text/plain": "Cor       Amarela  Branca  Indígena  Parda  Preta   Total\nSemana                                                   \nSE_20 12      2.0    51.0       0.0    5.0    2.0    60.0\nSE_20 13     12.0   229.0       1.0   42.0   17.0   301.0\nSE_20 14     28.0   591.0       1.0  168.0   71.0   859.0\nSE_20 15     45.0  1028.0       3.0  339.0  135.0  1550.0\nSE_20 16     64.0  1470.0       3.0  526.0  190.0  2253.0"
     },
     "execution_count": 8,
     "metadata": {},
     "output_type": "execute_result"
    }
   ],
   "source": [
    "mort_pivot.head()"
   ]
  },
  {
   "cell_type": "code",
   "execution_count": 9,
   "metadata": {},
   "outputs": [],
   "source": [
    "#Salvando Arquivo com o número de mortes\n",
    "mort_pivot.to_csv('cor-semana-pivot-tratado-total.csv')"
   ]
  },
  {
   "cell_type": "code",
   "execution_count": 10,
   "metadata": {},
   "outputs": [
    {
     "data": {
      "text/html": "<div>\n<style scoped>\n    .dataframe tbody tr th:only-of-type {\n        vertical-align: middle;\n    }\n\n    .dataframe tbody tr th {\n        vertical-align: top;\n    }\n\n    .dataframe thead th {\n        text-align: right;\n    }\n</style>\n<table border=\"1\" class=\"dataframe\">\n  <thead>\n    <tr style=\"text-align: right;\">\n      <th></th>\n      <th>Semana</th>\n      <th>Amarela</th>\n      <th>Branca</th>\n      <th>Indígena</th>\n      <th>Parda</th>\n      <th>Preta</th>\n      <th>Total</th>\n    </tr>\n  </thead>\n  <tbody>\n    <tr>\n      <th>0</th>\n      <td>SE_20 12</td>\n      <td>2.0</td>\n      <td>51.0</td>\n      <td>0.0</td>\n      <td>5.0</td>\n      <td>2.0</td>\n      <td>60.0</td>\n    </tr>\n    <tr>\n      <th>1</th>\n      <td>SE_20 13</td>\n      <td>12.0</td>\n      <td>229.0</td>\n      <td>1.0</td>\n      <td>42.0</td>\n      <td>17.0</td>\n      <td>301.0</td>\n    </tr>\n    <tr>\n      <th>2</th>\n      <td>SE_20 14</td>\n      <td>28.0</td>\n      <td>591.0</td>\n      <td>1.0</td>\n      <td>168.0</td>\n      <td>71.0</td>\n      <td>859.0</td>\n    </tr>\n    <tr>\n      <th>3</th>\n      <td>SE_20 15</td>\n      <td>45.0</td>\n      <td>1028.0</td>\n      <td>3.0</td>\n      <td>339.0</td>\n      <td>135.0</td>\n      <td>1550.0</td>\n    </tr>\n    <tr>\n      <th>4</th>\n      <td>SE_20 16</td>\n      <td>64.0</td>\n      <td>1470.0</td>\n      <td>3.0</td>\n      <td>526.0</td>\n      <td>190.0</td>\n      <td>2253.0</td>\n    </tr>\n  </tbody>\n</table>\n</div>",
      "text/plain": "     Semana  Amarela  Branca  Indígena  Parda  Preta   Total\n0  SE_20 12      2.0    51.0       0.0    5.0    2.0    60.0\n1  SE_20 13     12.0   229.0       1.0   42.0   17.0   301.0\n2  SE_20 14     28.0   591.0       1.0  168.0   71.0   859.0\n3  SE_20 15     45.0  1028.0       3.0  339.0  135.0  1550.0\n4  SE_20 16     64.0  1470.0       3.0  526.0  190.0  2253.0"
     },
     "execution_count": 10,
     "metadata": {},
     "output_type": "execute_result"
    }
   ],
   "source": [
    "df_total = pd.read_csv('cor-semana-pivot-tratado-total.csv', sep=',')\r\n",
    "#df_total = mort_pivot\r\n",
    "\r\n",
    "df_total.head()"
   ]
  },
  {
   "cell_type": "code",
   "execution_count": 11,
   "metadata": {},
   "outputs": [],
   "source": [
    "#Renomeando item para manter o padrão\r\n",
    "df_total[\"Semana\"].replace({\"SE_20 11_1ºÓbito Covid19\": \"SE_20\"}, inplace=True)"
   ]
  },
  {
   "cell_type": "code",
   "execution_count": 12,
   "metadata": {},
   "outputs": [
    {
     "name": "stdout",
     "output_type": "stream",
     "text": [
      "      Semana  Amarela   Branca  Indígena   Parda   Preta    Total\n",
      "0   SE_20 12      2.0     51.0       0.0     5.0     2.0     60.0\n",
      "1   SE_20 13     12.0    229.0       1.0    42.0    17.0    301.0\n",
      "2   SE_20 14     28.0    591.0       1.0   168.0    71.0    859.0\n",
      "3   SE_20 15     45.0   1028.0       3.0   339.0   135.0   1550.0\n",
      "4   SE_20 16     64.0   1470.0       3.0   526.0   190.0   2253.0\n",
      "5   SE_20 17     92.0   1971.0       4.0   733.0   268.0   3068.0\n",
      "6   SE_20 18    116.0   2605.0       4.0  1016.0   370.0   4111.0\n",
      "7   SE_20 19    146.0   3220.0       6.0  1317.0   456.0   5145.0\n",
      "8   SE_20 20    164.0   3905.0       7.0  1615.0   576.0   6267.0\n",
      "9   SE_20 21    183.0   4573.0       8.0  1940.0   661.0   7365.0\n",
      "10  SE_20 22    202.0   5260.0       8.0  2210.0   768.0   8448.0\n",
      "11  SE_20 23    224.0   5914.0       9.0  2472.0   885.0   9504.0\n",
      "12  SE_20 24    248.0   6572.0      10.0  2742.0   997.0  10569.0\n",
      "13  SE_20 25    263.0   7127.0      11.0  2951.0  1093.0  11445.0\n",
      "14  SE_20 26    279.0   7613.0      11.0  3126.0  1170.0  12199.0\n",
      "15  SE_20 27    300.0   8038.0      11.0  3282.0  1245.0  12876.0\n",
      "16  SE_20 28    311.0   8477.0      11.0  3432.0  1304.0  13535.0\n",
      "17  SE_20 29    330.0   8918.0      12.0  3574.0  1373.0  14207.0\n",
      "18  SE_20 30    335.0   9325.0      12.0  3722.0  1435.0  14829.0\n",
      "19  SE_20 31    348.0   9679.0      12.0  3849.0  1477.0  15365.0\n",
      "20  SE_20 32    366.0  10057.0      12.0  3991.0  1518.0  15944.0\n",
      "21  SE_20 33    377.0  10387.0      12.0  4120.0  1569.0  16465.0\n",
      "22  SE_20 34    388.0  10669.0      12.0  4224.0  1612.0  16905.0\n",
      "23  SE_20 35    399.0  10969.0      12.0  4312.0  1639.0  17331.0\n",
      "24  SE_20 36    410.0  11207.0      12.0  4392.0  1674.0  17695.0\n",
      "25  SE_20 37    421.0  11446.0      13.0  4477.0  1705.0  18062.0\n",
      "26  SE_20 38    427.0  11657.0      13.0  4542.0  1739.0  18378.0\n",
      "27  SE_20 39    432.0  11821.0      14.0  4595.0  1766.0  18628.0\n",
      "28  SE_20 40    437.0  11997.0      14.0  4649.0  1789.0  18886.0\n",
      "29  SE_20 41    441.0  12135.0      14.0  4705.0  1808.0  19103.0\n",
      "30  SE_20 42    447.0  12241.0      14.0  4752.0  1828.0  19282.0\n",
      "31  SE_20 43    451.0  12333.0      14.0  4783.0  1846.0  19427.0\n",
      "32  SE_20 44    457.0  12438.0      14.0  4820.0  1855.0  19584.0\n",
      "33  SE_20 45    459.0  12543.0      15.0  4856.0  1869.0  19742.0\n",
      "34  SE_20 46    465.0  12680.0      15.0  4898.0  1885.0  19943.0\n",
      "35  SE_20 47    475.0  12839.0      15.0  4946.0  1901.0  20176.0\n",
      "36  SE_20 48    484.0  13031.0      15.0  4997.0  1931.0  20458.0\n",
      "37  SE_20 49    492.0  13259.0      15.0  5073.0  1958.0  20797.0\n",
      "38  SE_20 50    503.0  13521.0      16.0  5139.0  1998.0  21177.0\n",
      "39  SE_20 51    514.0  13822.0      16.0  5223.0  2037.0  21612.0\n",
      "40  SE_20 52    529.0  14106.0      16.0  5303.0  2081.0  22035.0\n",
      "41  SE_20 53    544.0  14297.0      16.0  5367.0  2108.0  22332.0\n"
     ]
    }
   ],
   "source": [
    "print(df_total)"
   ]
  },
  {
   "cell_type": "code",
   "execution_count": 13,
   "metadata": {},
   "outputs": [],
   "source": [
    "#criando coluna apenas com o número da semana (em relação ao ano de 2020)\n",
    "df_total['Semana_Num']=df_total['Semana'].str.slice(6,8)"
   ]
  },
  {
   "cell_type": "code",
   "execution_count": 14,
   "metadata": {},
   "outputs": [
    {
     "data": {
      "text/html": "<div>\n<style scoped>\n    .dataframe tbody tr th:only-of-type {\n        vertical-align: middle;\n    }\n\n    .dataframe tbody tr th {\n        vertical-align: top;\n    }\n\n    .dataframe thead th {\n        text-align: right;\n    }\n</style>\n<table border=\"1\" class=\"dataframe\">\n  <thead>\n    <tr style=\"text-align: right;\">\n      <th></th>\n      <th>Semana</th>\n      <th>Amarela</th>\n      <th>Branca</th>\n      <th>Indígena</th>\n      <th>Parda</th>\n      <th>Preta</th>\n      <th>Total</th>\n      <th>Semana_Num</th>\n    </tr>\n  </thead>\n  <tbody>\n    <tr>\n      <th>0</th>\n      <td>SE_20 12</td>\n      <td>2.0</td>\n      <td>51.0</td>\n      <td>0.0</td>\n      <td>5.0</td>\n      <td>2.0</td>\n      <td>60.0</td>\n      <td>12</td>\n    </tr>\n    <tr>\n      <th>1</th>\n      <td>SE_20 13</td>\n      <td>12.0</td>\n      <td>229.0</td>\n      <td>1.0</td>\n      <td>42.0</td>\n      <td>17.0</td>\n      <td>301.0</td>\n      <td>13</td>\n    </tr>\n    <tr>\n      <th>2</th>\n      <td>SE_20 14</td>\n      <td>28.0</td>\n      <td>591.0</td>\n      <td>1.0</td>\n      <td>168.0</td>\n      <td>71.0</td>\n      <td>859.0</td>\n      <td>14</td>\n    </tr>\n    <tr>\n      <th>3</th>\n      <td>SE_20 15</td>\n      <td>45.0</td>\n      <td>1028.0</td>\n      <td>3.0</td>\n      <td>339.0</td>\n      <td>135.0</td>\n      <td>1550.0</td>\n      <td>15</td>\n    </tr>\n    <tr>\n      <th>4</th>\n      <td>SE_20 16</td>\n      <td>64.0</td>\n      <td>1470.0</td>\n      <td>3.0</td>\n      <td>526.0</td>\n      <td>190.0</td>\n      <td>2253.0</td>\n      <td>16</td>\n    </tr>\n    <tr>\n      <th>5</th>\n      <td>SE_20 17</td>\n      <td>92.0</td>\n      <td>1971.0</td>\n      <td>4.0</td>\n      <td>733.0</td>\n      <td>268.0</td>\n      <td>3068.0</td>\n      <td>17</td>\n    </tr>\n    <tr>\n      <th>6</th>\n      <td>SE_20 18</td>\n      <td>116.0</td>\n      <td>2605.0</td>\n      <td>4.0</td>\n      <td>1016.0</td>\n      <td>370.0</td>\n      <td>4111.0</td>\n      <td>18</td>\n    </tr>\n    <tr>\n      <th>7</th>\n      <td>SE_20 19</td>\n      <td>146.0</td>\n      <td>3220.0</td>\n      <td>6.0</td>\n      <td>1317.0</td>\n      <td>456.0</td>\n      <td>5145.0</td>\n      <td>19</td>\n    </tr>\n    <tr>\n      <th>8</th>\n      <td>SE_20 20</td>\n      <td>164.0</td>\n      <td>3905.0</td>\n      <td>7.0</td>\n      <td>1615.0</td>\n      <td>576.0</td>\n      <td>6267.0</td>\n      <td>20</td>\n    </tr>\n    <tr>\n      <th>9</th>\n      <td>SE_20 21</td>\n      <td>183.0</td>\n      <td>4573.0</td>\n      <td>8.0</td>\n      <td>1940.0</td>\n      <td>661.0</td>\n      <td>7365.0</td>\n      <td>21</td>\n    </tr>\n    <tr>\n      <th>10</th>\n      <td>SE_20 22</td>\n      <td>202.0</td>\n      <td>5260.0</td>\n      <td>8.0</td>\n      <td>2210.0</td>\n      <td>768.0</td>\n      <td>8448.0</td>\n      <td>22</td>\n    </tr>\n    <tr>\n      <th>11</th>\n      <td>SE_20 23</td>\n      <td>224.0</td>\n      <td>5914.0</td>\n      <td>9.0</td>\n      <td>2472.0</td>\n      <td>885.0</td>\n      <td>9504.0</td>\n      <td>23</td>\n    </tr>\n    <tr>\n      <th>12</th>\n      <td>SE_20 24</td>\n      <td>248.0</td>\n      <td>6572.0</td>\n      <td>10.0</td>\n      <td>2742.0</td>\n      <td>997.0</td>\n      <td>10569.0</td>\n      <td>24</td>\n    </tr>\n    <tr>\n      <th>13</th>\n      <td>SE_20 25</td>\n      <td>263.0</td>\n      <td>7127.0</td>\n      <td>11.0</td>\n      <td>2951.0</td>\n      <td>1093.0</td>\n      <td>11445.0</td>\n      <td>25</td>\n    </tr>\n    <tr>\n      <th>14</th>\n      <td>SE_20 26</td>\n      <td>279.0</td>\n      <td>7613.0</td>\n      <td>11.0</td>\n      <td>3126.0</td>\n      <td>1170.0</td>\n      <td>12199.0</td>\n      <td>26</td>\n    </tr>\n    <tr>\n      <th>15</th>\n      <td>SE_20 27</td>\n      <td>300.0</td>\n      <td>8038.0</td>\n      <td>11.0</td>\n      <td>3282.0</td>\n      <td>1245.0</td>\n      <td>12876.0</td>\n      <td>27</td>\n    </tr>\n    <tr>\n      <th>16</th>\n      <td>SE_20 28</td>\n      <td>311.0</td>\n      <td>8477.0</td>\n      <td>11.0</td>\n      <td>3432.0</td>\n      <td>1304.0</td>\n      <td>13535.0</td>\n      <td>28</td>\n    </tr>\n    <tr>\n      <th>17</th>\n      <td>SE_20 29</td>\n      <td>330.0</td>\n      <td>8918.0</td>\n      <td>12.0</td>\n      <td>3574.0</td>\n      <td>1373.0</td>\n      <td>14207.0</td>\n      <td>29</td>\n    </tr>\n    <tr>\n      <th>18</th>\n      <td>SE_20 30</td>\n      <td>335.0</td>\n      <td>9325.0</td>\n      <td>12.0</td>\n      <td>3722.0</td>\n      <td>1435.0</td>\n      <td>14829.0</td>\n      <td>30</td>\n    </tr>\n    <tr>\n      <th>19</th>\n      <td>SE_20 31</td>\n      <td>348.0</td>\n      <td>9679.0</td>\n      <td>12.0</td>\n      <td>3849.0</td>\n      <td>1477.0</td>\n      <td>15365.0</td>\n      <td>31</td>\n    </tr>\n    <tr>\n      <th>20</th>\n      <td>SE_20 32</td>\n      <td>366.0</td>\n      <td>10057.0</td>\n      <td>12.0</td>\n      <td>3991.0</td>\n      <td>1518.0</td>\n      <td>15944.0</td>\n      <td>32</td>\n    </tr>\n    <tr>\n      <th>21</th>\n      <td>SE_20 33</td>\n      <td>377.0</td>\n      <td>10387.0</td>\n      <td>12.0</td>\n      <td>4120.0</td>\n      <td>1569.0</td>\n      <td>16465.0</td>\n      <td>33</td>\n    </tr>\n    <tr>\n      <th>22</th>\n      <td>SE_20 34</td>\n      <td>388.0</td>\n      <td>10669.0</td>\n      <td>12.0</td>\n      <td>4224.0</td>\n      <td>1612.0</td>\n      <td>16905.0</td>\n      <td>34</td>\n    </tr>\n    <tr>\n      <th>23</th>\n      <td>SE_20 35</td>\n      <td>399.0</td>\n      <td>10969.0</td>\n      <td>12.0</td>\n      <td>4312.0</td>\n      <td>1639.0</td>\n      <td>17331.0</td>\n      <td>35</td>\n    </tr>\n    <tr>\n      <th>24</th>\n      <td>SE_20 36</td>\n      <td>410.0</td>\n      <td>11207.0</td>\n      <td>12.0</td>\n      <td>4392.0</td>\n      <td>1674.0</td>\n      <td>17695.0</td>\n      <td>36</td>\n    </tr>\n    <tr>\n      <th>25</th>\n      <td>SE_20 37</td>\n      <td>421.0</td>\n      <td>11446.0</td>\n      <td>13.0</td>\n      <td>4477.0</td>\n      <td>1705.0</td>\n      <td>18062.0</td>\n      <td>37</td>\n    </tr>\n    <tr>\n      <th>26</th>\n      <td>SE_20 38</td>\n      <td>427.0</td>\n      <td>11657.0</td>\n      <td>13.0</td>\n      <td>4542.0</td>\n      <td>1739.0</td>\n      <td>18378.0</td>\n      <td>38</td>\n    </tr>\n    <tr>\n      <th>27</th>\n      <td>SE_20 39</td>\n      <td>432.0</td>\n      <td>11821.0</td>\n      <td>14.0</td>\n      <td>4595.0</td>\n      <td>1766.0</td>\n      <td>18628.0</td>\n      <td>39</td>\n    </tr>\n    <tr>\n      <th>28</th>\n      <td>SE_20 40</td>\n      <td>437.0</td>\n      <td>11997.0</td>\n      <td>14.0</td>\n      <td>4649.0</td>\n      <td>1789.0</td>\n      <td>18886.0</td>\n      <td>40</td>\n    </tr>\n    <tr>\n      <th>29</th>\n      <td>SE_20 41</td>\n      <td>441.0</td>\n      <td>12135.0</td>\n      <td>14.0</td>\n      <td>4705.0</td>\n      <td>1808.0</td>\n      <td>19103.0</td>\n      <td>41</td>\n    </tr>\n    <tr>\n      <th>30</th>\n      <td>SE_20 42</td>\n      <td>447.0</td>\n      <td>12241.0</td>\n      <td>14.0</td>\n      <td>4752.0</td>\n      <td>1828.0</td>\n      <td>19282.0</td>\n      <td>42</td>\n    </tr>\n    <tr>\n      <th>31</th>\n      <td>SE_20 43</td>\n      <td>451.0</td>\n      <td>12333.0</td>\n      <td>14.0</td>\n      <td>4783.0</td>\n      <td>1846.0</td>\n      <td>19427.0</td>\n      <td>43</td>\n    </tr>\n    <tr>\n      <th>32</th>\n      <td>SE_20 44</td>\n      <td>457.0</td>\n      <td>12438.0</td>\n      <td>14.0</td>\n      <td>4820.0</td>\n      <td>1855.0</td>\n      <td>19584.0</td>\n      <td>44</td>\n    </tr>\n    <tr>\n      <th>33</th>\n      <td>SE_20 45</td>\n      <td>459.0</td>\n      <td>12543.0</td>\n      <td>15.0</td>\n      <td>4856.0</td>\n      <td>1869.0</td>\n      <td>19742.0</td>\n      <td>45</td>\n    </tr>\n    <tr>\n      <th>34</th>\n      <td>SE_20 46</td>\n      <td>465.0</td>\n      <td>12680.0</td>\n      <td>15.0</td>\n      <td>4898.0</td>\n      <td>1885.0</td>\n      <td>19943.0</td>\n      <td>46</td>\n    </tr>\n    <tr>\n      <th>35</th>\n      <td>SE_20 47</td>\n      <td>475.0</td>\n      <td>12839.0</td>\n      <td>15.0</td>\n      <td>4946.0</td>\n      <td>1901.0</td>\n      <td>20176.0</td>\n      <td>47</td>\n    </tr>\n    <tr>\n      <th>36</th>\n      <td>SE_20 48</td>\n      <td>484.0</td>\n      <td>13031.0</td>\n      <td>15.0</td>\n      <td>4997.0</td>\n      <td>1931.0</td>\n      <td>20458.0</td>\n      <td>48</td>\n    </tr>\n    <tr>\n      <th>37</th>\n      <td>SE_20 49</td>\n      <td>492.0</td>\n      <td>13259.0</td>\n      <td>15.0</td>\n      <td>5073.0</td>\n      <td>1958.0</td>\n      <td>20797.0</td>\n      <td>49</td>\n    </tr>\n    <tr>\n      <th>38</th>\n      <td>SE_20 50</td>\n      <td>503.0</td>\n      <td>13521.0</td>\n      <td>16.0</td>\n      <td>5139.0</td>\n      <td>1998.0</td>\n      <td>21177.0</td>\n      <td>50</td>\n    </tr>\n    <tr>\n      <th>39</th>\n      <td>SE_20 51</td>\n      <td>514.0</td>\n      <td>13822.0</td>\n      <td>16.0</td>\n      <td>5223.0</td>\n      <td>2037.0</td>\n      <td>21612.0</td>\n      <td>51</td>\n    </tr>\n    <tr>\n      <th>40</th>\n      <td>SE_20 52</td>\n      <td>529.0</td>\n      <td>14106.0</td>\n      <td>16.0</td>\n      <td>5303.0</td>\n      <td>2081.0</td>\n      <td>22035.0</td>\n      <td>52</td>\n    </tr>\n    <tr>\n      <th>41</th>\n      <td>SE_20 53</td>\n      <td>544.0</td>\n      <td>14297.0</td>\n      <td>16.0</td>\n      <td>5367.0</td>\n      <td>2108.0</td>\n      <td>22332.0</td>\n      <td>53</td>\n    </tr>\n  </tbody>\n</table>\n</div>",
      "text/plain": "      Semana  Amarela   Branca  Indígena   Parda   Preta    Total Semana_Num\n0   SE_20 12      2.0     51.0       0.0     5.0     2.0     60.0         12\n1   SE_20 13     12.0    229.0       1.0    42.0    17.0    301.0         13\n2   SE_20 14     28.0    591.0       1.0   168.0    71.0    859.0         14\n3   SE_20 15     45.0   1028.0       3.0   339.0   135.0   1550.0         15\n4   SE_20 16     64.0   1470.0       3.0   526.0   190.0   2253.0         16\n5   SE_20 17     92.0   1971.0       4.0   733.0   268.0   3068.0         17\n6   SE_20 18    116.0   2605.0       4.0  1016.0   370.0   4111.0         18\n7   SE_20 19    146.0   3220.0       6.0  1317.0   456.0   5145.0         19\n8   SE_20 20    164.0   3905.0       7.0  1615.0   576.0   6267.0         20\n9   SE_20 21    183.0   4573.0       8.0  1940.0   661.0   7365.0         21\n10  SE_20 22    202.0   5260.0       8.0  2210.0   768.0   8448.0         22\n11  SE_20 23    224.0   5914.0       9.0  2472.0   885.0   9504.0         23\n12  SE_20 24    248.0   6572.0      10.0  2742.0   997.0  10569.0         24\n13  SE_20 25    263.0   7127.0      11.0  2951.0  1093.0  11445.0         25\n14  SE_20 26    279.0   7613.0      11.0  3126.0  1170.0  12199.0         26\n15  SE_20 27    300.0   8038.0      11.0  3282.0  1245.0  12876.0         27\n16  SE_20 28    311.0   8477.0      11.0  3432.0  1304.0  13535.0         28\n17  SE_20 29    330.0   8918.0      12.0  3574.0  1373.0  14207.0         29\n18  SE_20 30    335.0   9325.0      12.0  3722.0  1435.0  14829.0         30\n19  SE_20 31    348.0   9679.0      12.0  3849.0  1477.0  15365.0         31\n20  SE_20 32    366.0  10057.0      12.0  3991.0  1518.0  15944.0         32\n21  SE_20 33    377.0  10387.0      12.0  4120.0  1569.0  16465.0         33\n22  SE_20 34    388.0  10669.0      12.0  4224.0  1612.0  16905.0         34\n23  SE_20 35    399.0  10969.0      12.0  4312.0  1639.0  17331.0         35\n24  SE_20 36    410.0  11207.0      12.0  4392.0  1674.0  17695.0         36\n25  SE_20 37    421.0  11446.0      13.0  4477.0  1705.0  18062.0         37\n26  SE_20 38    427.0  11657.0      13.0  4542.0  1739.0  18378.0         38\n27  SE_20 39    432.0  11821.0      14.0  4595.0  1766.0  18628.0         39\n28  SE_20 40    437.0  11997.0      14.0  4649.0  1789.0  18886.0         40\n29  SE_20 41    441.0  12135.0      14.0  4705.0  1808.0  19103.0         41\n30  SE_20 42    447.0  12241.0      14.0  4752.0  1828.0  19282.0         42\n31  SE_20 43    451.0  12333.0      14.0  4783.0  1846.0  19427.0         43\n32  SE_20 44    457.0  12438.0      14.0  4820.0  1855.0  19584.0         44\n33  SE_20 45    459.0  12543.0      15.0  4856.0  1869.0  19742.0         45\n34  SE_20 46    465.0  12680.0      15.0  4898.0  1885.0  19943.0         46\n35  SE_20 47    475.0  12839.0      15.0  4946.0  1901.0  20176.0         47\n36  SE_20 48    484.0  13031.0      15.0  4997.0  1931.0  20458.0         48\n37  SE_20 49    492.0  13259.0      15.0  5073.0  1958.0  20797.0         49\n38  SE_20 50    503.0  13521.0      16.0  5139.0  1998.0  21177.0         50\n39  SE_20 51    514.0  13822.0      16.0  5223.0  2037.0  21612.0         51\n40  SE_20 52    529.0  14106.0      16.0  5303.0  2081.0  22035.0         52\n41  SE_20 53    544.0  14297.0      16.0  5367.0  2108.0  22332.0         53"
     },
     "metadata": {},
     "output_type": "display_data"
    }
   ],
   "source": [
    "display(df_total)"
   ]
  },
  {
   "cell_type": "code",
   "execution_count": 15,
   "metadata": {},
   "outputs": [
    {
     "data": {
      "text/html": "<div>\n<style scoped>\n    .dataframe tbody tr th:only-of-type {\n        vertical-align: middle;\n    }\n\n    .dataframe tbody tr th {\n        vertical-align: top;\n    }\n\n    .dataframe thead th {\n        text-align: right;\n    }\n</style>\n<table border=\"1\" class=\"dataframe\">\n  <thead>\n    <tr style=\"text-align: right;\">\n      <th></th>\n      <th>Semana</th>\n      <th>Amarela</th>\n      <th>Branca</th>\n      <th>Indígena</th>\n      <th>Parda</th>\n      <th>Preta</th>\n      <th>Total</th>\n      <th>Semana_Num</th>\n    </tr>\n  </thead>\n  <tbody>\n    <tr>\n      <th>0</th>\n      <td>SE_20 12</td>\n      <td>2.0</td>\n      <td>51.0</td>\n      <td>0.0</td>\n      <td>5.0</td>\n      <td>2.0</td>\n      <td>60.0</td>\n      <td>12</td>\n    </tr>\n    <tr>\n      <th>1</th>\n      <td>SE_20 13</td>\n      <td>12.0</td>\n      <td>229.0</td>\n      <td>1.0</td>\n      <td>42.0</td>\n      <td>17.0</td>\n      <td>301.0</td>\n      <td>13</td>\n    </tr>\n    <tr>\n      <th>2</th>\n      <td>SE_20 14</td>\n      <td>28.0</td>\n      <td>591.0</td>\n      <td>1.0</td>\n      <td>168.0</td>\n      <td>71.0</td>\n      <td>859.0</td>\n      <td>14</td>\n    </tr>\n    <tr>\n      <th>3</th>\n      <td>SE_20 15</td>\n      <td>45.0</td>\n      <td>1028.0</td>\n      <td>3.0</td>\n      <td>339.0</td>\n      <td>135.0</td>\n      <td>1550.0</td>\n      <td>15</td>\n    </tr>\n    <tr>\n      <th>4</th>\n      <td>SE_20 16</td>\n      <td>64.0</td>\n      <td>1470.0</td>\n      <td>3.0</td>\n      <td>526.0</td>\n      <td>190.0</td>\n      <td>2253.0</td>\n      <td>16</td>\n    </tr>\n    <tr>\n      <th>5</th>\n      <td>SE_20 17</td>\n      <td>92.0</td>\n      <td>1971.0</td>\n      <td>4.0</td>\n      <td>733.0</td>\n      <td>268.0</td>\n      <td>3068.0</td>\n      <td>17</td>\n    </tr>\n    <tr>\n      <th>6</th>\n      <td>SE_20 18</td>\n      <td>116.0</td>\n      <td>2605.0</td>\n      <td>4.0</td>\n      <td>1016.0</td>\n      <td>370.0</td>\n      <td>4111.0</td>\n      <td>18</td>\n    </tr>\n    <tr>\n      <th>7</th>\n      <td>SE_20 19</td>\n      <td>146.0</td>\n      <td>3220.0</td>\n      <td>6.0</td>\n      <td>1317.0</td>\n      <td>456.0</td>\n      <td>5145.0</td>\n      <td>19</td>\n    </tr>\n    <tr>\n      <th>8</th>\n      <td>SE_20 20</td>\n      <td>164.0</td>\n      <td>3905.0</td>\n      <td>7.0</td>\n      <td>1615.0</td>\n      <td>576.0</td>\n      <td>6267.0</td>\n      <td>20</td>\n    </tr>\n    <tr>\n      <th>9</th>\n      <td>SE_20 21</td>\n      <td>183.0</td>\n      <td>4573.0</td>\n      <td>8.0</td>\n      <td>1940.0</td>\n      <td>661.0</td>\n      <td>7365.0</td>\n      <td>21</td>\n    </tr>\n    <tr>\n      <th>10</th>\n      <td>SE_20 22</td>\n      <td>202.0</td>\n      <td>5260.0</td>\n      <td>8.0</td>\n      <td>2210.0</td>\n      <td>768.0</td>\n      <td>8448.0</td>\n      <td>22</td>\n    </tr>\n    <tr>\n      <th>11</th>\n      <td>SE_20 23</td>\n      <td>224.0</td>\n      <td>5914.0</td>\n      <td>9.0</td>\n      <td>2472.0</td>\n      <td>885.0</td>\n      <td>9504.0</td>\n      <td>23</td>\n    </tr>\n    <tr>\n      <th>12</th>\n      <td>SE_20 24</td>\n      <td>248.0</td>\n      <td>6572.0</td>\n      <td>10.0</td>\n      <td>2742.0</td>\n      <td>997.0</td>\n      <td>10569.0</td>\n      <td>24</td>\n    </tr>\n    <tr>\n      <th>13</th>\n      <td>SE_20 25</td>\n      <td>263.0</td>\n      <td>7127.0</td>\n      <td>11.0</td>\n      <td>2951.0</td>\n      <td>1093.0</td>\n      <td>11445.0</td>\n      <td>25</td>\n    </tr>\n    <tr>\n      <th>14</th>\n      <td>SE_20 26</td>\n      <td>279.0</td>\n      <td>7613.0</td>\n      <td>11.0</td>\n      <td>3126.0</td>\n      <td>1170.0</td>\n      <td>12199.0</td>\n      <td>26</td>\n    </tr>\n    <tr>\n      <th>15</th>\n      <td>SE_20 27</td>\n      <td>300.0</td>\n      <td>8038.0</td>\n      <td>11.0</td>\n      <td>3282.0</td>\n      <td>1245.0</td>\n      <td>12876.0</td>\n      <td>27</td>\n    </tr>\n    <tr>\n      <th>16</th>\n      <td>SE_20 28</td>\n      <td>311.0</td>\n      <td>8477.0</td>\n      <td>11.0</td>\n      <td>3432.0</td>\n      <td>1304.0</td>\n      <td>13535.0</td>\n      <td>28</td>\n    </tr>\n    <tr>\n      <th>17</th>\n      <td>SE_20 29</td>\n      <td>330.0</td>\n      <td>8918.0</td>\n      <td>12.0</td>\n      <td>3574.0</td>\n      <td>1373.0</td>\n      <td>14207.0</td>\n      <td>29</td>\n    </tr>\n    <tr>\n      <th>18</th>\n      <td>SE_20 30</td>\n      <td>335.0</td>\n      <td>9325.0</td>\n      <td>12.0</td>\n      <td>3722.0</td>\n      <td>1435.0</td>\n      <td>14829.0</td>\n      <td>30</td>\n    </tr>\n    <tr>\n      <th>19</th>\n      <td>SE_20 31</td>\n      <td>348.0</td>\n      <td>9679.0</td>\n      <td>12.0</td>\n      <td>3849.0</td>\n      <td>1477.0</td>\n      <td>15365.0</td>\n      <td>31</td>\n    </tr>\n    <tr>\n      <th>20</th>\n      <td>SE_20 32</td>\n      <td>366.0</td>\n      <td>10057.0</td>\n      <td>12.0</td>\n      <td>3991.0</td>\n      <td>1518.0</td>\n      <td>15944.0</td>\n      <td>32</td>\n    </tr>\n    <tr>\n      <th>21</th>\n      <td>SE_20 33</td>\n      <td>377.0</td>\n      <td>10387.0</td>\n      <td>12.0</td>\n      <td>4120.0</td>\n      <td>1569.0</td>\n      <td>16465.0</td>\n      <td>33</td>\n    </tr>\n    <tr>\n      <th>22</th>\n      <td>SE_20 34</td>\n      <td>388.0</td>\n      <td>10669.0</td>\n      <td>12.0</td>\n      <td>4224.0</td>\n      <td>1612.0</td>\n      <td>16905.0</td>\n      <td>34</td>\n    </tr>\n    <tr>\n      <th>23</th>\n      <td>SE_20 35</td>\n      <td>399.0</td>\n      <td>10969.0</td>\n      <td>12.0</td>\n      <td>4312.0</td>\n      <td>1639.0</td>\n      <td>17331.0</td>\n      <td>35</td>\n    </tr>\n    <tr>\n      <th>24</th>\n      <td>SE_20 36</td>\n      <td>410.0</td>\n      <td>11207.0</td>\n      <td>12.0</td>\n      <td>4392.0</td>\n      <td>1674.0</td>\n      <td>17695.0</td>\n      <td>36</td>\n    </tr>\n    <tr>\n      <th>25</th>\n      <td>SE_20 37</td>\n      <td>421.0</td>\n      <td>11446.0</td>\n      <td>13.0</td>\n      <td>4477.0</td>\n      <td>1705.0</td>\n      <td>18062.0</td>\n      <td>37</td>\n    </tr>\n    <tr>\n      <th>26</th>\n      <td>SE_20 38</td>\n      <td>427.0</td>\n      <td>11657.0</td>\n      <td>13.0</td>\n      <td>4542.0</td>\n      <td>1739.0</td>\n      <td>18378.0</td>\n      <td>38</td>\n    </tr>\n    <tr>\n      <th>27</th>\n      <td>SE_20 39</td>\n      <td>432.0</td>\n      <td>11821.0</td>\n      <td>14.0</td>\n      <td>4595.0</td>\n      <td>1766.0</td>\n      <td>18628.0</td>\n      <td>39</td>\n    </tr>\n    <tr>\n      <th>28</th>\n      <td>SE_20 40</td>\n      <td>437.0</td>\n      <td>11997.0</td>\n      <td>14.0</td>\n      <td>4649.0</td>\n      <td>1789.0</td>\n      <td>18886.0</td>\n      <td>40</td>\n    </tr>\n    <tr>\n      <th>29</th>\n      <td>SE_20 41</td>\n      <td>441.0</td>\n      <td>12135.0</td>\n      <td>14.0</td>\n      <td>4705.0</td>\n      <td>1808.0</td>\n      <td>19103.0</td>\n      <td>41</td>\n    </tr>\n    <tr>\n      <th>30</th>\n      <td>SE_20 42</td>\n      <td>447.0</td>\n      <td>12241.0</td>\n      <td>14.0</td>\n      <td>4752.0</td>\n      <td>1828.0</td>\n      <td>19282.0</td>\n      <td>42</td>\n    </tr>\n    <tr>\n      <th>31</th>\n      <td>SE_20 43</td>\n      <td>451.0</td>\n      <td>12333.0</td>\n      <td>14.0</td>\n      <td>4783.0</td>\n      <td>1846.0</td>\n      <td>19427.0</td>\n      <td>43</td>\n    </tr>\n    <tr>\n      <th>32</th>\n      <td>SE_20 44</td>\n      <td>457.0</td>\n      <td>12438.0</td>\n      <td>14.0</td>\n      <td>4820.0</td>\n      <td>1855.0</td>\n      <td>19584.0</td>\n      <td>44</td>\n    </tr>\n    <tr>\n      <th>33</th>\n      <td>SE_20 45</td>\n      <td>459.0</td>\n      <td>12543.0</td>\n      <td>15.0</td>\n      <td>4856.0</td>\n      <td>1869.0</td>\n      <td>19742.0</td>\n      <td>45</td>\n    </tr>\n    <tr>\n      <th>34</th>\n      <td>SE_20 46</td>\n      <td>465.0</td>\n      <td>12680.0</td>\n      <td>15.0</td>\n      <td>4898.0</td>\n      <td>1885.0</td>\n      <td>19943.0</td>\n      <td>46</td>\n    </tr>\n    <tr>\n      <th>35</th>\n      <td>SE_20 47</td>\n      <td>475.0</td>\n      <td>12839.0</td>\n      <td>15.0</td>\n      <td>4946.0</td>\n      <td>1901.0</td>\n      <td>20176.0</td>\n      <td>47</td>\n    </tr>\n    <tr>\n      <th>36</th>\n      <td>SE_20 48</td>\n      <td>484.0</td>\n      <td>13031.0</td>\n      <td>15.0</td>\n      <td>4997.0</td>\n      <td>1931.0</td>\n      <td>20458.0</td>\n      <td>48</td>\n    </tr>\n    <tr>\n      <th>37</th>\n      <td>SE_20 49</td>\n      <td>492.0</td>\n      <td>13259.0</td>\n      <td>15.0</td>\n      <td>5073.0</td>\n      <td>1958.0</td>\n      <td>20797.0</td>\n      <td>49</td>\n    </tr>\n    <tr>\n      <th>38</th>\n      <td>SE_20 50</td>\n      <td>503.0</td>\n      <td>13521.0</td>\n      <td>16.0</td>\n      <td>5139.0</td>\n      <td>1998.0</td>\n      <td>21177.0</td>\n      <td>50</td>\n    </tr>\n    <tr>\n      <th>39</th>\n      <td>SE_20 51</td>\n      <td>514.0</td>\n      <td>13822.0</td>\n      <td>16.0</td>\n      <td>5223.0</td>\n      <td>2037.0</td>\n      <td>21612.0</td>\n      <td>51</td>\n    </tr>\n    <tr>\n      <th>40</th>\n      <td>SE_20 52</td>\n      <td>529.0</td>\n      <td>14106.0</td>\n      <td>16.0</td>\n      <td>5303.0</td>\n      <td>2081.0</td>\n      <td>22035.0</td>\n      <td>52</td>\n    </tr>\n  </tbody>\n</table>\n</div>",
      "text/plain": "      Semana  Amarela   Branca  Indígena   Parda   Preta    Total Semana_Num\n0   SE_20 12      2.0     51.0       0.0     5.0     2.0     60.0         12\n1   SE_20 13     12.0    229.0       1.0    42.0    17.0    301.0         13\n2   SE_20 14     28.0    591.0       1.0   168.0    71.0    859.0         14\n3   SE_20 15     45.0   1028.0       3.0   339.0   135.0   1550.0         15\n4   SE_20 16     64.0   1470.0       3.0   526.0   190.0   2253.0         16\n5   SE_20 17     92.0   1971.0       4.0   733.0   268.0   3068.0         17\n6   SE_20 18    116.0   2605.0       4.0  1016.0   370.0   4111.0         18\n7   SE_20 19    146.0   3220.0       6.0  1317.0   456.0   5145.0         19\n8   SE_20 20    164.0   3905.0       7.0  1615.0   576.0   6267.0         20\n9   SE_20 21    183.0   4573.0       8.0  1940.0   661.0   7365.0         21\n10  SE_20 22    202.0   5260.0       8.0  2210.0   768.0   8448.0         22\n11  SE_20 23    224.0   5914.0       9.0  2472.0   885.0   9504.0         23\n12  SE_20 24    248.0   6572.0      10.0  2742.0   997.0  10569.0         24\n13  SE_20 25    263.0   7127.0      11.0  2951.0  1093.0  11445.0         25\n14  SE_20 26    279.0   7613.0      11.0  3126.0  1170.0  12199.0         26\n15  SE_20 27    300.0   8038.0      11.0  3282.0  1245.0  12876.0         27\n16  SE_20 28    311.0   8477.0      11.0  3432.0  1304.0  13535.0         28\n17  SE_20 29    330.0   8918.0      12.0  3574.0  1373.0  14207.0         29\n18  SE_20 30    335.0   9325.0      12.0  3722.0  1435.0  14829.0         30\n19  SE_20 31    348.0   9679.0      12.0  3849.0  1477.0  15365.0         31\n20  SE_20 32    366.0  10057.0      12.0  3991.0  1518.0  15944.0         32\n21  SE_20 33    377.0  10387.0      12.0  4120.0  1569.0  16465.0         33\n22  SE_20 34    388.0  10669.0      12.0  4224.0  1612.0  16905.0         34\n23  SE_20 35    399.0  10969.0      12.0  4312.0  1639.0  17331.0         35\n24  SE_20 36    410.0  11207.0      12.0  4392.0  1674.0  17695.0         36\n25  SE_20 37    421.0  11446.0      13.0  4477.0  1705.0  18062.0         37\n26  SE_20 38    427.0  11657.0      13.0  4542.0  1739.0  18378.0         38\n27  SE_20 39    432.0  11821.0      14.0  4595.0  1766.0  18628.0         39\n28  SE_20 40    437.0  11997.0      14.0  4649.0  1789.0  18886.0         40\n29  SE_20 41    441.0  12135.0      14.0  4705.0  1808.0  19103.0         41\n30  SE_20 42    447.0  12241.0      14.0  4752.0  1828.0  19282.0         42\n31  SE_20 43    451.0  12333.0      14.0  4783.0  1846.0  19427.0         43\n32  SE_20 44    457.0  12438.0      14.0  4820.0  1855.0  19584.0         44\n33  SE_20 45    459.0  12543.0      15.0  4856.0  1869.0  19742.0         45\n34  SE_20 46    465.0  12680.0      15.0  4898.0  1885.0  19943.0         46\n35  SE_20 47    475.0  12839.0      15.0  4946.0  1901.0  20176.0         47\n36  SE_20 48    484.0  13031.0      15.0  4997.0  1931.0  20458.0         48\n37  SE_20 49    492.0  13259.0      15.0  5073.0  1958.0  20797.0         49\n38  SE_20 50    503.0  13521.0      16.0  5139.0  1998.0  21177.0         50\n39  SE_20 51    514.0  13822.0      16.0  5223.0  2037.0  21612.0         51\n40  SE_20 52    529.0  14106.0      16.0  5303.0  2081.0  22035.0         52"
     },
     "metadata": {},
     "output_type": "display_data"
    }
   ],
   "source": [
    "#removendo a última semana pois ela pega também o ano de 2021\r\n",
    "df_total.drop(index=df_total.index[-1], \r\n",
    "        axis=0, \r\n",
    "        inplace=True)\r\n",
    "display(df_total)"
   ]
  },
  {
   "cell_type": "code",
   "execution_count": 16,
   "metadata": {},
   "outputs": [
    {
     "name": "stdout",
     "output_type": "stream",
     "text": [
      "[12 13 14 15 16 17 18 19 20 21 22 23 24 25 26 27 28 29 30 31 32 33 34 35\n",
      " 36 37 38 39 40 41 42 43 44 45 46 47 48 49 50 51 52]\n"
     ]
    }
   ],
   "source": [
    "#Trabalhando com o número da semana\n",
    "data = df_total[\"Semana_Num\"].to_numpy().astype(int)\n",
    "print(data)\n"
   ]
  },
  {
   "cell_type": "code",
   "execution_count": 17,
   "metadata": {},
   "outputs": [
    {
     "name": "stdout",
     "output_type": "stream",
     "text": [
      "i = 0\n",
      "item = 12\n",
      "data = Mon Mar 23 00:00:00 2020\n",
      "-----------------\n",
      "i = 1\n",
      "item = 13\n",
      "data = Mon Mar 30 00:00:00 2020\n",
      "-----------------\n",
      "i = 2\n",
      "item = 14\n",
      "data = Mon Apr  6 00:00:00 2020\n",
      "-----------------\n",
      "i = 3\n",
      "item = 15\n",
      "data = Mon Apr 13 00:00:00 2020\n",
      "-----------------\n",
      "i = 4\n",
      "item = 16\n",
      "data = Mon Apr 20 00:00:00 2020\n",
      "-----------------\n",
      "i = 5\n",
      "item = 17\n",
      "data = Mon Apr 27 00:00:00 2020\n",
      "-----------------\n",
      "i = 6\n",
      "item = 18\n",
      "data = Mon May  4 00:00:00 2020\n",
      "-----------------\n",
      "i = 7\n",
      "item = 19\n",
      "data = Mon May 11 00:00:00 2020\n",
      "-----------------\n",
      "i = 8\n",
      "item = 20\n",
      "data = Mon May 18 00:00:00 2020\n",
      "-----------------\n",
      "i = 9\n",
      "item = 21\n",
      "data = Mon May 25 00:00:00 2020\n",
      "-----------------\n",
      "i = 10\n",
      "item = 22\n",
      "data = Mon Jun  1 00:00:00 2020\n",
      "-----------------\n",
      "i = 11\n",
      "item = 23\n",
      "data = Mon Jun  8 00:00:00 2020\n",
      "-----------------\n",
      "i = 12\n",
      "item = 24\n",
      "data = Mon Jun 15 00:00:00 2020\n",
      "-----------------\n",
      "i = 13\n",
      "item = 25\n",
      "data = Mon Jun 22 00:00:00 2020\n",
      "-----------------\n",
      "i = 14\n",
      "item = 26\n",
      "data = Mon Jun 29 00:00:00 2020\n",
      "-----------------\n",
      "i = 15\n",
      "item = 27\n",
      "data = Mon Jul  6 00:00:00 2020\n",
      "-----------------\n",
      "i = 16\n",
      "item = 28\n",
      "data = Mon Jul 13 00:00:00 2020\n",
      "-----------------\n",
      "i = 17\n",
      "item = 29\n",
      "data = Mon Jul 20 00:00:00 2020\n",
      "-----------------\n",
      "i = 18\n",
      "item = 30\n",
      "data = Mon Jul 27 00:00:00 2020\n",
      "-----------------\n",
      "i = 19\n",
      "item = 31\n",
      "data = Mon Aug  3 00:00:00 2020\n",
      "-----------------\n",
      "i = 20\n",
      "item = 32\n",
      "data = Mon Aug 10 00:00:00 2020\n",
      "-----------------\n",
      "i = 21\n",
      "item = 33\n",
      "data = Mon Aug 17 00:00:00 2020\n",
      "-----------------\n",
      "i = 22\n",
      "item = 34\n",
      "data = Mon Aug 24 00:00:00 2020\n",
      "-----------------\n",
      "i = 23\n",
      "item = 35\n",
      "data = Mon Aug 31 00:00:00 2020\n",
      "-----------------\n",
      "i = 24\n",
      "item = 36\n",
      "data = Mon Sep  7 00:00:00 2020\n",
      "-----------------\n",
      "i = 25\n",
      "item = 37\n",
      "data = Mon Sep 14 00:00:00 2020\n",
      "-----------------\n",
      "i = 26\n",
      "item = 38\n",
      "data = Mon Sep 21 00:00:00 2020\n",
      "-----------------\n",
      "i = 27\n",
      "item = 39\n",
      "data = Mon Sep 28 00:00:00 2020\n",
      "-----------------\n",
      "i = 28\n",
      "item = 40\n",
      "data = Mon Oct  5 00:00:00 2020\n",
      "-----------------\n",
      "i = 29\n",
      "item = 41\n",
      "data = Mon Oct 12 00:00:00 2020\n",
      "-----------------\n",
      "i = 30\n",
      "item = 42\n",
      "data = Mon Oct 19 00:00:00 2020\n",
      "-----------------\n",
      "i = 31\n",
      "item = 43\n",
      "data = Mon Oct 26 00:00:00 2020\n",
      "-----------------\n",
      "i = 32\n",
      "item = 44\n",
      "data = Mon Nov  2 00:00:00 2020\n",
      "-----------------\n",
      "i = 33\n",
      "item = 45\n",
      "data = Mon Nov  9 00:00:00 2020\n",
      "-----------------\n",
      "i = 34\n",
      "item = 46\n",
      "data = Mon Nov 16 00:00:00 2020\n",
      "-----------------\n",
      "i = 35\n",
      "item = 47\n",
      "data = Mon Nov 23 00:00:00 2020\n",
      "-----------------\n",
      "i = 36\n",
      "item = 48\n",
      "data = Mon Nov 30 00:00:00 2020\n",
      "-----------------\n",
      "i = 37\n",
      "item = 49\n",
      "data = Mon Dec  7 00:00:00 2020\n",
      "-----------------\n",
      "i = 38\n",
      "item = 50\n",
      "data = Mon Dec 14 00:00:00 2020\n",
      "-----------------\n",
      "i = 39\n",
      "item = 51\n",
      "data = Mon Dec 21 00:00:00 2020\n",
      "-----------------\n",
      "i = 40\n",
      "item = 52\n",
      "data = Mon Dec 28 00:00:00 2020\n",
      "-----------------\n"
     ]
    }
   ],
   "source": [
    "#Criando um vetor temporário para armazenar a data correspondente\r\n",
    "data2 = [None]*41\r\n",
    "#data2 = []\r\n",
    "\r\n",
    "i=0\r\n",
    "\r\n",
    "#percorrendo o vetor de datas do ano e convertendo pra datas normais do ano de 2020 (salvando em outro vetor)\r\n",
    "for item in data:\r\n",
    "    print(\"i = \"+str(i))\r\n",
    "    print(\"item = \"+str(item))\r\n",
    "    data2[i]=(time.asctime(time.strptime('{} {} 1'.format(2020, item), '%Y %W %w')))\r\n",
    "    print(\"data = \"+data2[i])\r\n",
    "    i=i+1\r\n",
    "    print(\"-----------------\")\r\n",
    "\r\n"
   ]
  },
  {
   "cell_type": "code",
   "execution_count": 18,
   "metadata": {},
   "outputs": [
    {
     "data": {
      "text/plain": "['Mon Mar 23 00:00:00 2020',\n 'Mon Mar 30 00:00:00 2020',\n 'Mon Apr  6 00:00:00 2020',\n 'Mon Apr 13 00:00:00 2020',\n 'Mon Apr 20 00:00:00 2020',\n 'Mon Apr 27 00:00:00 2020',\n 'Mon May  4 00:00:00 2020',\n 'Mon May 11 00:00:00 2020',\n 'Mon May 18 00:00:00 2020',\n 'Mon May 25 00:00:00 2020',\n 'Mon Jun  1 00:00:00 2020',\n 'Mon Jun  8 00:00:00 2020',\n 'Mon Jun 15 00:00:00 2020',\n 'Mon Jun 22 00:00:00 2020',\n 'Mon Jun 29 00:00:00 2020',\n 'Mon Jul  6 00:00:00 2020',\n 'Mon Jul 13 00:00:00 2020',\n 'Mon Jul 20 00:00:00 2020',\n 'Mon Jul 27 00:00:00 2020',\n 'Mon Aug  3 00:00:00 2020',\n 'Mon Aug 10 00:00:00 2020',\n 'Mon Aug 17 00:00:00 2020',\n 'Mon Aug 24 00:00:00 2020',\n 'Mon Aug 31 00:00:00 2020',\n 'Mon Sep  7 00:00:00 2020',\n 'Mon Sep 14 00:00:00 2020',\n 'Mon Sep 21 00:00:00 2020',\n 'Mon Sep 28 00:00:00 2020',\n 'Mon Oct  5 00:00:00 2020',\n 'Mon Oct 12 00:00:00 2020',\n 'Mon Oct 19 00:00:00 2020',\n 'Mon Oct 26 00:00:00 2020',\n 'Mon Nov  2 00:00:00 2020',\n 'Mon Nov  9 00:00:00 2020',\n 'Mon Nov 16 00:00:00 2020',\n 'Mon Nov 23 00:00:00 2020',\n 'Mon Nov 30 00:00:00 2020',\n 'Mon Dec  7 00:00:00 2020',\n 'Mon Dec 14 00:00:00 2020',\n 'Mon Dec 21 00:00:00 2020',\n 'Mon Dec 28 00:00:00 2020']"
     },
     "metadata": {},
     "output_type": "display_data"
    }
   ],
   "source": [
    "#Vetor de datas finalizado\n",
    "display(data2)"
   ]
  },
  {
   "cell_type": "code",
   "execution_count": 19,
   "metadata": {},
   "outputs": [],
   "source": [
    "#Adicionando as datas no formato comum ao Dataset\n",
    "df_total['Data']=data2"
   ]
  },
  {
   "cell_type": "code",
   "execution_count": 20,
   "metadata": {},
   "outputs": [
    {
     "data": {
      "text/html": "<div>\n<style scoped>\n    .dataframe tbody tr th:only-of-type {\n        vertical-align: middle;\n    }\n\n    .dataframe tbody tr th {\n        vertical-align: top;\n    }\n\n    .dataframe thead th {\n        text-align: right;\n    }\n</style>\n<table border=\"1\" class=\"dataframe\">\n  <thead>\n    <tr style=\"text-align: right;\">\n      <th></th>\n      <th>Semana</th>\n      <th>Amarela</th>\n      <th>Branca</th>\n      <th>Indígena</th>\n      <th>Parda</th>\n      <th>Preta</th>\n      <th>Total</th>\n      <th>Semana_Num</th>\n      <th>Data</th>\n    </tr>\n  </thead>\n  <tbody>\n    <tr>\n      <th>0</th>\n      <td>SE_20 12</td>\n      <td>2.0</td>\n      <td>51.0</td>\n      <td>0.0</td>\n      <td>5.0</td>\n      <td>2.0</td>\n      <td>60.0</td>\n      <td>12</td>\n      <td>Mon Mar 23 00:00:00 2020</td>\n    </tr>\n    <tr>\n      <th>1</th>\n      <td>SE_20 13</td>\n      <td>12.0</td>\n      <td>229.0</td>\n      <td>1.0</td>\n      <td>42.0</td>\n      <td>17.0</td>\n      <td>301.0</td>\n      <td>13</td>\n      <td>Mon Mar 30 00:00:00 2020</td>\n    </tr>\n    <tr>\n      <th>2</th>\n      <td>SE_20 14</td>\n      <td>28.0</td>\n      <td>591.0</td>\n      <td>1.0</td>\n      <td>168.0</td>\n      <td>71.0</td>\n      <td>859.0</td>\n      <td>14</td>\n      <td>Mon Apr  6 00:00:00 2020</td>\n    </tr>\n    <tr>\n      <th>3</th>\n      <td>SE_20 15</td>\n      <td>45.0</td>\n      <td>1028.0</td>\n      <td>3.0</td>\n      <td>339.0</td>\n      <td>135.0</td>\n      <td>1550.0</td>\n      <td>15</td>\n      <td>Mon Apr 13 00:00:00 2020</td>\n    </tr>\n    <tr>\n      <th>4</th>\n      <td>SE_20 16</td>\n      <td>64.0</td>\n      <td>1470.0</td>\n      <td>3.0</td>\n      <td>526.0</td>\n      <td>190.0</td>\n      <td>2253.0</td>\n      <td>16</td>\n      <td>Mon Apr 20 00:00:00 2020</td>\n    </tr>\n    <tr>\n      <th>5</th>\n      <td>SE_20 17</td>\n      <td>92.0</td>\n      <td>1971.0</td>\n      <td>4.0</td>\n      <td>733.0</td>\n      <td>268.0</td>\n      <td>3068.0</td>\n      <td>17</td>\n      <td>Mon Apr 27 00:00:00 2020</td>\n    </tr>\n    <tr>\n      <th>6</th>\n      <td>SE_20 18</td>\n      <td>116.0</td>\n      <td>2605.0</td>\n      <td>4.0</td>\n      <td>1016.0</td>\n      <td>370.0</td>\n      <td>4111.0</td>\n      <td>18</td>\n      <td>Mon May  4 00:00:00 2020</td>\n    </tr>\n    <tr>\n      <th>7</th>\n      <td>SE_20 19</td>\n      <td>146.0</td>\n      <td>3220.0</td>\n      <td>6.0</td>\n      <td>1317.0</td>\n      <td>456.0</td>\n      <td>5145.0</td>\n      <td>19</td>\n      <td>Mon May 11 00:00:00 2020</td>\n    </tr>\n    <tr>\n      <th>8</th>\n      <td>SE_20 20</td>\n      <td>164.0</td>\n      <td>3905.0</td>\n      <td>7.0</td>\n      <td>1615.0</td>\n      <td>576.0</td>\n      <td>6267.0</td>\n      <td>20</td>\n      <td>Mon May 18 00:00:00 2020</td>\n    </tr>\n    <tr>\n      <th>9</th>\n      <td>SE_20 21</td>\n      <td>183.0</td>\n      <td>4573.0</td>\n      <td>8.0</td>\n      <td>1940.0</td>\n      <td>661.0</td>\n      <td>7365.0</td>\n      <td>21</td>\n      <td>Mon May 25 00:00:00 2020</td>\n    </tr>\n    <tr>\n      <th>10</th>\n      <td>SE_20 22</td>\n      <td>202.0</td>\n      <td>5260.0</td>\n      <td>8.0</td>\n      <td>2210.0</td>\n      <td>768.0</td>\n      <td>8448.0</td>\n      <td>22</td>\n      <td>Mon Jun  1 00:00:00 2020</td>\n    </tr>\n    <tr>\n      <th>11</th>\n      <td>SE_20 23</td>\n      <td>224.0</td>\n      <td>5914.0</td>\n      <td>9.0</td>\n      <td>2472.0</td>\n      <td>885.0</td>\n      <td>9504.0</td>\n      <td>23</td>\n      <td>Mon Jun  8 00:00:00 2020</td>\n    </tr>\n    <tr>\n      <th>12</th>\n      <td>SE_20 24</td>\n      <td>248.0</td>\n      <td>6572.0</td>\n      <td>10.0</td>\n      <td>2742.0</td>\n      <td>997.0</td>\n      <td>10569.0</td>\n      <td>24</td>\n      <td>Mon Jun 15 00:00:00 2020</td>\n    </tr>\n    <tr>\n      <th>13</th>\n      <td>SE_20 25</td>\n      <td>263.0</td>\n      <td>7127.0</td>\n      <td>11.0</td>\n      <td>2951.0</td>\n      <td>1093.0</td>\n      <td>11445.0</td>\n      <td>25</td>\n      <td>Mon Jun 22 00:00:00 2020</td>\n    </tr>\n    <tr>\n      <th>14</th>\n      <td>SE_20 26</td>\n      <td>279.0</td>\n      <td>7613.0</td>\n      <td>11.0</td>\n      <td>3126.0</td>\n      <td>1170.0</td>\n      <td>12199.0</td>\n      <td>26</td>\n      <td>Mon Jun 29 00:00:00 2020</td>\n    </tr>\n    <tr>\n      <th>15</th>\n      <td>SE_20 27</td>\n      <td>300.0</td>\n      <td>8038.0</td>\n      <td>11.0</td>\n      <td>3282.0</td>\n      <td>1245.0</td>\n      <td>12876.0</td>\n      <td>27</td>\n      <td>Mon Jul  6 00:00:00 2020</td>\n    </tr>\n    <tr>\n      <th>16</th>\n      <td>SE_20 28</td>\n      <td>311.0</td>\n      <td>8477.0</td>\n      <td>11.0</td>\n      <td>3432.0</td>\n      <td>1304.0</td>\n      <td>13535.0</td>\n      <td>28</td>\n      <td>Mon Jul 13 00:00:00 2020</td>\n    </tr>\n    <tr>\n      <th>17</th>\n      <td>SE_20 29</td>\n      <td>330.0</td>\n      <td>8918.0</td>\n      <td>12.0</td>\n      <td>3574.0</td>\n      <td>1373.0</td>\n      <td>14207.0</td>\n      <td>29</td>\n      <td>Mon Jul 20 00:00:00 2020</td>\n    </tr>\n    <tr>\n      <th>18</th>\n      <td>SE_20 30</td>\n      <td>335.0</td>\n      <td>9325.0</td>\n      <td>12.0</td>\n      <td>3722.0</td>\n      <td>1435.0</td>\n      <td>14829.0</td>\n      <td>30</td>\n      <td>Mon Jul 27 00:00:00 2020</td>\n    </tr>\n    <tr>\n      <th>19</th>\n      <td>SE_20 31</td>\n      <td>348.0</td>\n      <td>9679.0</td>\n      <td>12.0</td>\n      <td>3849.0</td>\n      <td>1477.0</td>\n      <td>15365.0</td>\n      <td>31</td>\n      <td>Mon Aug  3 00:00:00 2020</td>\n    </tr>\n    <tr>\n      <th>20</th>\n      <td>SE_20 32</td>\n      <td>366.0</td>\n      <td>10057.0</td>\n      <td>12.0</td>\n      <td>3991.0</td>\n      <td>1518.0</td>\n      <td>15944.0</td>\n      <td>32</td>\n      <td>Mon Aug 10 00:00:00 2020</td>\n    </tr>\n    <tr>\n      <th>21</th>\n      <td>SE_20 33</td>\n      <td>377.0</td>\n      <td>10387.0</td>\n      <td>12.0</td>\n      <td>4120.0</td>\n      <td>1569.0</td>\n      <td>16465.0</td>\n      <td>33</td>\n      <td>Mon Aug 17 00:00:00 2020</td>\n    </tr>\n    <tr>\n      <th>22</th>\n      <td>SE_20 34</td>\n      <td>388.0</td>\n      <td>10669.0</td>\n      <td>12.0</td>\n      <td>4224.0</td>\n      <td>1612.0</td>\n      <td>16905.0</td>\n      <td>34</td>\n      <td>Mon Aug 24 00:00:00 2020</td>\n    </tr>\n    <tr>\n      <th>23</th>\n      <td>SE_20 35</td>\n      <td>399.0</td>\n      <td>10969.0</td>\n      <td>12.0</td>\n      <td>4312.0</td>\n      <td>1639.0</td>\n      <td>17331.0</td>\n      <td>35</td>\n      <td>Mon Aug 31 00:00:00 2020</td>\n    </tr>\n    <tr>\n      <th>24</th>\n      <td>SE_20 36</td>\n      <td>410.0</td>\n      <td>11207.0</td>\n      <td>12.0</td>\n      <td>4392.0</td>\n      <td>1674.0</td>\n      <td>17695.0</td>\n      <td>36</td>\n      <td>Mon Sep  7 00:00:00 2020</td>\n    </tr>\n    <tr>\n      <th>25</th>\n      <td>SE_20 37</td>\n      <td>421.0</td>\n      <td>11446.0</td>\n      <td>13.0</td>\n      <td>4477.0</td>\n      <td>1705.0</td>\n      <td>18062.0</td>\n      <td>37</td>\n      <td>Mon Sep 14 00:00:00 2020</td>\n    </tr>\n    <tr>\n      <th>26</th>\n      <td>SE_20 38</td>\n      <td>427.0</td>\n      <td>11657.0</td>\n      <td>13.0</td>\n      <td>4542.0</td>\n      <td>1739.0</td>\n      <td>18378.0</td>\n      <td>38</td>\n      <td>Mon Sep 21 00:00:00 2020</td>\n    </tr>\n    <tr>\n      <th>27</th>\n      <td>SE_20 39</td>\n      <td>432.0</td>\n      <td>11821.0</td>\n      <td>14.0</td>\n      <td>4595.0</td>\n      <td>1766.0</td>\n      <td>18628.0</td>\n      <td>39</td>\n      <td>Mon Sep 28 00:00:00 2020</td>\n    </tr>\n    <tr>\n      <th>28</th>\n      <td>SE_20 40</td>\n      <td>437.0</td>\n      <td>11997.0</td>\n      <td>14.0</td>\n      <td>4649.0</td>\n      <td>1789.0</td>\n      <td>18886.0</td>\n      <td>40</td>\n      <td>Mon Oct  5 00:00:00 2020</td>\n    </tr>\n    <tr>\n      <th>29</th>\n      <td>SE_20 41</td>\n      <td>441.0</td>\n      <td>12135.0</td>\n      <td>14.0</td>\n      <td>4705.0</td>\n      <td>1808.0</td>\n      <td>19103.0</td>\n      <td>41</td>\n      <td>Mon Oct 12 00:00:00 2020</td>\n    </tr>\n    <tr>\n      <th>30</th>\n      <td>SE_20 42</td>\n      <td>447.0</td>\n      <td>12241.0</td>\n      <td>14.0</td>\n      <td>4752.0</td>\n      <td>1828.0</td>\n      <td>19282.0</td>\n      <td>42</td>\n      <td>Mon Oct 19 00:00:00 2020</td>\n    </tr>\n    <tr>\n      <th>31</th>\n      <td>SE_20 43</td>\n      <td>451.0</td>\n      <td>12333.0</td>\n      <td>14.0</td>\n      <td>4783.0</td>\n      <td>1846.0</td>\n      <td>19427.0</td>\n      <td>43</td>\n      <td>Mon Oct 26 00:00:00 2020</td>\n    </tr>\n    <tr>\n      <th>32</th>\n      <td>SE_20 44</td>\n      <td>457.0</td>\n      <td>12438.0</td>\n      <td>14.0</td>\n      <td>4820.0</td>\n      <td>1855.0</td>\n      <td>19584.0</td>\n      <td>44</td>\n      <td>Mon Nov  2 00:00:00 2020</td>\n    </tr>\n    <tr>\n      <th>33</th>\n      <td>SE_20 45</td>\n      <td>459.0</td>\n      <td>12543.0</td>\n      <td>15.0</td>\n      <td>4856.0</td>\n      <td>1869.0</td>\n      <td>19742.0</td>\n      <td>45</td>\n      <td>Mon Nov  9 00:00:00 2020</td>\n    </tr>\n    <tr>\n      <th>34</th>\n      <td>SE_20 46</td>\n      <td>465.0</td>\n      <td>12680.0</td>\n      <td>15.0</td>\n      <td>4898.0</td>\n      <td>1885.0</td>\n      <td>19943.0</td>\n      <td>46</td>\n      <td>Mon Nov 16 00:00:00 2020</td>\n    </tr>\n    <tr>\n      <th>35</th>\n      <td>SE_20 47</td>\n      <td>475.0</td>\n      <td>12839.0</td>\n      <td>15.0</td>\n      <td>4946.0</td>\n      <td>1901.0</td>\n      <td>20176.0</td>\n      <td>47</td>\n      <td>Mon Nov 23 00:00:00 2020</td>\n    </tr>\n    <tr>\n      <th>36</th>\n      <td>SE_20 48</td>\n      <td>484.0</td>\n      <td>13031.0</td>\n      <td>15.0</td>\n      <td>4997.0</td>\n      <td>1931.0</td>\n      <td>20458.0</td>\n      <td>48</td>\n      <td>Mon Nov 30 00:00:00 2020</td>\n    </tr>\n    <tr>\n      <th>37</th>\n      <td>SE_20 49</td>\n      <td>492.0</td>\n      <td>13259.0</td>\n      <td>15.0</td>\n      <td>5073.0</td>\n      <td>1958.0</td>\n      <td>20797.0</td>\n      <td>49</td>\n      <td>Mon Dec  7 00:00:00 2020</td>\n    </tr>\n    <tr>\n      <th>38</th>\n      <td>SE_20 50</td>\n      <td>503.0</td>\n      <td>13521.0</td>\n      <td>16.0</td>\n      <td>5139.0</td>\n      <td>1998.0</td>\n      <td>21177.0</td>\n      <td>50</td>\n      <td>Mon Dec 14 00:00:00 2020</td>\n    </tr>\n    <tr>\n      <th>39</th>\n      <td>SE_20 51</td>\n      <td>514.0</td>\n      <td>13822.0</td>\n      <td>16.0</td>\n      <td>5223.0</td>\n      <td>2037.0</td>\n      <td>21612.0</td>\n      <td>51</td>\n      <td>Mon Dec 21 00:00:00 2020</td>\n    </tr>\n    <tr>\n      <th>40</th>\n      <td>SE_20 52</td>\n      <td>529.0</td>\n      <td>14106.0</td>\n      <td>16.0</td>\n      <td>5303.0</td>\n      <td>2081.0</td>\n      <td>22035.0</td>\n      <td>52</td>\n      <td>Mon Dec 28 00:00:00 2020</td>\n    </tr>\n  </tbody>\n</table>\n</div>",
      "text/plain": "      Semana  Amarela   Branca  Indígena   Parda   Preta    Total Semana_Num  \\\n0   SE_20 12      2.0     51.0       0.0     5.0     2.0     60.0         12   \n1   SE_20 13     12.0    229.0       1.0    42.0    17.0    301.0         13   \n2   SE_20 14     28.0    591.0       1.0   168.0    71.0    859.0         14   \n3   SE_20 15     45.0   1028.0       3.0   339.0   135.0   1550.0         15   \n4   SE_20 16     64.0   1470.0       3.0   526.0   190.0   2253.0         16   \n5   SE_20 17     92.0   1971.0       4.0   733.0   268.0   3068.0         17   \n6   SE_20 18    116.0   2605.0       4.0  1016.0   370.0   4111.0         18   \n7   SE_20 19    146.0   3220.0       6.0  1317.0   456.0   5145.0         19   \n8   SE_20 20    164.0   3905.0       7.0  1615.0   576.0   6267.0         20   \n9   SE_20 21    183.0   4573.0       8.0  1940.0   661.0   7365.0         21   \n10  SE_20 22    202.0   5260.0       8.0  2210.0   768.0   8448.0         22   \n11  SE_20 23    224.0   5914.0       9.0  2472.0   885.0   9504.0         23   \n12  SE_20 24    248.0   6572.0      10.0  2742.0   997.0  10569.0         24   \n13  SE_20 25    263.0   7127.0      11.0  2951.0  1093.0  11445.0         25   \n14  SE_20 26    279.0   7613.0      11.0  3126.0  1170.0  12199.0         26   \n15  SE_20 27    300.0   8038.0      11.0  3282.0  1245.0  12876.0         27   \n16  SE_20 28    311.0   8477.0      11.0  3432.0  1304.0  13535.0         28   \n17  SE_20 29    330.0   8918.0      12.0  3574.0  1373.0  14207.0         29   \n18  SE_20 30    335.0   9325.0      12.0  3722.0  1435.0  14829.0         30   \n19  SE_20 31    348.0   9679.0      12.0  3849.0  1477.0  15365.0         31   \n20  SE_20 32    366.0  10057.0      12.0  3991.0  1518.0  15944.0         32   \n21  SE_20 33    377.0  10387.0      12.0  4120.0  1569.0  16465.0         33   \n22  SE_20 34    388.0  10669.0      12.0  4224.0  1612.0  16905.0         34   \n23  SE_20 35    399.0  10969.0      12.0  4312.0  1639.0  17331.0         35   \n24  SE_20 36    410.0  11207.0      12.0  4392.0  1674.0  17695.0         36   \n25  SE_20 37    421.0  11446.0      13.0  4477.0  1705.0  18062.0         37   \n26  SE_20 38    427.0  11657.0      13.0  4542.0  1739.0  18378.0         38   \n27  SE_20 39    432.0  11821.0      14.0  4595.0  1766.0  18628.0         39   \n28  SE_20 40    437.0  11997.0      14.0  4649.0  1789.0  18886.0         40   \n29  SE_20 41    441.0  12135.0      14.0  4705.0  1808.0  19103.0         41   \n30  SE_20 42    447.0  12241.0      14.0  4752.0  1828.0  19282.0         42   \n31  SE_20 43    451.0  12333.0      14.0  4783.0  1846.0  19427.0         43   \n32  SE_20 44    457.0  12438.0      14.0  4820.0  1855.0  19584.0         44   \n33  SE_20 45    459.0  12543.0      15.0  4856.0  1869.0  19742.0         45   \n34  SE_20 46    465.0  12680.0      15.0  4898.0  1885.0  19943.0         46   \n35  SE_20 47    475.0  12839.0      15.0  4946.0  1901.0  20176.0         47   \n36  SE_20 48    484.0  13031.0      15.0  4997.0  1931.0  20458.0         48   \n37  SE_20 49    492.0  13259.0      15.0  5073.0  1958.0  20797.0         49   \n38  SE_20 50    503.0  13521.0      16.0  5139.0  1998.0  21177.0         50   \n39  SE_20 51    514.0  13822.0      16.0  5223.0  2037.0  21612.0         51   \n40  SE_20 52    529.0  14106.0      16.0  5303.0  2081.0  22035.0         52   \n\n                        Data  \n0   Mon Mar 23 00:00:00 2020  \n1   Mon Mar 30 00:00:00 2020  \n2   Mon Apr  6 00:00:00 2020  \n3   Mon Apr 13 00:00:00 2020  \n4   Mon Apr 20 00:00:00 2020  \n5   Mon Apr 27 00:00:00 2020  \n6   Mon May  4 00:00:00 2020  \n7   Mon May 11 00:00:00 2020  \n8   Mon May 18 00:00:00 2020  \n9   Mon May 25 00:00:00 2020  \n10  Mon Jun  1 00:00:00 2020  \n11  Mon Jun  8 00:00:00 2020  \n12  Mon Jun 15 00:00:00 2020  \n13  Mon Jun 22 00:00:00 2020  \n14  Mon Jun 29 00:00:00 2020  \n15  Mon Jul  6 00:00:00 2020  \n16  Mon Jul 13 00:00:00 2020  \n17  Mon Jul 20 00:00:00 2020  \n18  Mon Jul 27 00:00:00 2020  \n19  Mon Aug  3 00:00:00 2020  \n20  Mon Aug 10 00:00:00 2020  \n21  Mon Aug 17 00:00:00 2020  \n22  Mon Aug 24 00:00:00 2020  \n23  Mon Aug 31 00:00:00 2020  \n24  Mon Sep  7 00:00:00 2020  \n25  Mon Sep 14 00:00:00 2020  \n26  Mon Sep 21 00:00:00 2020  \n27  Mon Sep 28 00:00:00 2020  \n28  Mon Oct  5 00:00:00 2020  \n29  Mon Oct 12 00:00:00 2020  \n30  Mon Oct 19 00:00:00 2020  \n31  Mon Oct 26 00:00:00 2020  \n32  Mon Nov  2 00:00:00 2020  \n33  Mon Nov  9 00:00:00 2020  \n34  Mon Nov 16 00:00:00 2020  \n35  Mon Nov 23 00:00:00 2020  \n36  Mon Nov 30 00:00:00 2020  \n37  Mon Dec  7 00:00:00 2020  \n38  Mon Dec 14 00:00:00 2020  \n39  Mon Dec 21 00:00:00 2020  \n40  Mon Dec 28 00:00:00 2020  "
     },
     "metadata": {},
     "output_type": "display_data"
    }
   ],
   "source": [
    "display(df_total)"
   ]
  },
  {
   "cell_type": "code",
   "execution_count": 21,
   "metadata": {},
   "outputs": [],
   "source": [
    "#Salvando dataset em arquivo\n",
    "df_total.to_csv('cor-semana-pivot-tratado-total-dates.csv')"
   ]
  },
  {
   "cell_type": "markdown",
   "metadata": {},
   "source": [
    "## Simplificando os formatos de datas para trabalhar melhor com TimeSeries nos motores de IA\n",
    "\n"
   ]
  },
  {
   "cell_type": "code",
   "execution_count": 27,
   "metadata": {},
   "outputs": [
    {
     "name": "stdout",
     "output_type": "stream",
     "text": [
      "0     Mon Mar 23 00:00:00 2020\n",
      "1     Mon Mar 30 00:00:00 2020\n",
      "2     Mon Apr  6 00:00:00 2020\n",
      "3     Mon Apr 13 00:00:00 2020\n",
      "4     Mon Apr 20 00:00:00 2020\n",
      "5     Mon Apr 27 00:00:00 2020\n",
      "6     Mon May  4 00:00:00 2020\n",
      "7     Mon May 11 00:00:00 2020\n",
      "8     Mon May 18 00:00:00 2020\n",
      "9     Mon May 25 00:00:00 2020\n",
      "10    Mon Jun  1 00:00:00 2020\n",
      "11    Mon Jun  8 00:00:00 2020\n",
      "12    Mon Jun 15 00:00:00 2020\n",
      "13    Mon Jun 22 00:00:00 2020\n",
      "14    Mon Jun 29 00:00:00 2020\n",
      "15    Mon Jul  6 00:00:00 2020\n",
      "16    Mon Jul 13 00:00:00 2020\n",
      "17    Mon Jul 20 00:00:00 2020\n",
      "18    Mon Jul 27 00:00:00 2020\n",
      "19    Mon Aug  3 00:00:00 2020\n",
      "20    Mon Aug 10 00:00:00 2020\n",
      "21    Mon Aug 17 00:00:00 2020\n",
      "22    Mon Aug 24 00:00:00 2020\n",
      "23    Mon Aug 31 00:00:00 2020\n",
      "24    Mon Sep  7 00:00:00 2020\n",
      "25    Mon Sep 14 00:00:00 2020\n",
      "26    Mon Sep 21 00:00:00 2020\n",
      "27    Mon Sep 28 00:00:00 2020\n",
      "28    Mon Oct  5 00:00:00 2020\n",
      "29    Mon Oct 12 00:00:00 2020\n",
      "30    Mon Oct 19 00:00:00 2020\n",
      "31    Mon Oct 26 00:00:00 2020\n",
      "32    Mon Nov  2 00:00:00 2020\n",
      "33    Mon Nov  9 00:00:00 2020\n",
      "34    Mon Nov 16 00:00:00 2020\n",
      "35    Mon Nov 23 00:00:00 2020\n",
      "36    Mon Nov 30 00:00:00 2020\n",
      "37    Mon Dec  7 00:00:00 2020\n",
      "38    Mon Dec 14 00:00:00 2020\n",
      "39    Mon Dec 21 00:00:00 2020\n",
      "40    Mon Dec 28 00:00:00 2020\n",
      "Name: Data, dtype: object\n"
     ]
    }
   ],
   "source": [
    "# Usando vetores de apoio\r\n",
    "data = df_total[\"Data\"]\r\n",
    "print(data)\r\n",
    "\r\n",
    "data2 = [None]*41\r\n",
    "i=0"
   ]
  },
  {
   "cell_type": "code",
   "execution_count": 28,
   "metadata": {},
   "outputs": [
    {
     "data": {
      "text/plain": "41"
     },
     "metadata": {},
     "output_type": "display_data"
    },
    {
     "data": {
      "text/plain": "41"
     },
     "metadata": {},
     "output_type": "display_data"
    }
   ],
   "source": [
    "display(len(data))\r\n",
    "display(len(data2))"
   ]
  },
  {
   "cell_type": "code",
   "execution_count": 29,
   "metadata": {},
   "outputs": [
    {
     "name": "stdout",
     "output_type": "stream",
     "text": [
      "i = 0\n",
      "item i = Mon Mar 23 00:00:00 2020\n",
      "data2 = 23/03/2020\n",
      "--------------------------------\n",
      "i = 1\n",
      "item i = Mon Mar 30 00:00:00 2020\n",
      "data2 = 30/03/2020\n",
      "--------------------------------\n",
      "i = 2\n",
      "item i = Mon Apr  6 00:00:00 2020\n",
      "data2 = 06/04/2020\n",
      "--------------------------------\n",
      "i = 3\n",
      "item i = Mon Apr 13 00:00:00 2020\n",
      "data2 = 13/04/2020\n",
      "--------------------------------\n",
      "i = 4\n",
      "item i = Mon Apr 20 00:00:00 2020\n",
      "data2 = 20/04/2020\n",
      "--------------------------------\n",
      "i = 5\n",
      "item i = Mon Apr 27 00:00:00 2020\n",
      "data2 = 27/04/2020\n",
      "--------------------------------\n",
      "i = 6\n",
      "item i = Mon May  4 00:00:00 2020\n",
      "data2 = 04/05/2020\n",
      "--------------------------------\n",
      "i = 7\n",
      "item i = Mon May 11 00:00:00 2020\n",
      "data2 = 11/05/2020\n",
      "--------------------------------\n",
      "i = 8\n",
      "item i = Mon May 18 00:00:00 2020\n",
      "data2 = 18/05/2020\n",
      "--------------------------------\n",
      "i = 9\n",
      "item i = Mon May 25 00:00:00 2020\n",
      "data2 = 25/05/2020\n",
      "--------------------------------\n",
      "i = 10\n",
      "item i = Mon Jun  1 00:00:00 2020\n",
      "data2 = 01/06/2020\n",
      "--------------------------------\n",
      "i = 11\n",
      "item i = Mon Jun  8 00:00:00 2020\n",
      "data2 = 08/06/2020\n",
      "--------------------------------\n",
      "i = 12\n",
      "item i = Mon Jun 15 00:00:00 2020\n",
      "data2 = 15/06/2020\n",
      "--------------------------------\n",
      "i = 13\n",
      "item i = Mon Jun 22 00:00:00 2020\n",
      "data2 = 22/06/2020\n",
      "--------------------------------\n",
      "i = 14\n",
      "item i = Mon Jun 29 00:00:00 2020\n",
      "data2 = 29/06/2020\n",
      "--------------------------------\n",
      "i = 15\n",
      "item i = Mon Jul  6 00:00:00 2020\n",
      "data2 = 06/07/2020\n",
      "--------------------------------\n",
      "i = 16\n",
      "item i = Mon Jul 13 00:00:00 2020\n",
      "data2 = 13/07/2020\n",
      "--------------------------------\n",
      "i = 17\n",
      "item i = Mon Jul 20 00:00:00 2020\n",
      "data2 = 20/07/2020\n",
      "--------------------------------\n",
      "i = 18\n",
      "item i = Mon Jul 27 00:00:00 2020\n",
      "data2 = 27/07/2020\n",
      "--------------------------------\n",
      "i = 19\n",
      "item i = Mon Aug  3 00:00:00 2020\n",
      "data2 = 03/08/2020\n",
      "--------------------------------\n",
      "i = 20\n",
      "item i = Mon Aug 10 00:00:00 2020\n",
      "data2 = 10/08/2020\n",
      "--------------------------------\n",
      "i = 21\n",
      "item i = Mon Aug 17 00:00:00 2020\n",
      "data2 = 17/08/2020\n",
      "--------------------------------\n",
      "i = 22\n",
      "item i = Mon Aug 24 00:00:00 2020\n",
      "data2 = 24/08/2020\n",
      "--------------------------------\n",
      "i = 23\n",
      "item i = Mon Aug 31 00:00:00 2020\n",
      "data2 = 31/08/2020\n",
      "--------------------------------\n",
      "i = 24\n",
      "item i = Mon Sep  7 00:00:00 2020\n",
      "data2 = 07/09/2020\n",
      "--------------------------------\n",
      "i = 25\n",
      "item i = Mon Sep 14 00:00:00 2020\n",
      "data2 = 14/09/2020\n",
      "--------------------------------\n",
      "i = 26\n",
      "item i = Mon Sep 21 00:00:00 2020\n",
      "data2 = 21/09/2020\n",
      "--------------------------------\n",
      "i = 27\n",
      "item i = Mon Sep 28 00:00:00 2020\n",
      "data2 = 28/09/2020\n",
      "--------------------------------\n",
      "i = 28\n",
      "item i = Mon Oct  5 00:00:00 2020\n",
      "data2 = 05/10/2020\n",
      "--------------------------------\n",
      "i = 29\n",
      "item i = Mon Oct 12 00:00:00 2020\n",
      "data2 = 12/10/2020\n",
      "--------------------------------\n",
      "i = 30\n",
      "item i = Mon Oct 19 00:00:00 2020\n",
      "data2 = 19/10/2020\n",
      "--------------------------------\n",
      "i = 31\n",
      "item i = Mon Oct 26 00:00:00 2020\n",
      "data2 = 26/10/2020\n",
      "--------------------------------\n",
      "i = 32\n",
      "item i = Mon Nov  2 00:00:00 2020\n",
      "data2 = 02/11/2020\n",
      "--------------------------------\n",
      "i = 33\n",
      "item i = Mon Nov  9 00:00:00 2020\n",
      "data2 = 09/11/2020\n",
      "--------------------------------\n",
      "i = 34\n",
      "item i = Mon Nov 16 00:00:00 2020\n",
      "data2 = 16/11/2020\n",
      "--------------------------------\n",
      "i = 35\n",
      "item i = Mon Nov 23 00:00:00 2020\n",
      "data2 = 23/11/2020\n",
      "--------------------------------\n",
      "i = 36\n",
      "item i = Mon Nov 30 00:00:00 2020\n",
      "data2 = 30/11/2020\n",
      "--------------------------------\n",
      "i = 37\n",
      "item i = Mon Dec  7 00:00:00 2020\n",
      "data2 = 07/12/2020\n",
      "--------------------------------\n",
      "i = 38\n",
      "item i = Mon Dec 14 00:00:00 2020\n",
      "data2 = 14/12/2020\n",
      "--------------------------------\n",
      "i = 39\n",
      "item i = Mon Dec 21 00:00:00 2020\n",
      "data2 = 21/12/2020\n",
      "--------------------------------\n",
      "i = 40\n",
      "item i = Mon Dec 28 00:00:00 2020\n",
      "data2 = 28/12/2020\n",
      "--------------------------------\n"
     ]
    }
   ],
   "source": [
    "for item in data:\r\n",
    "  print(\"i = \"+str(i))\r\n",
    "  print(\"item \"+\"i \"+\"= \"+str(item))\r\n",
    "  data2[i]=datetime.datetime.strptime(item,\r\n",
    "'%a %b %d %H:%M:%S %Y').strftime('%d/%m/%Y')\r\n",
    "  print(\"data2 = \"+str(data2[i]))\r\n",
    "  i=i+1\r\n",
    "  print(\"--------------------------------\")"
   ]
  },
  {
   "cell_type": "code",
   "execution_count": 30,
   "metadata": {},
   "outputs": [],
   "source": [
    "df_total['Data_Simp']=data2"
   ]
  },
  {
   "cell_type": "code",
   "execution_count": 31,
   "metadata": {},
   "outputs": [
    {
     "data": {
      "text/html": "<div>\n<style scoped>\n    .dataframe tbody tr th:only-of-type {\n        vertical-align: middle;\n    }\n\n    .dataframe tbody tr th {\n        vertical-align: top;\n    }\n\n    .dataframe thead th {\n        text-align: right;\n    }\n</style>\n<table border=\"1\" class=\"dataframe\">\n  <thead>\n    <tr style=\"text-align: right;\">\n      <th></th>\n      <th>Semana</th>\n      <th>Amarela</th>\n      <th>Branca</th>\n      <th>Indígena</th>\n      <th>Parda</th>\n      <th>Preta</th>\n      <th>Total</th>\n      <th>Semana_Num</th>\n      <th>Data</th>\n      <th>Data_Simp</th>\n    </tr>\n  </thead>\n  <tbody>\n    <tr>\n      <th>0</th>\n      <td>SE_20 12</td>\n      <td>2.0</td>\n      <td>51.0</td>\n      <td>0.0</td>\n      <td>5.0</td>\n      <td>2.0</td>\n      <td>60.0</td>\n      <td>12</td>\n      <td>Mon Mar 23 00:00:00 2020</td>\n      <td>23/03/2020</td>\n    </tr>\n    <tr>\n      <th>1</th>\n      <td>SE_20 13</td>\n      <td>12.0</td>\n      <td>229.0</td>\n      <td>1.0</td>\n      <td>42.0</td>\n      <td>17.0</td>\n      <td>301.0</td>\n      <td>13</td>\n      <td>Mon Mar 30 00:00:00 2020</td>\n      <td>30/03/2020</td>\n    </tr>\n    <tr>\n      <th>2</th>\n      <td>SE_20 14</td>\n      <td>28.0</td>\n      <td>591.0</td>\n      <td>1.0</td>\n      <td>168.0</td>\n      <td>71.0</td>\n      <td>859.0</td>\n      <td>14</td>\n      <td>Mon Apr  6 00:00:00 2020</td>\n      <td>06/04/2020</td>\n    </tr>\n    <tr>\n      <th>3</th>\n      <td>SE_20 15</td>\n      <td>45.0</td>\n      <td>1028.0</td>\n      <td>3.0</td>\n      <td>339.0</td>\n      <td>135.0</td>\n      <td>1550.0</td>\n      <td>15</td>\n      <td>Mon Apr 13 00:00:00 2020</td>\n      <td>13/04/2020</td>\n    </tr>\n    <tr>\n      <th>4</th>\n      <td>SE_20 16</td>\n      <td>64.0</td>\n      <td>1470.0</td>\n      <td>3.0</td>\n      <td>526.0</td>\n      <td>190.0</td>\n      <td>2253.0</td>\n      <td>16</td>\n      <td>Mon Apr 20 00:00:00 2020</td>\n      <td>20/04/2020</td>\n    </tr>\n    <tr>\n      <th>5</th>\n      <td>SE_20 17</td>\n      <td>92.0</td>\n      <td>1971.0</td>\n      <td>4.0</td>\n      <td>733.0</td>\n      <td>268.0</td>\n      <td>3068.0</td>\n      <td>17</td>\n      <td>Mon Apr 27 00:00:00 2020</td>\n      <td>27/04/2020</td>\n    </tr>\n    <tr>\n      <th>6</th>\n      <td>SE_20 18</td>\n      <td>116.0</td>\n      <td>2605.0</td>\n      <td>4.0</td>\n      <td>1016.0</td>\n      <td>370.0</td>\n      <td>4111.0</td>\n      <td>18</td>\n      <td>Mon May  4 00:00:00 2020</td>\n      <td>04/05/2020</td>\n    </tr>\n    <tr>\n      <th>7</th>\n      <td>SE_20 19</td>\n      <td>146.0</td>\n      <td>3220.0</td>\n      <td>6.0</td>\n      <td>1317.0</td>\n      <td>456.0</td>\n      <td>5145.0</td>\n      <td>19</td>\n      <td>Mon May 11 00:00:00 2020</td>\n      <td>11/05/2020</td>\n    </tr>\n    <tr>\n      <th>8</th>\n      <td>SE_20 20</td>\n      <td>164.0</td>\n      <td>3905.0</td>\n      <td>7.0</td>\n      <td>1615.0</td>\n      <td>576.0</td>\n      <td>6267.0</td>\n      <td>20</td>\n      <td>Mon May 18 00:00:00 2020</td>\n      <td>18/05/2020</td>\n    </tr>\n    <tr>\n      <th>9</th>\n      <td>SE_20 21</td>\n      <td>183.0</td>\n      <td>4573.0</td>\n      <td>8.0</td>\n      <td>1940.0</td>\n      <td>661.0</td>\n      <td>7365.0</td>\n      <td>21</td>\n      <td>Mon May 25 00:00:00 2020</td>\n      <td>25/05/2020</td>\n    </tr>\n    <tr>\n      <th>10</th>\n      <td>SE_20 22</td>\n      <td>202.0</td>\n      <td>5260.0</td>\n      <td>8.0</td>\n      <td>2210.0</td>\n      <td>768.0</td>\n      <td>8448.0</td>\n      <td>22</td>\n      <td>Mon Jun  1 00:00:00 2020</td>\n      <td>01/06/2020</td>\n    </tr>\n    <tr>\n      <th>11</th>\n      <td>SE_20 23</td>\n      <td>224.0</td>\n      <td>5914.0</td>\n      <td>9.0</td>\n      <td>2472.0</td>\n      <td>885.0</td>\n      <td>9504.0</td>\n      <td>23</td>\n      <td>Mon Jun  8 00:00:00 2020</td>\n      <td>08/06/2020</td>\n    </tr>\n    <tr>\n      <th>12</th>\n      <td>SE_20 24</td>\n      <td>248.0</td>\n      <td>6572.0</td>\n      <td>10.0</td>\n      <td>2742.0</td>\n      <td>997.0</td>\n      <td>10569.0</td>\n      <td>24</td>\n      <td>Mon Jun 15 00:00:00 2020</td>\n      <td>15/06/2020</td>\n    </tr>\n    <tr>\n      <th>13</th>\n      <td>SE_20 25</td>\n      <td>263.0</td>\n      <td>7127.0</td>\n      <td>11.0</td>\n      <td>2951.0</td>\n      <td>1093.0</td>\n      <td>11445.0</td>\n      <td>25</td>\n      <td>Mon Jun 22 00:00:00 2020</td>\n      <td>22/06/2020</td>\n    </tr>\n    <tr>\n      <th>14</th>\n      <td>SE_20 26</td>\n      <td>279.0</td>\n      <td>7613.0</td>\n      <td>11.0</td>\n      <td>3126.0</td>\n      <td>1170.0</td>\n      <td>12199.0</td>\n      <td>26</td>\n      <td>Mon Jun 29 00:00:00 2020</td>\n      <td>29/06/2020</td>\n    </tr>\n    <tr>\n      <th>15</th>\n      <td>SE_20 27</td>\n      <td>300.0</td>\n      <td>8038.0</td>\n      <td>11.0</td>\n      <td>3282.0</td>\n      <td>1245.0</td>\n      <td>12876.0</td>\n      <td>27</td>\n      <td>Mon Jul  6 00:00:00 2020</td>\n      <td>06/07/2020</td>\n    </tr>\n    <tr>\n      <th>16</th>\n      <td>SE_20 28</td>\n      <td>311.0</td>\n      <td>8477.0</td>\n      <td>11.0</td>\n      <td>3432.0</td>\n      <td>1304.0</td>\n      <td>13535.0</td>\n      <td>28</td>\n      <td>Mon Jul 13 00:00:00 2020</td>\n      <td>13/07/2020</td>\n    </tr>\n    <tr>\n      <th>17</th>\n      <td>SE_20 29</td>\n      <td>330.0</td>\n      <td>8918.0</td>\n      <td>12.0</td>\n      <td>3574.0</td>\n      <td>1373.0</td>\n      <td>14207.0</td>\n      <td>29</td>\n      <td>Mon Jul 20 00:00:00 2020</td>\n      <td>20/07/2020</td>\n    </tr>\n    <tr>\n      <th>18</th>\n      <td>SE_20 30</td>\n      <td>335.0</td>\n      <td>9325.0</td>\n      <td>12.0</td>\n      <td>3722.0</td>\n      <td>1435.0</td>\n      <td>14829.0</td>\n      <td>30</td>\n      <td>Mon Jul 27 00:00:00 2020</td>\n      <td>27/07/2020</td>\n    </tr>\n    <tr>\n      <th>19</th>\n      <td>SE_20 31</td>\n      <td>348.0</td>\n      <td>9679.0</td>\n      <td>12.0</td>\n      <td>3849.0</td>\n      <td>1477.0</td>\n      <td>15365.0</td>\n      <td>31</td>\n      <td>Mon Aug  3 00:00:00 2020</td>\n      <td>03/08/2020</td>\n    </tr>\n    <tr>\n      <th>20</th>\n      <td>SE_20 32</td>\n      <td>366.0</td>\n      <td>10057.0</td>\n      <td>12.0</td>\n      <td>3991.0</td>\n      <td>1518.0</td>\n      <td>15944.0</td>\n      <td>32</td>\n      <td>Mon Aug 10 00:00:00 2020</td>\n      <td>10/08/2020</td>\n    </tr>\n    <tr>\n      <th>21</th>\n      <td>SE_20 33</td>\n      <td>377.0</td>\n      <td>10387.0</td>\n      <td>12.0</td>\n      <td>4120.0</td>\n      <td>1569.0</td>\n      <td>16465.0</td>\n      <td>33</td>\n      <td>Mon Aug 17 00:00:00 2020</td>\n      <td>17/08/2020</td>\n    </tr>\n    <tr>\n      <th>22</th>\n      <td>SE_20 34</td>\n      <td>388.0</td>\n      <td>10669.0</td>\n      <td>12.0</td>\n      <td>4224.0</td>\n      <td>1612.0</td>\n      <td>16905.0</td>\n      <td>34</td>\n      <td>Mon Aug 24 00:00:00 2020</td>\n      <td>24/08/2020</td>\n    </tr>\n    <tr>\n      <th>23</th>\n      <td>SE_20 35</td>\n      <td>399.0</td>\n      <td>10969.0</td>\n      <td>12.0</td>\n      <td>4312.0</td>\n      <td>1639.0</td>\n      <td>17331.0</td>\n      <td>35</td>\n      <td>Mon Aug 31 00:00:00 2020</td>\n      <td>31/08/2020</td>\n    </tr>\n    <tr>\n      <th>24</th>\n      <td>SE_20 36</td>\n      <td>410.0</td>\n      <td>11207.0</td>\n      <td>12.0</td>\n      <td>4392.0</td>\n      <td>1674.0</td>\n      <td>17695.0</td>\n      <td>36</td>\n      <td>Mon Sep  7 00:00:00 2020</td>\n      <td>07/09/2020</td>\n    </tr>\n    <tr>\n      <th>25</th>\n      <td>SE_20 37</td>\n      <td>421.0</td>\n      <td>11446.0</td>\n      <td>13.0</td>\n      <td>4477.0</td>\n      <td>1705.0</td>\n      <td>18062.0</td>\n      <td>37</td>\n      <td>Mon Sep 14 00:00:00 2020</td>\n      <td>14/09/2020</td>\n    </tr>\n    <tr>\n      <th>26</th>\n      <td>SE_20 38</td>\n      <td>427.0</td>\n      <td>11657.0</td>\n      <td>13.0</td>\n      <td>4542.0</td>\n      <td>1739.0</td>\n      <td>18378.0</td>\n      <td>38</td>\n      <td>Mon Sep 21 00:00:00 2020</td>\n      <td>21/09/2020</td>\n    </tr>\n    <tr>\n      <th>27</th>\n      <td>SE_20 39</td>\n      <td>432.0</td>\n      <td>11821.0</td>\n      <td>14.0</td>\n      <td>4595.0</td>\n      <td>1766.0</td>\n      <td>18628.0</td>\n      <td>39</td>\n      <td>Mon Sep 28 00:00:00 2020</td>\n      <td>28/09/2020</td>\n    </tr>\n    <tr>\n      <th>28</th>\n      <td>SE_20 40</td>\n      <td>437.0</td>\n      <td>11997.0</td>\n      <td>14.0</td>\n      <td>4649.0</td>\n      <td>1789.0</td>\n      <td>18886.0</td>\n      <td>40</td>\n      <td>Mon Oct  5 00:00:00 2020</td>\n      <td>05/10/2020</td>\n    </tr>\n    <tr>\n      <th>29</th>\n      <td>SE_20 41</td>\n      <td>441.0</td>\n      <td>12135.0</td>\n      <td>14.0</td>\n      <td>4705.0</td>\n      <td>1808.0</td>\n      <td>19103.0</td>\n      <td>41</td>\n      <td>Mon Oct 12 00:00:00 2020</td>\n      <td>12/10/2020</td>\n    </tr>\n    <tr>\n      <th>30</th>\n      <td>SE_20 42</td>\n      <td>447.0</td>\n      <td>12241.0</td>\n      <td>14.0</td>\n      <td>4752.0</td>\n      <td>1828.0</td>\n      <td>19282.0</td>\n      <td>42</td>\n      <td>Mon Oct 19 00:00:00 2020</td>\n      <td>19/10/2020</td>\n    </tr>\n    <tr>\n      <th>31</th>\n      <td>SE_20 43</td>\n      <td>451.0</td>\n      <td>12333.0</td>\n      <td>14.0</td>\n      <td>4783.0</td>\n      <td>1846.0</td>\n      <td>19427.0</td>\n      <td>43</td>\n      <td>Mon Oct 26 00:00:00 2020</td>\n      <td>26/10/2020</td>\n    </tr>\n    <tr>\n      <th>32</th>\n      <td>SE_20 44</td>\n      <td>457.0</td>\n      <td>12438.0</td>\n      <td>14.0</td>\n      <td>4820.0</td>\n      <td>1855.0</td>\n      <td>19584.0</td>\n      <td>44</td>\n      <td>Mon Nov  2 00:00:00 2020</td>\n      <td>02/11/2020</td>\n    </tr>\n    <tr>\n      <th>33</th>\n      <td>SE_20 45</td>\n      <td>459.0</td>\n      <td>12543.0</td>\n      <td>15.0</td>\n      <td>4856.0</td>\n      <td>1869.0</td>\n      <td>19742.0</td>\n      <td>45</td>\n      <td>Mon Nov  9 00:00:00 2020</td>\n      <td>09/11/2020</td>\n    </tr>\n    <tr>\n      <th>34</th>\n      <td>SE_20 46</td>\n      <td>465.0</td>\n      <td>12680.0</td>\n      <td>15.0</td>\n      <td>4898.0</td>\n      <td>1885.0</td>\n      <td>19943.0</td>\n      <td>46</td>\n      <td>Mon Nov 16 00:00:00 2020</td>\n      <td>16/11/2020</td>\n    </tr>\n    <tr>\n      <th>35</th>\n      <td>SE_20 47</td>\n      <td>475.0</td>\n      <td>12839.0</td>\n      <td>15.0</td>\n      <td>4946.0</td>\n      <td>1901.0</td>\n      <td>20176.0</td>\n      <td>47</td>\n      <td>Mon Nov 23 00:00:00 2020</td>\n      <td>23/11/2020</td>\n    </tr>\n    <tr>\n      <th>36</th>\n      <td>SE_20 48</td>\n      <td>484.0</td>\n      <td>13031.0</td>\n      <td>15.0</td>\n      <td>4997.0</td>\n      <td>1931.0</td>\n      <td>20458.0</td>\n      <td>48</td>\n      <td>Mon Nov 30 00:00:00 2020</td>\n      <td>30/11/2020</td>\n    </tr>\n    <tr>\n      <th>37</th>\n      <td>SE_20 49</td>\n      <td>492.0</td>\n      <td>13259.0</td>\n      <td>15.0</td>\n      <td>5073.0</td>\n      <td>1958.0</td>\n      <td>20797.0</td>\n      <td>49</td>\n      <td>Mon Dec  7 00:00:00 2020</td>\n      <td>07/12/2020</td>\n    </tr>\n    <tr>\n      <th>38</th>\n      <td>SE_20 50</td>\n      <td>503.0</td>\n      <td>13521.0</td>\n      <td>16.0</td>\n      <td>5139.0</td>\n      <td>1998.0</td>\n      <td>21177.0</td>\n      <td>50</td>\n      <td>Mon Dec 14 00:00:00 2020</td>\n      <td>14/12/2020</td>\n    </tr>\n    <tr>\n      <th>39</th>\n      <td>SE_20 51</td>\n      <td>514.0</td>\n      <td>13822.0</td>\n      <td>16.0</td>\n      <td>5223.0</td>\n      <td>2037.0</td>\n      <td>21612.0</td>\n      <td>51</td>\n      <td>Mon Dec 21 00:00:00 2020</td>\n      <td>21/12/2020</td>\n    </tr>\n    <tr>\n      <th>40</th>\n      <td>SE_20 52</td>\n      <td>529.0</td>\n      <td>14106.0</td>\n      <td>16.0</td>\n      <td>5303.0</td>\n      <td>2081.0</td>\n      <td>22035.0</td>\n      <td>52</td>\n      <td>Mon Dec 28 00:00:00 2020</td>\n      <td>28/12/2020</td>\n    </tr>\n  </tbody>\n</table>\n</div>",
      "text/plain": "      Semana  Amarela   Branca  Indígena   Parda   Preta    Total Semana_Num  \\\n0   SE_20 12      2.0     51.0       0.0     5.0     2.0     60.0         12   \n1   SE_20 13     12.0    229.0       1.0    42.0    17.0    301.0         13   \n2   SE_20 14     28.0    591.0       1.0   168.0    71.0    859.0         14   \n3   SE_20 15     45.0   1028.0       3.0   339.0   135.0   1550.0         15   \n4   SE_20 16     64.0   1470.0       3.0   526.0   190.0   2253.0         16   \n5   SE_20 17     92.0   1971.0       4.0   733.0   268.0   3068.0         17   \n6   SE_20 18    116.0   2605.0       4.0  1016.0   370.0   4111.0         18   \n7   SE_20 19    146.0   3220.0       6.0  1317.0   456.0   5145.0         19   \n8   SE_20 20    164.0   3905.0       7.0  1615.0   576.0   6267.0         20   \n9   SE_20 21    183.0   4573.0       8.0  1940.0   661.0   7365.0         21   \n10  SE_20 22    202.0   5260.0       8.0  2210.0   768.0   8448.0         22   \n11  SE_20 23    224.0   5914.0       9.0  2472.0   885.0   9504.0         23   \n12  SE_20 24    248.0   6572.0      10.0  2742.0   997.0  10569.0         24   \n13  SE_20 25    263.0   7127.0      11.0  2951.0  1093.0  11445.0         25   \n14  SE_20 26    279.0   7613.0      11.0  3126.0  1170.0  12199.0         26   \n15  SE_20 27    300.0   8038.0      11.0  3282.0  1245.0  12876.0         27   \n16  SE_20 28    311.0   8477.0      11.0  3432.0  1304.0  13535.0         28   \n17  SE_20 29    330.0   8918.0      12.0  3574.0  1373.0  14207.0         29   \n18  SE_20 30    335.0   9325.0      12.0  3722.0  1435.0  14829.0         30   \n19  SE_20 31    348.0   9679.0      12.0  3849.0  1477.0  15365.0         31   \n20  SE_20 32    366.0  10057.0      12.0  3991.0  1518.0  15944.0         32   \n21  SE_20 33    377.0  10387.0      12.0  4120.0  1569.0  16465.0         33   \n22  SE_20 34    388.0  10669.0      12.0  4224.0  1612.0  16905.0         34   \n23  SE_20 35    399.0  10969.0      12.0  4312.0  1639.0  17331.0         35   \n24  SE_20 36    410.0  11207.0      12.0  4392.0  1674.0  17695.0         36   \n25  SE_20 37    421.0  11446.0      13.0  4477.0  1705.0  18062.0         37   \n26  SE_20 38    427.0  11657.0      13.0  4542.0  1739.0  18378.0         38   \n27  SE_20 39    432.0  11821.0      14.0  4595.0  1766.0  18628.0         39   \n28  SE_20 40    437.0  11997.0      14.0  4649.0  1789.0  18886.0         40   \n29  SE_20 41    441.0  12135.0      14.0  4705.0  1808.0  19103.0         41   \n30  SE_20 42    447.0  12241.0      14.0  4752.0  1828.0  19282.0         42   \n31  SE_20 43    451.0  12333.0      14.0  4783.0  1846.0  19427.0         43   \n32  SE_20 44    457.0  12438.0      14.0  4820.0  1855.0  19584.0         44   \n33  SE_20 45    459.0  12543.0      15.0  4856.0  1869.0  19742.0         45   \n34  SE_20 46    465.0  12680.0      15.0  4898.0  1885.0  19943.0         46   \n35  SE_20 47    475.0  12839.0      15.0  4946.0  1901.0  20176.0         47   \n36  SE_20 48    484.0  13031.0      15.0  4997.0  1931.0  20458.0         48   \n37  SE_20 49    492.0  13259.0      15.0  5073.0  1958.0  20797.0         49   \n38  SE_20 50    503.0  13521.0      16.0  5139.0  1998.0  21177.0         50   \n39  SE_20 51    514.0  13822.0      16.0  5223.0  2037.0  21612.0         51   \n40  SE_20 52    529.0  14106.0      16.0  5303.0  2081.0  22035.0         52   \n\n                        Data   Data_Simp  \n0   Mon Mar 23 00:00:00 2020  23/03/2020  \n1   Mon Mar 30 00:00:00 2020  30/03/2020  \n2   Mon Apr  6 00:00:00 2020  06/04/2020  \n3   Mon Apr 13 00:00:00 2020  13/04/2020  \n4   Mon Apr 20 00:00:00 2020  20/04/2020  \n5   Mon Apr 27 00:00:00 2020  27/04/2020  \n6   Mon May  4 00:00:00 2020  04/05/2020  \n7   Mon May 11 00:00:00 2020  11/05/2020  \n8   Mon May 18 00:00:00 2020  18/05/2020  \n9   Mon May 25 00:00:00 2020  25/05/2020  \n10  Mon Jun  1 00:00:00 2020  01/06/2020  \n11  Mon Jun  8 00:00:00 2020  08/06/2020  \n12  Mon Jun 15 00:00:00 2020  15/06/2020  \n13  Mon Jun 22 00:00:00 2020  22/06/2020  \n14  Mon Jun 29 00:00:00 2020  29/06/2020  \n15  Mon Jul  6 00:00:00 2020  06/07/2020  \n16  Mon Jul 13 00:00:00 2020  13/07/2020  \n17  Mon Jul 20 00:00:00 2020  20/07/2020  \n18  Mon Jul 27 00:00:00 2020  27/07/2020  \n19  Mon Aug  3 00:00:00 2020  03/08/2020  \n20  Mon Aug 10 00:00:00 2020  10/08/2020  \n21  Mon Aug 17 00:00:00 2020  17/08/2020  \n22  Mon Aug 24 00:00:00 2020  24/08/2020  \n23  Mon Aug 31 00:00:00 2020  31/08/2020  \n24  Mon Sep  7 00:00:00 2020  07/09/2020  \n25  Mon Sep 14 00:00:00 2020  14/09/2020  \n26  Mon Sep 21 00:00:00 2020  21/09/2020  \n27  Mon Sep 28 00:00:00 2020  28/09/2020  \n28  Mon Oct  5 00:00:00 2020  05/10/2020  \n29  Mon Oct 12 00:00:00 2020  12/10/2020  \n30  Mon Oct 19 00:00:00 2020  19/10/2020  \n31  Mon Oct 26 00:00:00 2020  26/10/2020  \n32  Mon Nov  2 00:00:00 2020  02/11/2020  \n33  Mon Nov  9 00:00:00 2020  09/11/2020  \n34  Mon Nov 16 00:00:00 2020  16/11/2020  \n35  Mon Nov 23 00:00:00 2020  23/11/2020  \n36  Mon Nov 30 00:00:00 2020  30/11/2020  \n37  Mon Dec  7 00:00:00 2020  07/12/2020  \n38  Mon Dec 14 00:00:00 2020  14/12/2020  \n39  Mon Dec 21 00:00:00 2020  21/12/2020  \n40  Mon Dec 28 00:00:00 2020  28/12/2020  "
     },
     "metadata": {},
     "output_type": "display_data"
    }
   ],
   "source": [
    "display(df_total)"
   ]
  },
  {
   "cell_type": "code",
   "execution_count": 32,
   "metadata": {},
   "outputs": [],
   "source": [
    "df_total.to_csv('cor-semana-pivot-tratado-total-dates-simp.csv')"
   ]
  }
 ],
 "metadata": {
  "interpreter": {
   "hash": "535f5171c715a0e97d7369109d670d6f9b39daf3ff35d9b2326d3a20b899b7ac"
  },
  "kernelspec": {
   "display_name": "Python 3.7.3 64-bit ('base': conda)",
   "name": "python373jvsc74a57bd0c8786e068652b7f12a3e1bf2aa2bbfcb04eb64ab636cba77baf09f1ee5420691"
  },
  "language_info": {
   "codemirror_mode": {
    "name": "ipython",
    "version": 3
   },
   "file_extension": ".py",
   "mimetype": "text/x-python",
   "name": "python",
   "nbconvert_exporter": "python",
   "pygments_lexer": "ipython3",
   "version": "3.7.3"
  },
  "orig_nbformat": 4
 },
 "nbformat": 4,
 "nbformat_minor": 2
}